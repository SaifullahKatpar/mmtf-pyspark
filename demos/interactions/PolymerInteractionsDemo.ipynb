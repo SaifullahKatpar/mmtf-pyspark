{
 "cells": [
  {
   "cell_type": "markdown",
   "metadata": {},
   "source": [
    "# Calculating Polymer Interactions\n",
    "\n",
    "Demo how to calculate inter-chain and intra-chain polymer-polymer interactions. Polymers are chains of proteins, DNA, or RNA."
   ]
  },
  {
   "cell_type": "code",
   "execution_count": 1,
   "metadata": {
    "scrolled": true
   },
   "outputs": [],
   "source": [
    "from pyspark.sql import SparkSession                  \n",
    "from mmtfPyspark.io import mmtfReader\n",
    "from mmtfPyspark.interactions import InteractionExtractor, InteractionFilter                                "
   ]
  },
  {
   "cell_type": "markdown",
   "metadata": {},
   "source": [
    "#### Configure Spark "
   ]
  },
  {
   "cell_type": "code",
   "execution_count": 2,
   "metadata": {},
   "outputs": [],
   "source": [
    "spark = SparkSession.builder.master(\"local[4]\").appName(\"PolymerInteractionsDemo\").getOrCreate()"
   ]
  },
  {
   "cell_type": "markdown",
   "metadata": {},
   "source": [
    "## Download a sample PDB structures"
   ]
  },
  {
   "cell_type": "code",
   "execution_count": 3,
   "metadata": {},
   "outputs": [],
   "source": [
    "pdb = mmtfReader.download_mmtf_files(['1OHR', '6CUH'])"
   ]
  },
  {
   "cell_type": "markdown",
   "metadata": {},
   "source": [
    "## Define Interaction Filter\n",
    "Interaction filters define the criteria for find interactions. Here, we present a couple of simple examples. More advanced options are available."
   ]
  },
  {
   "cell_type": "markdown",
   "metadata": {},
   "source": [
    "#### Define disulfide bond"
   ]
  },
  {
   "cell_type": "code",
   "execution_count": 4,
   "metadata": {},
   "outputs": [],
   "source": [
    "disulfide_bond = InteractionFilter(distanceCutoff=3.0)\n",
    "disulfide_bond.set_query_groups(True, 'CYS')\n",
    "disulfide_bond.set_query_atom_names(True, 'SG')\n",
    "disulfide_bond.set_target_groups(True, 'CYS')\n",
    "disulfide_bond.set_target_atom_names(True, 'SG')"
   ]
  },
  {
   "cell_type": "markdown",
   "metadata": {},
   "source": [
    "#### Define salt bridge interactions"
   ]
  },
  {
   "cell_type": "code",
   "execution_count": 5,
   "metadata": {},
   "outputs": [],
   "source": [
    "salt_bridge = InteractionFilter(distanceCutoff=3.5)\n",
    "salt_bridge.set_query_groups(True, ['ASP', 'GLU'])\n",
    "salt_bridge.set_query_atom_names(True, ['OD1', 'OD2', 'OE1', 'OE2'])\n",
    "salt_bridge.set_target_groups(True, ['ARG', 'LYS', 'HIS'])\n",
    "salt_bridge.set_target_atom_names(True, ['NH1', 'NH2', 'NZ', 'ND1', 'NE2'])"
   ]
  },
  {
   "cell_type": "markdown",
   "metadata": {},
   "source": [
    "## Find Interactions\n",
    "Using the interaction filters defined above we can find these interactions between chains (inter-chain) and within chains (intra-chain).\n",
    "\n",
    "By default, inter-chain interactions are calculated."
   ]
  },
  {
   "cell_type": "markdown",
   "metadata": {},
   "source": [
    "#### Find inter-chain disulfide bonds\n",
    "Note that the queryChainId and targetChainId for each interaction is different."
   ]
  },
  {
   "cell_type": "code",
   "execution_count": 6,
   "metadata": {
    "scrolled": true
   },
   "outputs": [
    {
     "data": {
      "text/html": [
       "<div>\n",
       "<style scoped>\n",
       "    .dataframe tbody tr th:only-of-type {\n",
       "        vertical-align: middle;\n",
       "    }\n",
       "\n",
       "    .dataframe tbody tr th {\n",
       "        vertical-align: top;\n",
       "    }\n",
       "\n",
       "    .dataframe thead th {\n",
       "        text-align: right;\n",
       "    }\n",
       "</style>\n",
       "<table border=\"1\" class=\"dataframe\">\n",
       "  <thead>\n",
       "    <tr style=\"text-align: right;\">\n",
       "      <th></th>\n",
       "      <th>structureChainId</th>\n",
       "      <th>queryGroupId</th>\n",
       "      <th>queryChainId</th>\n",
       "      <th>queryGroupNumber</th>\n",
       "      <th>targetGroupId</th>\n",
       "      <th>targetChainId</th>\n",
       "      <th>targetGroupNumber</th>\n",
       "      <th>sequenceIndex</th>\n",
       "      <th>sequence</th>\n",
       "    </tr>\n",
       "  </thead>\n",
       "  <tbody>\n",
       "    <tr>\n",
       "      <th>0</th>\n",
       "      <td>6CUH.A</td>\n",
       "      <td>CYS</td>\n",
       "      <td>B</td>\n",
       "      <td>172</td>\n",
       "      <td>CYS</td>\n",
       "      <td>A</td>\n",
       "      <td>161</td>\n",
       "      <td>160</td>\n",
       "      <td>GNSVTQMEGPVTLSEEAFLTINCTYTATGYPSLFWYVQYPGEGLQL...</td>\n",
       "    </tr>\n",
       "    <tr>\n",
       "      <th>1</th>\n",
       "      <td>6CUH.B</td>\n",
       "      <td>CYS</td>\n",
       "      <td>A</td>\n",
       "      <td>161</td>\n",
       "      <td>CYS</td>\n",
       "      <td>B</td>\n",
       "      <td>172</td>\n",
       "      <td>171</td>\n",
       "      <td>NAGVTQTPKFRVLKTGQSMTLLCAQDMNHEYMYWYRQDPGMGLRLI...</td>\n",
       "    </tr>\n",
       "  </tbody>\n",
       "</table>\n",
       "</div>"
      ],
      "text/plain": [
       "  structureChainId queryGroupId queryChainId queryGroupNumber targetGroupId  \\\n",
       "0           6CUH.A          CYS            B              172           CYS   \n",
       "1           6CUH.B          CYS            A              161           CYS   \n",
       "\n",
       "  targetChainId targetGroupNumber  sequenceIndex  \\\n",
       "0             A               161            160   \n",
       "1             B               172            171   \n",
       "\n",
       "                                            sequence  \n",
       "0  GNSVTQMEGPVTLSEEAFLTINCTYTATGYPSLFWYVQYPGEGLQL...  \n",
       "1  NAGVTQTPKFRVLKTGQSMTLLCAQDMNHEYMYWYRQDPGMGLRLI...  "
      ]
     },
     "execution_count": 6,
     "metadata": {},
     "output_type": "execute_result"
    }
   ],
   "source": [
    "interactions = InteractionExtractor.get_polymer_interactions(pdb, disulfide_bond)\n",
    "interactions.toPandas()"
   ]
  },
  {
   "cell_type": "markdown",
   "metadata": {},
   "source": [
    "#### Find intra-chain disulfide bonds"
   ]
  },
  {
   "cell_type": "markdown",
   "metadata": {},
   "source": [
    "By setting the flags ```intra='True'``` and/or ```inter='True'```, intra-chain, inter-chain, or both can be reported. \n",
    "\n",
    "Here, we calculate the intra-chain disulfide bonds."
   ]
  },
  {
   "cell_type": "code",
   "execution_count": 7,
   "metadata": {
    "scrolled": false
   },
   "outputs": [
    {
     "data": {
      "text/html": [
       "<div>\n",
       "<style scoped>\n",
       "    .dataframe tbody tr th:only-of-type {\n",
       "        vertical-align: middle;\n",
       "    }\n",
       "\n",
       "    .dataframe tbody tr th {\n",
       "        vertical-align: top;\n",
       "    }\n",
       "\n",
       "    .dataframe thead th {\n",
       "        text-align: right;\n",
       "    }\n",
       "</style>\n",
       "<table border=\"1\" class=\"dataframe\">\n",
       "  <thead>\n",
       "    <tr style=\"text-align: right;\">\n",
       "      <th></th>\n",
       "      <th>structureChainId</th>\n",
       "      <th>queryGroupId</th>\n",
       "      <th>queryChainId</th>\n",
       "      <th>queryGroupNumber</th>\n",
       "      <th>targetGroupId</th>\n",
       "      <th>targetChainId</th>\n",
       "      <th>targetGroupNumber</th>\n",
       "      <th>sequenceIndex</th>\n",
       "      <th>sequence</th>\n",
       "    </tr>\n",
       "  </thead>\n",
       "  <tbody>\n",
       "    <tr>\n",
       "      <th>0</th>\n",
       "      <td>6CUH.A</td>\n",
       "      <td>CYS</td>\n",
       "      <td>A</td>\n",
       "      <td>23</td>\n",
       "      <td>CYS</td>\n",
       "      <td>A</td>\n",
       "      <td>90</td>\n",
       "      <td>89</td>\n",
       "      <td>GNSVTQMEGPVTLSEEAFLTINCTYTATGYPSLFWYVQYPGEGLQL...</td>\n",
       "    </tr>\n",
       "    <tr>\n",
       "      <th>1</th>\n",
       "      <td>6CUH.A</td>\n",
       "      <td>CYS</td>\n",
       "      <td>A</td>\n",
       "      <td>90</td>\n",
       "      <td>CYS</td>\n",
       "      <td>A</td>\n",
       "      <td>23</td>\n",
       "      <td>22</td>\n",
       "      <td>GNSVTQMEGPVTLSEEAFLTINCTYTATGYPSLFWYVQYPGEGLQL...</td>\n",
       "    </tr>\n",
       "    <tr>\n",
       "      <th>2</th>\n",
       "      <td>6CUH.B</td>\n",
       "      <td>CYS</td>\n",
       "      <td>B</td>\n",
       "      <td>146</td>\n",
       "      <td>CYS</td>\n",
       "      <td>B</td>\n",
       "      <td>211</td>\n",
       "      <td>210</td>\n",
       "      <td>NAGVTQTPKFRVLKTGQSMTLLCAQDMNHEYMYWYRQDPGMGLRLI...</td>\n",
       "    </tr>\n",
       "    <tr>\n",
       "      <th>3</th>\n",
       "      <td>6CUH.A</td>\n",
       "      <td>CYS</td>\n",
       "      <td>A</td>\n",
       "      <td>136</td>\n",
       "      <td>CYS</td>\n",
       "      <td>A</td>\n",
       "      <td>186</td>\n",
       "      <td>185</td>\n",
       "      <td>GNSVTQMEGPVTLSEEAFLTINCTYTATGYPSLFWYVQYPGEGLQL...</td>\n",
       "    </tr>\n",
       "    <tr>\n",
       "      <th>4</th>\n",
       "      <td>6CUH.B</td>\n",
       "      <td>CYS</td>\n",
       "      <td>B</td>\n",
       "      <td>91</td>\n",
       "      <td>CYS</td>\n",
       "      <td>B</td>\n",
       "      <td>23</td>\n",
       "      <td>22</td>\n",
       "      <td>NAGVTQTPKFRVLKTGQSMTLLCAQDMNHEYMYWYRQDPGMGLRLI...</td>\n",
       "    </tr>\n",
       "    <tr>\n",
       "      <th>5</th>\n",
       "      <td>6CUH.B</td>\n",
       "      <td>CYS</td>\n",
       "      <td>B</td>\n",
       "      <td>23</td>\n",
       "      <td>CYS</td>\n",
       "      <td>B</td>\n",
       "      <td>91</td>\n",
       "      <td>90</td>\n",
       "      <td>NAGVTQTPKFRVLKTGQSMTLLCAQDMNHEYMYWYRQDPGMGLRLI...</td>\n",
       "    </tr>\n",
       "    <tr>\n",
       "      <th>6</th>\n",
       "      <td>6CUH.A</td>\n",
       "      <td>CYS</td>\n",
       "      <td>A</td>\n",
       "      <td>186</td>\n",
       "      <td>CYS</td>\n",
       "      <td>A</td>\n",
       "      <td>136</td>\n",
       "      <td>135</td>\n",
       "      <td>GNSVTQMEGPVTLSEEAFLTINCTYTATGYPSLFWYVQYPGEGLQL...</td>\n",
       "    </tr>\n",
       "    <tr>\n",
       "      <th>7</th>\n",
       "      <td>6CUH.B</td>\n",
       "      <td>CYS</td>\n",
       "      <td>B</td>\n",
       "      <td>211</td>\n",
       "      <td>CYS</td>\n",
       "      <td>B</td>\n",
       "      <td>146</td>\n",
       "      <td>145</td>\n",
       "      <td>NAGVTQTPKFRVLKTGQSMTLLCAQDMNHEYMYWYRQDPGMGLRLI...</td>\n",
       "    </tr>\n",
       "  </tbody>\n",
       "</table>\n",
       "</div>"
      ],
      "text/plain": [
       "  structureChainId queryGroupId queryChainId queryGroupNumber targetGroupId  \\\n",
       "0           6CUH.A          CYS            A               23           CYS   \n",
       "1           6CUH.A          CYS            A               90           CYS   \n",
       "2           6CUH.B          CYS            B              146           CYS   \n",
       "3           6CUH.A          CYS            A              136           CYS   \n",
       "4           6CUH.B          CYS            B               91           CYS   \n",
       "5           6CUH.B          CYS            B               23           CYS   \n",
       "6           6CUH.A          CYS            A              186           CYS   \n",
       "7           6CUH.B          CYS            B              211           CYS   \n",
       "\n",
       "  targetChainId targetGroupNumber  sequenceIndex  \\\n",
       "0             A                90             89   \n",
       "1             A                23             22   \n",
       "2             B               211            210   \n",
       "3             A               186            185   \n",
       "4             B                23             22   \n",
       "5             B                91             90   \n",
       "6             A               136            135   \n",
       "7             B               146            145   \n",
       "\n",
       "                                            sequence  \n",
       "0  GNSVTQMEGPVTLSEEAFLTINCTYTATGYPSLFWYVQYPGEGLQL...  \n",
       "1  GNSVTQMEGPVTLSEEAFLTINCTYTATGYPSLFWYVQYPGEGLQL...  \n",
       "2  NAGVTQTPKFRVLKTGQSMTLLCAQDMNHEYMYWYRQDPGMGLRLI...  \n",
       "3  GNSVTQMEGPVTLSEEAFLTINCTYTATGYPSLFWYVQYPGEGLQL...  \n",
       "4  NAGVTQTPKFRVLKTGQSMTLLCAQDMNHEYMYWYRQDPGMGLRLI...  \n",
       "5  NAGVTQTPKFRVLKTGQSMTLLCAQDMNHEYMYWYRQDPGMGLRLI...  \n",
       "6  GNSVTQMEGPVTLSEEAFLTINCTYTATGYPSLFWYVQYPGEGLQL...  \n",
       "7  NAGVTQTPKFRVLKTGQSMTLLCAQDMNHEYMYWYRQDPGMGLRLI...  "
      ]
     },
     "execution_count": 7,
     "metadata": {},
     "output_type": "execute_result"
    }
   ],
   "source": [
    "interactions = InteractionExtractor.get_polymer_interactions(pdb, disulfide_bond, inter=False, intra=True)\n",
    "interactions.toPandas()"
   ]
  },
  {
   "cell_type": "markdown",
   "metadata": {},
   "source": [
    "## Report interactions at the group and atom level\n",
    "By default, interactions are reported at the group (residue) level"
   ]
  },
  {
   "cell_type": "markdown",
   "metadata": {},
   "source": [
    "#### Find inter-chain salt bridges at the group level"
   ]
  },
  {
   "cell_type": "code",
   "execution_count": 8,
   "metadata": {
    "scrolled": true
   },
   "outputs": [
    {
     "data": {
      "text/html": [
       "<div>\n",
       "<style scoped>\n",
       "    .dataframe tbody tr th:only-of-type {\n",
       "        vertical-align: middle;\n",
       "    }\n",
       "\n",
       "    .dataframe tbody tr th {\n",
       "        vertical-align: top;\n",
       "    }\n",
       "\n",
       "    .dataframe thead th {\n",
       "        text-align: right;\n",
       "    }\n",
       "</style>\n",
       "<table border=\"1\" class=\"dataframe\">\n",
       "  <thead>\n",
       "    <tr style=\"text-align: right;\">\n",
       "      <th></th>\n",
       "      <th>structureChainId</th>\n",
       "      <th>queryGroupId</th>\n",
       "      <th>queryChainId</th>\n",
       "      <th>queryGroupNumber</th>\n",
       "      <th>targetGroupId</th>\n",
       "      <th>targetChainId</th>\n",
       "      <th>targetGroupNumber</th>\n",
       "      <th>sequenceIndex</th>\n",
       "      <th>sequence</th>\n",
       "    </tr>\n",
       "  </thead>\n",
       "  <tbody>\n",
       "    <tr>\n",
       "      <th>0</th>\n",
       "      <td>6CUH.B</td>\n",
       "      <td>ASP</td>\n",
       "      <td>A</td>\n",
       "      <td>140</td>\n",
       "      <td>ARG</td>\n",
       "      <td>B</td>\n",
       "      <td>196</td>\n",
       "      <td>195</td>\n",
       "      <td>NAGVTQTPKFRVLKTGQSMTLLCAQDMNHEYMYWYRQDPGMGLRLI...</td>\n",
       "    </tr>\n",
       "    <tr>\n",
       "      <th>1</th>\n",
       "      <td>6CUH.B</td>\n",
       "      <td>ASP</td>\n",
       "      <td>A</td>\n",
       "      <td>119</td>\n",
       "      <td>HIS</td>\n",
       "      <td>B</td>\n",
       "      <td>138</td>\n",
       "      <td>137</td>\n",
       "      <td>NAGVTQTPKFRVLKTGQSMTLLCAQDMNHEYMYWYRQDPGMGLRLI...</td>\n",
       "    </tr>\n",
       "    <tr>\n",
       "      <th>2</th>\n",
       "      <td>1OHR.A</td>\n",
       "      <td>ASP</td>\n",
       "      <td>B</td>\n",
       "      <td>29</td>\n",
       "      <td>ARG</td>\n",
       "      <td>A</td>\n",
       "      <td>8</td>\n",
       "      <td>7</td>\n",
       "      <td>PQITLWQRPLVTIKIGGQLKEALLDTGADDTVLEEMSLPGRWKPKM...</td>\n",
       "    </tr>\n",
       "    <tr>\n",
       "      <th>3</th>\n",
       "      <td>1OHR.B</td>\n",
       "      <td>ASP</td>\n",
       "      <td>A</td>\n",
       "      <td>29</td>\n",
       "      <td>ARG</td>\n",
       "      <td>B</td>\n",
       "      <td>8</td>\n",
       "      <td>7</td>\n",
       "      <td>PQITLWQRPLVTIKIGGQLKEALLDTGADDTVLEEMSLPGRWKPKM...</td>\n",
       "    </tr>\n",
       "  </tbody>\n",
       "</table>\n",
       "</div>"
      ],
      "text/plain": [
       "  structureChainId queryGroupId queryChainId queryGroupNumber targetGroupId  \\\n",
       "0           6CUH.B          ASP            A              140           ARG   \n",
       "1           6CUH.B          ASP            A              119           HIS   \n",
       "2           1OHR.A          ASP            B               29           ARG   \n",
       "3           1OHR.B          ASP            A               29           ARG   \n",
       "\n",
       "  targetChainId targetGroupNumber  sequenceIndex  \\\n",
       "0             B               196            195   \n",
       "1             B               138            137   \n",
       "2             A                 8              7   \n",
       "3             B                 8              7   \n",
       "\n",
       "                                            sequence  \n",
       "0  NAGVTQTPKFRVLKTGQSMTLLCAQDMNHEYMYWYRQDPGMGLRLI...  \n",
       "1  NAGVTQTPKFRVLKTGQSMTLLCAQDMNHEYMYWYRQDPGMGLRLI...  \n",
       "2  PQITLWQRPLVTIKIGGQLKEALLDTGADDTVLEEMSLPGRWKPKM...  \n",
       "3  PQITLWQRPLVTIKIGGQLKEALLDTGADDTVLEEMSLPGRWKPKM...  "
      ]
     },
     "execution_count": 8,
     "metadata": {},
     "output_type": "execute_result"
    }
   ],
   "source": [
    "interactions = InteractionExtractor.get_polymer_interactions(pdb, salt_bridge)\n",
    "interactions.toPandas()"
   ]
  },
  {
   "cell_type": "markdown",
   "metadata": {},
   "source": [
    "#### Find inter-chain salt bridges at the atom level"
   ]
  },
  {
   "cell_type": "markdown",
   "metadata": {},
   "source": [
    "By setting the flags ```level='atom'``` or ```level='group'```, interactions can be reported at the atom or group level.\n",
    "\n",
    "At the atom level, the **atom names** and **distances** of the interactions are reported."
   ]
  },
  {
   "cell_type": "code",
   "execution_count": 9,
   "metadata": {
    "scrolled": true
   },
   "outputs": [
    {
     "data": {
      "text/html": [
       "<div>\n",
       "<style scoped>\n",
       "    .dataframe tbody tr th:only-of-type {\n",
       "        vertical-align: middle;\n",
       "    }\n",
       "\n",
       "    .dataframe tbody tr th {\n",
       "        vertical-align: top;\n",
       "    }\n",
       "\n",
       "    .dataframe thead th {\n",
       "        text-align: right;\n",
       "    }\n",
       "</style>\n",
       "<table border=\"1\" class=\"dataframe\">\n",
       "  <thead>\n",
       "    <tr style=\"text-align: right;\">\n",
       "      <th></th>\n",
       "      <th>structureChainId</th>\n",
       "      <th>queryGroupId</th>\n",
       "      <th>queryChainId</th>\n",
       "      <th>queryGroupNumber</th>\n",
       "      <th>queryAtomName</th>\n",
       "      <th>targetGroupId</th>\n",
       "      <th>targetChainId</th>\n",
       "      <th>targetGroupNumber</th>\n",
       "      <th>targetAtomName</th>\n",
       "      <th>distance</th>\n",
       "      <th>sequenceIndex</th>\n",
       "      <th>sequence</th>\n",
       "    </tr>\n",
       "  </thead>\n",
       "  <tbody>\n",
       "    <tr>\n",
       "      <th>0</th>\n",
       "      <td>6CUH.B</td>\n",
       "      <td>ASP</td>\n",
       "      <td>A</td>\n",
       "      <td>140</td>\n",
       "      <td>OD2</td>\n",
       "      <td>ARG</td>\n",
       "      <td>B</td>\n",
       "      <td>196</td>\n",
       "      <td>NH1</td>\n",
       "      <td>2.963164</td>\n",
       "      <td>195</td>\n",
       "      <td>NAGVTQTPKFRVLKTGQSMTLLCAQDMNHEYMYWYRQDPGMGLRLI...</td>\n",
       "    </tr>\n",
       "    <tr>\n",
       "      <th>1</th>\n",
       "      <td>6CUH.B</td>\n",
       "      <td>ASP</td>\n",
       "      <td>A</td>\n",
       "      <td>140</td>\n",
       "      <td>OD1</td>\n",
       "      <td>ARG</td>\n",
       "      <td>B</td>\n",
       "      <td>196</td>\n",
       "      <td>NH2</td>\n",
       "      <td>2.748617</td>\n",
       "      <td>195</td>\n",
       "      <td>NAGVTQTPKFRVLKTGQSMTLLCAQDMNHEYMYWYRQDPGMGLRLI...</td>\n",
       "    </tr>\n",
       "    <tr>\n",
       "      <th>2</th>\n",
       "      <td>6CUH.B</td>\n",
       "      <td>ASP</td>\n",
       "      <td>A</td>\n",
       "      <td>119</td>\n",
       "      <td>OD2</td>\n",
       "      <td>HIS</td>\n",
       "      <td>B</td>\n",
       "      <td>138</td>\n",
       "      <td>NE2</td>\n",
       "      <td>2.739698</td>\n",
       "      <td>137</td>\n",
       "      <td>NAGVTQTPKFRVLKTGQSMTLLCAQDMNHEYMYWYRQDPGMGLRLI...</td>\n",
       "    </tr>\n",
       "    <tr>\n",
       "      <th>3</th>\n",
       "      <td>1OHR.A</td>\n",
       "      <td>ASP</td>\n",
       "      <td>B</td>\n",
       "      <td>29</td>\n",
       "      <td>OD2</td>\n",
       "      <td>ARG</td>\n",
       "      <td>A</td>\n",
       "      <td>8</td>\n",
       "      <td>NH2</td>\n",
       "      <td>2.875426</td>\n",
       "      <td>7</td>\n",
       "      <td>PQITLWQRPLVTIKIGGQLKEALLDTGADDTVLEEMSLPGRWKPKM...</td>\n",
       "    </tr>\n",
       "    <tr>\n",
       "      <th>4</th>\n",
       "      <td>1OHR.B</td>\n",
       "      <td>ASP</td>\n",
       "      <td>A</td>\n",
       "      <td>29</td>\n",
       "      <td>OD2</td>\n",
       "      <td>ARG</td>\n",
       "      <td>B</td>\n",
       "      <td>8</td>\n",
       "      <td>NH2</td>\n",
       "      <td>2.774146</td>\n",
       "      <td>7</td>\n",
       "      <td>PQITLWQRPLVTIKIGGQLKEALLDTGADDTVLEEMSLPGRWKPKM...</td>\n",
       "    </tr>\n",
       "  </tbody>\n",
       "</table>\n",
       "</div>"
      ],
      "text/plain": [
       "  structureChainId queryGroupId queryChainId queryGroupNumber queryAtomName  \\\n",
       "0           6CUH.B          ASP            A              140           OD2   \n",
       "1           6CUH.B          ASP            A              140           OD1   \n",
       "2           6CUH.B          ASP            A              119           OD2   \n",
       "3           1OHR.A          ASP            B               29           OD2   \n",
       "4           1OHR.B          ASP            A               29           OD2   \n",
       "\n",
       "  targetGroupId targetChainId targetGroupNumber targetAtomName  distance  \\\n",
       "0           ARG             B               196            NH1  2.963164   \n",
       "1           ARG             B               196            NH2  2.748617   \n",
       "2           HIS             B               138            NE2  2.739698   \n",
       "3           ARG             A                 8            NH2  2.875426   \n",
       "4           ARG             B                 8            NH2  2.774146   \n",
       "\n",
       "   sequenceIndex                                           sequence  \n",
       "0            195  NAGVTQTPKFRVLKTGQSMTLLCAQDMNHEYMYWYRQDPGMGLRLI...  \n",
       "1            195  NAGVTQTPKFRVLKTGQSMTLLCAQDMNHEYMYWYRQDPGMGLRLI...  \n",
       "2            137  NAGVTQTPKFRVLKTGQSMTLLCAQDMNHEYMYWYRQDPGMGLRLI...  \n",
       "3              7  PQITLWQRPLVTIKIGGQLKEALLDTGADDTVLEEMSLPGRWKPKM...  \n",
       "4              7  PQITLWQRPLVTIKIGGQLKEALLDTGADDTVLEEMSLPGRWKPKM...  "
      ]
     },
     "execution_count": 9,
     "metadata": {},
     "output_type": "execute_result"
    }
   ],
   "source": [
    "interactions = InteractionExtractor.get_polymer_interactions(pdb, salt_bridge, level='atom')\n",
    "interactions.toPandas()"
   ]
  },
  {
   "cell_type": "markdown",
   "metadata": {},
   "source": [
    "## Terminate Spark"
   ]
  },
  {
   "cell_type": "code",
   "execution_count": 10,
   "metadata": {},
   "outputs": [],
   "source": [
    "spark.stop()"
   ]
  }
 ],
 "metadata": {
  "kernelspec": {
   "display_name": "Python 3",
   "language": "python",
   "name": "python3"
  },
  "language_info": {
   "codemirror_mode": {
    "name": "ipython",
    "version": 3
   },
   "file_extension": ".py",
   "mimetype": "text/x-python",
   "name": "python",
   "nbconvert_exporter": "python",
   "pygments_lexer": "ipython3",
   "version": "3.7.1"
  }
 },
 "nbformat": 4,
 "nbformat_minor": 2
}
