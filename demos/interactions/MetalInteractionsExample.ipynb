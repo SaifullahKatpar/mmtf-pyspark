{
 "cells": [
  {
   "cell_type": "markdown",
   "metadata": {},
   "source": [
    "# Analyze metal interactions"
   ]
  },
  {
   "cell_type": "code",
   "execution_count": 1,
   "metadata": {
    "scrolled": true
   },
   "outputs": [],
   "source": [
    "from pyspark.sql import SparkSession                 \n",
    "from mmtfPyspark.io import mmtfReader\n",
    "from mmtfPyspark.interactions import InteractionFilter, GroupInteractionExtractor\n",
    "from mmtfPyspark.filters import ContainsLProteinChain, Resolution\n",
    "from mmtfPyspark.webfilters import Pisces\n",
    "import matplotlib.pyplot as plt\n",
    "import pandas as pd                      "
   ]
  },
  {
   "cell_type": "markdown",
   "metadata": {},
   "source": [
    "#### Configure Spark "
   ]
  },
  {
   "cell_type": "code",
   "execution_count": 2,
   "metadata": {},
   "outputs": [],
   "source": [
    "spark = SparkSession.builder.master(\"local[4]\").appName(\"MetalInteractionsExample\").getOrCreate()"
   ]
  },
  {
   "cell_type": "markdown",
   "metadata": {},
   "source": [
    "## Read PDB structures\n",
    "Read a provided sample (~10,000 structures) of the PDB in [MMTF format](https://mmtf.rcsb.org)."
   ]
  },
  {
   "cell_type": "code",
   "execution_count": 3,
   "metadata": {},
   "outputs": [],
   "source": [
    "path = \"../../resources/mmtf_full_sample/\"\n",
    "pdb = mmtfReader.read_sequence_file(path)"
   ]
  },
  {
   "cell_type": "markdown",
   "metadata": {},
   "source": [
    "## Create a non-redundant subset\n",
    "Create a Pisces ([Protein Sequence Culling Server](http://dunbrack.fccc.edu/PISCES.php)) non-redundant subset for this analysis. Select protein chains with less than 30% sequence identity among each other and a resolution of 2.5 A or better."
   ]
  },
  {
   "cell_type": "code",
   "execution_count": 4,
   "metadata": {},
   "outputs": [],
   "source": [
    "pdb = pdb.filter(Pisces(sequenceIdentity = 30, resolution = 2.5))         "
   ]
  },
  {
   "cell_type": "markdown",
   "metadata": {},
   "source": [
    "## Setup criteria for metal interactions"
   ]
  },
  {
   "cell_type": "code",
   "execution_count": 5,
   "metadata": {},
   "outputs": [],
   "source": [
    "interactions_filter = InteractionFilter()\n",
    "interactions_filter.set_distance_cutoff(distanceCutoff = 3.0)\n",
    "interactions_filter.set_min_interactions(minInteractions = 4)\n",
    "interactions_filter.set_max_interactions(maxInteractions = 6)\n",
    "\n",
    "# chemical component codes of metals in different oxidation states\n",
    "metals = {\"V\",\"CR\",\"MN\",\"MN3\",\"FE\",\"FE2\",\"CO\",\"3CO\",\"NI\",\"3NI\", \"CU\",\"CU1\",\"CU3\",\"ZN\",\"MO\",\"4MO\",\"6MO\"}\n",
    "interactions_filter.set_query_groups(True, metals)\n",
    "\n",
    "# exclude non-polar interactions\n",
    "interactions_filter.set_target_elements(False, ['H','C','P'])"
   ]
  },
  {
   "cell_type": "markdown",
   "metadata": {},
   "source": [
    "## Tabulate interactions in a Dataframe"
   ]
  },
  {
   "cell_type": "code",
   "execution_count": 6,
   "metadata": {},
   "outputs": [
    {
     "name": "stdout",
     "output_type": "stream",
     "text": [
      "Metal interactions: 1574\n"
     ]
    }
   ],
   "source": [
    "interactions = GroupInteractionExtractor().get_interactions(pdb,interactions_filter).cache()\n",
    "print(f\"Metal interactions: {interactions.count()}\")"
   ]
  },
  {
   "cell_type": "markdown",
   "metadata": {},
   "source": [
    "## Display orientational order parameters (q4-q6) and distances for interactions\n",
    "The orientational order parameter q(n) measures the extent to which an atom\n",
    "and its n nearest neighbors adopt a tetrahedral (q4),  trigonal bipyramidal (q5), or octrahedra (q6) arrangement. It is equal to 0 for a random arrangement and equals 1 in a perfect arrangement. It can reach negative values for non-physical arrangements."
   ]
  },
  {
   "cell_type": "code",
   "execution_count": 7,
   "metadata": {},
   "outputs": [
    {
     "data": {
      "text/html": [
       "<div>\n",
       "<style>\n",
       "    .dataframe thead tr:only-child th {\n",
       "        text-align: right;\n",
       "    }\n",
       "\n",
       "    .dataframe thead th {\n",
       "        text-align: left;\n",
       "    }\n",
       "\n",
       "    .dataframe tbody tr th {\n",
       "        vertical-align: top;\n",
       "    }\n",
       "</style>\n",
       "<table border=\"1\" class=\"dataframe\">\n",
       "  <thead>\n",
       "    <tr style=\"text-align: right;\">\n",
       "      <th></th>\n",
       "      <th>pdbId</th>\n",
       "      <th>q4</th>\n",
       "      <th>q5</th>\n",
       "      <th>q6</th>\n",
       "      <th>element0</th>\n",
       "      <th>groupNum0</th>\n",
       "      <th>chain0</th>\n",
       "      <th>element1</th>\n",
       "      <th>groupNum1</th>\n",
       "      <th>chain1</th>\n",
       "      <th>...</th>\n",
       "      <th>chain4</th>\n",
       "      <th>distance4</th>\n",
       "      <th>element5</th>\n",
       "      <th>groupNum5</th>\n",
       "      <th>chain5</th>\n",
       "      <th>distance5</th>\n",
       "      <th>element6</th>\n",
       "      <th>groupNum6</th>\n",
       "      <th>chain6</th>\n",
       "      <th>distance6</th>\n",
       "    </tr>\n",
       "  </thead>\n",
       "  <tbody>\n",
       "    <tr>\n",
       "      <th>0</th>\n",
       "      <td>4XWW</td>\n",
       "      <td>0.937516</td>\n",
       "      <td>NaN</td>\n",
       "      <td>NaN</td>\n",
       "      <td>Zn</td>\n",
       "      <td>601</td>\n",
       "      <td>A</td>\n",
       "      <td>N</td>\n",
       "      <td>84</td>\n",
       "      <td>A</td>\n",
       "      <td>...</td>\n",
       "      <td>D</td>\n",
       "      <td>1.865257</td>\n",
       "      <td>None</td>\n",
       "      <td>None</td>\n",
       "      <td>None</td>\n",
       "      <td>0.000000</td>\n",
       "      <td>None</td>\n",
       "      <td>None</td>\n",
       "      <td>None</td>\n",
       "      <td>0.000000</td>\n",
       "    </tr>\n",
       "    <tr>\n",
       "      <th>1</th>\n",
       "      <td>4MDA</td>\n",
       "      <td>0.785642</td>\n",
       "      <td>0.527550</td>\n",
       "      <td>0.251660</td>\n",
       "      <td>Mn</td>\n",
       "      <td>402</td>\n",
       "      <td>A</td>\n",
       "      <td>O</td>\n",
       "      <td>156</td>\n",
       "      <td>A</td>\n",
       "      <td>...</td>\n",
       "      <td>A</td>\n",
       "      <td>2.260092</td>\n",
       "      <td>O</td>\n",
       "      <td>284</td>\n",
       "      <td>A</td>\n",
       "      <td>2.416866</td>\n",
       "      <td>O</td>\n",
       "      <td>403</td>\n",
       "      <td>A</td>\n",
       "      <td>2.120254</td>\n",
       "    </tr>\n",
       "    <tr>\n",
       "      <th>2</th>\n",
       "      <td>3TC3</td>\n",
       "      <td>0.505904</td>\n",
       "      <td>0.402898</td>\n",
       "      <td>NaN</td>\n",
       "      <td>Mn</td>\n",
       "      <td>290</td>\n",
       "      <td>B</td>\n",
       "      <td>O</td>\n",
       "      <td>199</td>\n",
       "      <td>B</td>\n",
       "      <td>...</td>\n",
       "      <td>B</td>\n",
       "      <td>2.473726</td>\n",
       "      <td>O</td>\n",
       "      <td>267</td>\n",
       "      <td>B</td>\n",
       "      <td>2.250090</td>\n",
       "      <td>None</td>\n",
       "      <td>None</td>\n",
       "      <td>None</td>\n",
       "      <td>0.000000</td>\n",
       "    </tr>\n",
       "    <tr>\n",
       "      <th>3</th>\n",
       "      <td>3ZVS</td>\n",
       "      <td>0.956232</td>\n",
       "      <td>0.824622</td>\n",
       "      <td>NaN</td>\n",
       "      <td>Zn</td>\n",
       "      <td>1161</td>\n",
       "      <td>B</td>\n",
       "      <td>N</td>\n",
       "      <td>121</td>\n",
       "      <td>B</td>\n",
       "      <td>...</td>\n",
       "      <td>B</td>\n",
       "      <td>2.020527</td>\n",
       "      <td>N</td>\n",
       "      <td>127</td>\n",
       "      <td>B</td>\n",
       "      <td>2.037637</td>\n",
       "      <td>None</td>\n",
       "      <td>None</td>\n",
       "      <td>None</td>\n",
       "      <td>0.000000</td>\n",
       "    </tr>\n",
       "    <tr>\n",
       "      <th>4</th>\n",
       "      <td>3GE3</td>\n",
       "      <td>0.656937</td>\n",
       "      <td>0.848637</td>\n",
       "      <td>0.256491</td>\n",
       "      <td>Fe</td>\n",
       "      <td>501</td>\n",
       "      <td>A</td>\n",
       "      <td>O</td>\n",
       "      <td>197</td>\n",
       "      <td>A</td>\n",
       "      <td>...</td>\n",
       "      <td>A</td>\n",
       "      <td>2.057466</td>\n",
       "      <td>N</td>\n",
       "      <td>234</td>\n",
       "      <td>A</td>\n",
       "      <td>2.176894</td>\n",
       "      <td>O</td>\n",
       "      <td>134</td>\n",
       "      <td>A</td>\n",
       "      <td>2.056275</td>\n",
       "    </tr>\n",
       "    <tr>\n",
       "      <th>5</th>\n",
       "      <td>3A9I</td>\n",
       "      <td>0.514965</td>\n",
       "      <td>0.506813</td>\n",
       "      <td>0.944241</td>\n",
       "      <td>Co</td>\n",
       "      <td>377</td>\n",
       "      <td>A</td>\n",
       "      <td>N</td>\n",
       "      <td>197</td>\n",
       "      <td>A</td>\n",
       "      <td>...</td>\n",
       "      <td>A</td>\n",
       "      <td>2.147387</td>\n",
       "      <td>N</td>\n",
       "      <td>195</td>\n",
       "      <td>A</td>\n",
       "      <td>2.287946</td>\n",
       "      <td>O</td>\n",
       "      <td>378</td>\n",
       "      <td>A</td>\n",
       "      <td>2.153605</td>\n",
       "    </tr>\n",
       "    <tr>\n",
       "      <th>6</th>\n",
       "      <td>5A61</td>\n",
       "      <td>0.643295</td>\n",
       "      <td>0.268358</td>\n",
       "      <td>0.545426</td>\n",
       "      <td>Mn</td>\n",
       "      <td>501</td>\n",
       "      <td>A</td>\n",
       "      <td>O</td>\n",
       "      <td>500</td>\n",
       "      <td>A</td>\n",
       "      <td>...</td>\n",
       "      <td>A</td>\n",
       "      <td>2.192831</td>\n",
       "      <td>O</td>\n",
       "      <td>500</td>\n",
       "      <td>A</td>\n",
       "      <td>2.094193</td>\n",
       "      <td>O</td>\n",
       "      <td>6</td>\n",
       "      <td>A</td>\n",
       "      <td>2.126776</td>\n",
       "    </tr>\n",
       "    <tr>\n",
       "      <th>7</th>\n",
       "      <td>1RK6</td>\n",
       "      <td>0.913036</td>\n",
       "      <td>0.419789</td>\n",
       "      <td>NaN</td>\n",
       "      <td>Zn</td>\n",
       "      <td>601</td>\n",
       "      <td>A</td>\n",
       "      <td>N</td>\n",
       "      <td>250</td>\n",
       "      <td>A</td>\n",
       "      <td>...</td>\n",
       "      <td>A</td>\n",
       "      <td>2.228554</td>\n",
       "      <td>O</td>\n",
       "      <td>901</td>\n",
       "      <td>A</td>\n",
       "      <td>2.568952</td>\n",
       "      <td>None</td>\n",
       "      <td>None</td>\n",
       "      <td>None</td>\n",
       "      <td>0.000000</td>\n",
       "    </tr>\n",
       "    <tr>\n",
       "      <th>8</th>\n",
       "      <td>1RO2</td>\n",
       "      <td>0.847597</td>\n",
       "      <td>NaN</td>\n",
       "      <td>NaN</td>\n",
       "      <td>Zn</td>\n",
       "      <td>301</td>\n",
       "      <td>A</td>\n",
       "      <td>O</td>\n",
       "      <td>515</td>\n",
       "      <td>A</td>\n",
       "      <td>...</td>\n",
       "      <td>A</td>\n",
       "      <td>2.296376</td>\n",
       "      <td>None</td>\n",
       "      <td>None</td>\n",
       "      <td>None</td>\n",
       "      <td>0.000000</td>\n",
       "      <td>None</td>\n",
       "      <td>None</td>\n",
       "      <td>None</td>\n",
       "      <td>0.000000</td>\n",
       "    </tr>\n",
       "    <tr>\n",
       "      <th>9</th>\n",
       "      <td>3E38</td>\n",
       "      <td>0.814193</td>\n",
       "      <td>0.361629</td>\n",
       "      <td>NaN</td>\n",
       "      <td>Zn</td>\n",
       "      <td>1</td>\n",
       "      <td>A</td>\n",
       "      <td>O</td>\n",
       "      <td>7</td>\n",
       "      <td>A</td>\n",
       "      <td>...</td>\n",
       "      <td>A</td>\n",
       "      <td>2.081820</td>\n",
       "      <td>N</td>\n",
       "      <td>122</td>\n",
       "      <td>A</td>\n",
       "      <td>2.278329</td>\n",
       "      <td>None</td>\n",
       "      <td>None</td>\n",
       "      <td>None</td>\n",
       "      <td>0.000000</td>\n",
       "    </tr>\n",
       "  </tbody>\n",
       "</table>\n",
       "<p>10 rows × 31 columns</p>\n",
       "</div>"
      ],
      "text/plain": [
       "  pdbId        q4        q5        q6 element0 groupNum0 chain0 element1  \\\n",
       "0  4XWW  0.937516       NaN       NaN       Zn       601      A        N   \n",
       "1  4MDA  0.785642  0.527550  0.251660       Mn       402      A        O   \n",
       "2  3TC3  0.505904  0.402898       NaN       Mn       290      B        O   \n",
       "3  3ZVS  0.956232  0.824622       NaN       Zn      1161      B        N   \n",
       "4  3GE3  0.656937  0.848637  0.256491       Fe       501      A        O   \n",
       "5  3A9I  0.514965  0.506813  0.944241       Co       377      A        N   \n",
       "6  5A61  0.643295  0.268358  0.545426       Mn       501      A        O   \n",
       "7  1RK6  0.913036  0.419789       NaN       Zn       601      A        N   \n",
       "8  1RO2  0.847597       NaN       NaN       Zn       301      A        O   \n",
       "9  3E38  0.814193  0.361629       NaN       Zn         1      A        O   \n",
       "\n",
       "  groupNum1 chain1    ...     chain4 distance4 element5 groupNum5  chain5  \\\n",
       "0        84      A    ...          D  1.865257     None      None    None   \n",
       "1       156      A    ...          A  2.260092        O       284       A   \n",
       "2       199      B    ...          B  2.473726        O       267       B   \n",
       "3       121      B    ...          B  2.020527        N       127       B   \n",
       "4       197      A    ...          A  2.057466        N       234       A   \n",
       "5       197      A    ...          A  2.147387        N       195       A   \n",
       "6       500      A    ...          A  2.192831        O       500       A   \n",
       "7       250      A    ...          A  2.228554        O       901       A   \n",
       "8       515      A    ...          A  2.296376     None      None    None   \n",
       "9         7      A    ...          A  2.081820        N       122       A   \n",
       "\n",
       "  distance5 element6 groupNum6  chain6 distance6  \n",
       "0  0.000000     None      None    None  0.000000  \n",
       "1  2.416866        O       403       A  2.120254  \n",
       "2  2.250090     None      None    None  0.000000  \n",
       "3  2.037637     None      None    None  0.000000  \n",
       "4  2.176894        O       134       A  2.056275  \n",
       "5  2.287946        O       378       A  2.153605  \n",
       "6  2.094193        O         6       A  2.126776  \n",
       "7  2.568952     None      None    None  0.000000  \n",
       "8  0.000000     None      None    None  0.000000  \n",
       "9  2.278329     None      None    None  0.000000  \n",
       "\n",
       "[10 rows x 31 columns]"
      ]
     },
     "execution_count": 7,
     "metadata": {},
     "output_type": "execute_result"
    }
   ],
   "source": [
    "interactions = interactions.select(\"pdbId\", \\\n",
    "                \"q4\",\"q5\",\"q6\", \\\n",
    "                \"element0\",\"groupNum0\",\"chain0\", \\\n",
    "                \"element1\",\"groupNum1\",\"chain1\",\"distance1\", \\\n",
    "                \"element2\",\"groupNum2\",\"chain2\",\"distance2\", \\\n",
    "                \"element3\",\"groupNum3\",\"chain3\",\"distance3\", \\\n",
    "                \"element4\",\"groupNum4\",\"chain4\",\"distance4\", \\\n",
    "                \"element5\",\"groupNum5\",\"chain5\",\"distance5\", \\\n",
    "                \"element6\",\"groupNum6\",\"chain6\",\"distance6\").cache();\n",
    "\n",
    "# show some example interactions\n",
    "ds = interactions.sample(fraction = 0.01, seed = 1)\n",
    "df = ds.toPandas() # convert to pandas dataframe to fit table in jupyter notebook cell\n",
    "df.head(10)"
   ]
  },
  {
   "cell_type": "markdown",
   "metadata": {},
   "source": [
    "## Count unique interactions by metal"
   ]
  },
  {
   "cell_type": "code",
   "execution_count": 8,
   "metadata": {},
   "outputs": [
    {
     "name": "stdout",
     "output_type": "stream",
     "text": [
      "Unique interactions by metal: \n",
      "+--------+-----+\n",
      "|element0|count|\n",
      "+--------+-----+\n",
      "|      Cu|   30|\n",
      "|      Co|   42|\n",
      "|      Ni|  120|\n",
      "|      Fe|  147|\n",
      "|      Mn|  205|\n",
      "|      Zn| 1030|\n",
      "+--------+-----+\n",
      "\n"
     ]
    }
   ],
   "source": [
    "print(\"Unique interactions by metal: \")\n",
    "unique_ds = interactions.groupBy(['element0']).count().sort(\"count\")\n",
    "unique_ds.show()"
   ]
  },
  {
   "cell_type": "markdown",
   "metadata": {},
   "source": [
    "## Plot histogram of interaction by metal"
   ]
  },
  {
   "cell_type": "code",
   "execution_count": 9,
   "metadata": {},
   "outputs": [
    {
     "data": {
      "image/png": "[encoded data removed]",
      "text/plain": [
       "<Figure size 432x288 with 1 Axes>"
      ]
     },
     "metadata": {},
     "output_type": "display_data"
    }
   ],
   "source": [
    "unique_df = unique_ds.toPandas()\n",
    "unique_df.plot(x='element0', y='count', kind='bar');"
   ]
  },
  {
   "cell_type": "markdown",
   "metadata": {},
   "source": [
    "## Terminate Spark"
   ]
  },
  {
   "cell_type": "code",
   "execution_count": 10,
   "metadata": {},
   "outputs": [],
   "source": [
    "spark.stop()"
   ]
  }
 ],
 "metadata": {
  "kernelspec": {
   "display_name": "Python 3",
   "language": "python",
   "name": "python3"
  },
  "language_info": {
   "codemirror_mode": {
    "name": "ipython",
    "version": 3
   },
   "file_extension": ".py",
   "mimetype": "text/x-python",
   "name": "python",
   "nbconvert_exporter": "python",
   "pygments_lexer": "ipython3",
   "version": "3.6.5"
  }
 },
 "nbformat": 4,
 "nbformat_minor": 2
}
