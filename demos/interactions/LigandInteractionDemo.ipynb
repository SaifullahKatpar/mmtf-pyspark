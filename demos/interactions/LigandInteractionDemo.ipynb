{
 "cells": [
  {
   "cell_type": "markdown",
   "metadata": {},
   "source": [
    "# Calculating ligand-polymer interaction fingerprints\n",
    "\n",
    "Demo how to calculate ligand-polymer interactions mapped onto polymer residues (fingerprints)."
   ]
  },
  {
   "cell_type": "code",
   "execution_count": null,
   "metadata": {
    "scrolled": true
   },
   "outputs": [],
   "source": [
    "from pyspark.sql import SparkSession                  \n",
    "from mmtfPyspark.io import mmtfReader\n",
    "from mmtfPyspark.interactions import InteractionExtractor, InteractionFilter                                 "
   ]
  },
  {
   "cell_type": "markdown",
   "metadata": {},
   "source": [
    "#### Configure Spark "
   ]
  },
  {
   "cell_type": "code",
   "execution_count": null,
   "metadata": {},
   "outputs": [],
   "source": [
    "spark = SparkSession.builder.master(\"local[4]\").appName(\"LigandInteractionFingerprintDemo\").getOrCreate()"
   ]
  },
  {
   "cell_type": "markdown",
   "metadata": {},
   "source": [
    "## Download PDB structure 1OHR"
   ]
  },
  {
   "cell_type": "code",
   "execution_count": null,
   "metadata": {},
   "outputs": [],
   "source": [
    "pdb = mmtfReader.download_mmtf_files(['1OHR'])"
   ]
  },
  {
   "cell_type": "markdown",
   "metadata": {},
   "source": [
    "## Find interactions of small molecules\n",
    "The interaction filter is used to setup interaction criteria:\n",
    "1. interactions within 4 A\n",
    "2. ignore water interactions"
   ]
  },
  {
   "cell_type": "code",
   "execution_count": null,
   "metadata": {},
   "outputs": [],
   "source": [
    "interactionFilter = InteractionFilter()\n",
    "interactionFilter.set_distance_cutoff(4.0)\n",
    "interactionFilter.set_query_groups(False, \"HOH\") # ignore water interactions"
   ]
  },
  {
   "cell_type": "markdown",
   "metadata": {},
   "source": [
    "## Print table of group (residue) interactions\n",
    "Here, the query ligand (1UN) interacts with target chains A and B. Group number are the residues number of the interacting residues in the PDB entry. Sequence indices are zero-based indices of the interacting residues in the protein sequence."
   ]
  },
  {
   "cell_type": "code",
   "execution_count": null,
   "metadata": {
    "scrolled": false
   },
   "outputs": [],
   "source": [
    "interactions = InteractionExtractor.get_ligand_polymer_interactions(pdb, interactionFilter)\n",
    "interactions.toPandas()"
   ]
  },
  {
   "cell_type": "markdown",
   "metadata": {},
   "source": [
    "## Print table of atom interactions\n",
    "Same as previous table, but interactions are listed at the atom level."
   ]
  },
  {
   "cell_type": "code",
   "execution_count": null,
   "metadata": {},
   "outputs": [],
   "source": [
    "interactions = InteractionExtractor.get_ligand_polymer_interactions(pdb, interactionFilter, level='atom')\n",
    "interactions.toPandas()"
   ]
  },
  {
   "cell_type": "markdown",
   "metadata": {},
   "source": [
    "## Terminate Spark"
   ]
  },
  {
   "cell_type": "code",
   "execution_count": null,
   "metadata": {},
   "outputs": [],
   "source": [
    "spark.stop()"
   ]
  },
  {
   "cell_type": "code",
   "execution_count": null,
   "metadata": {},
   "outputs": [],
   "source": []
  }
 ],
 "metadata": {
  "kernelspec": {
   "display_name": "Python 3",
   "language": "python",
   "name": "python3"
  },
  "language_info": {
   "codemirror_mode": {
    "name": "ipython",
    "version": 3
   },
   "file_extension": ".py",
   "mimetype": "text/x-python",
   "name": "python",
   "nbconvert_exporter": "python",
   "pygments_lexer": "ipython3",
   "version": "3.7.1"
  }
 },
 "nbformat": 4,
 "nbformat_minor": 2
}
