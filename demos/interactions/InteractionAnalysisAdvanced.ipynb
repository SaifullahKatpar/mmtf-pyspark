{
 "cells": [
  {
   "cell_type": "markdown",
   "metadata": {},
   "source": [
    "# Advanced Zinc Interaction Analysis Example\n",
    "\n",
    "<img src=\"./figures/zinc_interaction.png\" style=\"width: 300px;\"/>"
   ]
  },
  {
   "cell_type": "code",
   "execution_count": 1,
   "metadata": {},
   "outputs": [],
   "source": [
    "from pyspark.sql import SparkSession\n",
    "from pyspark.sql.functions import *\n",
    "from mmtfPyspark.datasets import groupInteractionExtractor\n",
    "from mmtfPyspark.io import mmtfReader\n",
    "from mmtfPyspark.webfilters import Pisces"
   ]
  },
  {
   "cell_type": "markdown",
   "metadata": {},
   "source": [
    "#### Configure Spark "
   ]
  },
  {
   "cell_type": "code",
   "execution_count": 2,
   "metadata": {},
   "outputs": [],
   "source": [
    "spark = SparkSession.builder.appName(\"InteractionAnalysisAdvanced\").getOrCreate()"
   ]
  },
  {
   "cell_type": "markdown",
   "metadata": {},
   "source": [
    "## Read PDB structures\n",
    "Read a provided sample (~10,000 structures) of the PDB in MMTF format (https://mmtf.rcsb.org)."
   ]
  },
  {
   "cell_type": "code",
   "execution_count": 3,
   "metadata": {},
   "outputs": [],
   "source": [
    "path = \"../../resources/mmtf_full_sample/\"\n",
    "\n",
    "pdb = mmtfReader.read_sequence_file(path)"
   ]
  },
  {
   "cell_type": "markdown",
   "metadata": {},
   "source": [
    "# Create a non-redundant subset\n",
    "Create a Pisces (Protein Sequence Culling Server, http://dunbrack.fccc.edu/PISCES.php) non-redundant subset for this analysis. Select protein chains with less than 40% sequence identity among each other and a resolution of 2.0 A or better."
   ]
  },
  {
   "cell_type": "code",
   "execution_count": 4,
   "metadata": {},
   "outputs": [],
   "source": [
    "pdb = pdb.filter(Pisces(sequenceIdentity = 40, resolution = 2.0))"
   ]
  },
  {
   "cell_type": "markdown",
   "metadata": {},
   "source": [
    "## Extract proteins with Zn interactions"
   ]
  },
  {
   "cell_type": "code",
   "execution_count": 5,
   "metadata": {},
   "outputs": [],
   "source": [
    "finder = groupInteractionExtractor(\"ZN\",3)\n",
    "\n",
    "interactions = finder.get_dataset(pdb).cache()"
   ]
  },
  {
   "cell_type": "markdown",
   "metadata": {},
   "source": [
    "## List the top 10 residue types that interact with Zn"
   ]
  },
  {
   "cell_type": "code",
   "execution_count": 6,
   "metadata": {},
   "outputs": [
    {
     "name": "stdout",
     "output_type": "stream",
     "text": [
      "root\n",
      " |-- structureId: string (nullable = false)\n",
      " |-- residue1: string (nullable = false)\n",
      " |-- atom1: string (nullable = false)\n",
      " |-- element1: string (nullable = false)\n",
      " |-- index1: integer (nullable = false)\n",
      " |-- residue2: string (nullable = false)\n",
      " |-- atom2: string (nullable = false)\n",
      " |-- element2: string (nullable = false)\n",
      " |-- index2: integer (nullable = false)\n",
      " |-- distance: float (nullable = false)\n",
      "\n",
      "+-----------+--------+-----+--------+------+--------+-----+--------+------+---------+\n",
      "|structureId|residue1|atom1|element1|index1|residue2|atom2|element2|index2| distance|\n",
      "+-----------+--------+-----+--------+------+--------+-----+--------+------+---------+\n",
      "|       1LBU|      ZN|   ZN|      Zn|   213|     HIS|  NE2|       N|   153| 2.151916|\n",
      "|       1LBU|      ZN|   ZN|      Zn|   213|     ASP|   CG|       C|   160|2.8048584|\n",
      "|       1LBU|      ZN|   ZN|      Zn|   213|     ASP|  OD1|       O|   160|1.9849186|\n",
      "|       1LBU|      ZN|   ZN|      Zn|   213|     HIS|  ND1|       N|   196|2.1499417|\n",
      "|       1LBU|      ZN|   ZN|      Zn|   213|     HOH|    O|       O|   233|2.1208687|\n",
      "|       1LFW|      ZN|   ZN|      Zn|   468|     ASP|   CG|       C|   118|2.8677936|\n",
      "|       1LFW|      ZN|   ZN|      Zn|   468|     ASP|  OD1|       O|   118|1.8976947|\n",
      "|       1LFW|      ZN|   ZN|      Zn|   468|     GLU|   CD|       C|   153|2.5511158|\n",
      "|       1LFW|      ZN|   ZN|      Zn|   468|     GLU|  OE1|       O|   153|  2.56119|\n",
      "|       1LFW|      ZN|   ZN|      Zn|   468|     GLU|  OE2|       O|   153|1.9181764|\n",
      "|       1LFW|      ZN|   ZN|      Zn|   468|     HIS|  CD2|       C|   438|2.8991685|\n",
      "|       1LFW|      ZN|   ZN|      Zn|   468|     HIS|  CE1|       C|   438|2.9605427|\n",
      "|       1LFW|      ZN|   ZN|      Zn|   468|     HIS|  NE2|       N|   438|1.9364136|\n",
      "|       1LFW|      ZN|   ZN|      Zn|   468|     AEP|    P|       P|   470|2.8692107|\n",
      "|       1LFW|      ZN|   ZN|      Zn|   468|     AEP|  O1P|       O|   470|2.8440487|\n",
      "|       1LFW|      ZN|   ZN|      Zn|   468|     AEP|  O2P|       O|   470|1.9510272|\n",
      "|       1LFW|      ZN|   ZN|      Zn|   469|     HIS|  NE2|       N|    86|2.0616674|\n",
      "|       1LFW|      ZN|   ZN|      Zn|   469|     ASP|  OD2|       O|   118|2.0402374|\n",
      "|       1LFW|      ZN|   ZN|      Zn|   469|     ASP|   CG|       C|   176|2.5008485|\n",
      "|       1LFW|      ZN|   ZN|      Zn|   469|     ASP|  OD1|       O|   176| 2.295101|\n",
      "+-----------+--------+-----+--------+------+--------+-----+--------+------+---------+\n",
      "only showing top 20 rows\n",
      "\n",
      "Number of interactions: 8609\n"
     ]
    }
   ],
   "source": [
    "interactions.printSchema()\n",
    "\n",
    "interactions.show(20)\n",
    "\n",
    "n = interactions.count()\n",
    "\n",
    "print(f\"Number of interactions: {n}\")"
   ]
  },
  {
   "cell_type": "markdown",
   "metadata": {},
   "source": [
    "## Show the top 10 interacting group/atom types\n",
    "\n",
    "#### Exclude Carbon Interactions"
   ]
  },
  {
   "cell_type": "code",
   "execution_count": 7,
   "metadata": {},
   "outputs": [],
   "source": [
    "topGroupsAndAtoms = interactions.filter(\"element2 != 'C'\") \\\n",
    "                                .groupBy(\"residue2\",\"atom2\") \\\n",
    "                                .count()"
   ]
  },
  {
   "cell_type": "markdown",
   "metadata": {},
   "source": [
    "#### Add column with frequency of occurence\n",
    "#### Filter out occurrences <=1% \n",
    "#### Sort descending"
   ]
  },
  {
   "cell_type": "code",
   "execution_count": 8,
   "metadata": {},
   "outputs": [
    {
     "name": "stdout",
     "output_type": "stream",
     "text": [
      "+--------+-----+-----+-------------------+\n",
      "|residue2|atom2|count|          frequency|\n",
      "+--------+-----+-----+-------------------+\n",
      "|     CYS|   SG| 1587|0.18434196770821235|\n",
      "|     HOH|    O| 1148|0.13334882100127773|\n",
      "|     HIS|  NE2| 1103|  0.128121733070043|\n",
      "|     ASP|  OD2|  455|0.05285166686026251|\n",
      "|     GLU|  OE2|  430|0.04994772912068765|\n",
      "|     HIS|  ND1|  425|0.04936694157277268|\n",
      "|     GLU|  OE1|  392|0.04553374375653386|\n",
      "|     ASP|  OD1|  363|0.04216517597862702|\n",
      "+--------+-----+-----+-------------------+\n",
      "\n"
     ]
    }
   ],
   "source": [
    "topGroupsAndAtoms.withColumn(\"frequency\", topGroupsAndAtoms[\"count\"] / n) \\\n",
    "                 .filter(\"frequency > 0.01\") \\\n",
    "                 .sort(\"frequency\", ascending = False) \\\n",
    "                 .show(20)"
   ]
  },
  {
   "cell_type": "markdown",
   "metadata": {},
   "source": [
    "## Print the top interacting elements\n",
    "\n",
    "#### Exclude carbon interactions and group by element 2"
   ]
  },
  {
   "cell_type": "code",
   "execution_count": 9,
   "metadata": {},
   "outputs": [],
   "source": [
    "topElements = interactions.filter(\"element2 != 'C'\") \\\n",
    "                          .groupBy(\"element2\") \\\n",
    "                          .count()"
   ]
  },
  {
   "cell_type": "markdown",
   "metadata": {},
   "source": [
    "#### Add column with frequencey of occurence\n",
    "#### Filter out occurence < 1%\n",
    "#### sort decending"
   ]
  },
  {
   "cell_type": "code",
   "execution_count": 10,
   "metadata": {},
   "outputs": [
    {
     "name": "stdout",
     "output_type": "stream",
     "text": [
      "+--------+-----+--------------------+\n",
      "|element2|count|           frequency|\n",
      "+--------+-----+--------------------+\n",
      "|       O| 3363|  0.3906377047276106|\n",
      "|       N| 1627| 0.18898826809153213|\n",
      "|       S| 1608| 0.18678127540945522|\n",
      "|       H|   99|0.011499593448716459|\n",
      "+--------+-----+--------------------+\n",
      "\n"
     ]
    }
   ],
   "source": [
    "topElements.withColumn(\"frequency\", topElements[\"count\"] / n) \\\n",
    "           .filter(\"frequency > 0.01\") \\\n",
    "           .sort(\"frequency\", ascending = False) \\\n",
    "           .show(10)"
   ]
  },
  {
   "cell_type": "code",
   "execution_count": 11,
   "metadata": {},
   "outputs": [
    {
     "name": "stdout",
     "output_type": "stream",
     "text": [
      "+--------+-------------------+\n",
      "|element2|      avg(distance)|\n",
      "+--------+-------------------+\n",
      "|      Mn|0.20966920256614685|\n",
      "|      Ni| 0.5448364615440369|\n",
      "|       F| 1.9403731226921082|\n",
      "|       N| 2.1260014373097014|\n",
      "|      Na|  2.189347982406616|\n",
      "|      Zn| 2.2065688480030405|\n",
      "|      Cl|  2.219455847033748|\n",
      "|       R| 2.2229933738708496|\n",
      "|       O|  2.245771651391362|\n",
      "|       S| 2.3379255972098356|\n",
      "+--------+-------------------+\n",
      "only showing top 10 rows\n",
      "\n"
     ]
    }
   ],
   "source": [
    "interactions.groupBy(\"element2\") \\\n",
    "            .avg(\"distance\") \\\n",
    "            .sort(\"avg(distance)\") \\\n",
    "            .show(10)"
   ]
  },
  {
   "cell_type": "markdown",
   "metadata": {},
   "source": [
    "## Aggregate multiple statistics\n",
    "\n",
    "### NOTE: from pyspark.sql.functions import * required"
   ]
  },
  {
   "cell_type": "code",
   "execution_count": 12,
   "metadata": {},
   "outputs": [
    {
     "name": "stdout",
     "output_type": "stream",
     "text": [
      "+--------+---------------+-------------------+-------------+-------------+--------------------+\n",
      "|element2|count(distance)|      avg(distance)|min(distance)|max(distance)|  kurtosis(distance)|\n",
      "+--------+---------------+-------------------+-------------+-------------+--------------------+\n",
      "|       F|              2| 1.9403731226921082|    1.7216884|    2.1590579| -1.9999999999999993|\n",
      "|      Ni|              2| 0.5448364615440369|   0.53758055|    0.5520924| -1.9999999999999998|\n",
      "|      As|              3| 2.8134802977244058|     2.688963|    2.8974245|  -1.500000000000001|\n",
      "|       O|           3363|  2.245771651391362|    1.1738018|    2.9994936|-0.10149437480333878|\n",
      "|       C|           1785|  2.840591127598653|    1.5134287|      2.99994|   7.300107344115171|\n",
      "|      Mn|              2|0.20966920256614685|   0.19816406|   0.22117434| -2.0000000000000004|\n",
      "|       N|           1627| 2.1260014373097014|    1.6628766|    2.9689412|   8.804427073278552|\n",
      "|      Cl|             54|  2.219455847033748|    1.5903395|     2.449859|   7.550526898800083|\n",
      "|      Na|              1|  2.189347982406616|     2.189348|     2.189348|                 NaN|\n",
      "|       S|           1608| 2.3379255972098356|    1.4183228|    2.9951127|   16.34743504065692|\n",
      "+--------+---------------+-------------------+-------------+-------------+--------------------+\n",
      "only showing top 10 rows\n",
      "\n"
     ]
    }
   ],
   "source": [
    "interactions.groupBy(\"element2\") \\\n",
    "            .agg(count(\"distance\"), avg(\"distance\"), min(\"distance\"), max(\"distance\"), kurtosis(\"distance\")) \\\n",
    "            .show(10)"
   ]
  },
  {
   "cell_type": "markdown",
   "metadata": {
    "collapsed": true
   },
   "source": [
    "## Terminate Spark"
   ]
  },
  {
   "cell_type": "code",
   "execution_count": 13,
   "metadata": {},
   "outputs": [],
   "source": [
    "spark.stop()"
   ]
  }
 ],
 "metadata": {
  "kernelspec": {
   "display_name": "Python [conda env:mmtf-pyspark]",
   "language": "python",
   "name": "conda-env-mmtf-pyspark-py"
  },
  "language_info": {
   "codemirror_mode": {
    "name": "ipython",
    "version": 3
   },
   "file_extension": ".py",
   "mimetype": "text/x-python",
   "name": "python",
   "nbconvert_exporter": "python",
   "pygments_lexer": "ipython3",
   "version": "3.7.3"
  }
 },
 "nbformat": 4,
 "nbformat_minor": 2
}
