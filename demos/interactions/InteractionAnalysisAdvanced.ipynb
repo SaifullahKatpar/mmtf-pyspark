{
 "cells": [
  {
   "cell_type": "markdown",
   "metadata": {},
   "source": [
    "# Advanced Zinc Interaction Analysis Example\n",
    "\n",
    "<img src=\"./figures/zinc_interaction.png\" style=\"width: 300px;\"/>"
   ]
  },
  {
   "cell_type": "code",
   "execution_count": 1,
   "metadata": {},
   "outputs": [],
   "source": [
    "from pyspark.sql import SparkSession\n",
    "from pyspark.sql.functions import *\n",
    "from mmtfPyspark.datasets import groupInteractionExtractor\n",
    "from mmtfPyspark.io import mmtfReader\n",
    "from mmtfPyspark.webfilters import Pisces"
   ]
  },
  {
   "cell_type": "markdown",
   "metadata": {},
   "source": [
    "#### Configure Spark "
   ]
  },
  {
   "cell_type": "code",
   "execution_count": 2,
   "metadata": {},
   "outputs": [],
   "source": [
    "spark = SparkSession.builder.master(\"local[4]\").appName(\"InteractionAnalysisAdvanced\").getOrCreate()"
   ]
  },
  {
   "cell_type": "markdown",
   "metadata": {},
   "source": [
    "## Read PDB structures\n",
    "Read a provided sample (~10,000 structures) of the PDB in MMTF format (https://mmtf.rcsb.org)."
   ]
  },
  {
   "cell_type": "code",
   "execution_count": 3,
   "metadata": {},
   "outputs": [],
   "source": [
    "path = \"../../resources/mmtf_full_sample/\"\n",
    "\n",
    "pdb = mmtfReader.read_sequence_file(path)"
   ]
  },
  {
   "cell_type": "markdown",
   "metadata": {},
   "source": [
    "# Create a non-redundant subset\n",
    "Create a Pisces (Protein Sequence Culling Server, http://dunbrack.fccc.edu/PISCES.php) non-redundant subset for this analysis. Select protein chains with less than 40% sequence identity among each other and a resolution of 2.0 A or better."
   ]
  },
  {
   "cell_type": "code",
   "execution_count": 4,
   "metadata": {},
   "outputs": [],
   "source": [
    "pdb = pdb.filter(Pisces(sequenceIdentity = 40, resolution = 2.0))"
   ]
  },
  {
   "cell_type": "markdown",
   "metadata": {},
   "source": [
    "## Extract proteins with Zn interactions"
   ]
  },
  {
   "cell_type": "code",
   "execution_count": 5,
   "metadata": {},
   "outputs": [],
   "source": [
    "finder = groupInteractionExtractor(\"ZN\",3)\n",
    "\n",
    "interactions = finder.get_dataset(pdb).cache()"
   ]
  },
  {
   "cell_type": "markdown",
   "metadata": {},
   "source": [
    "## List the top 10 residue types that interact with Zn"
   ]
  },
  {
   "cell_type": "code",
   "execution_count": 6,
   "metadata": {},
   "outputs": [
    {
     "name": "stdout",
     "output_type": "stream",
     "text": [
      "root\n",
      " |-- structureId: string (nullable = false)\n",
      " |-- residue1: string (nullable = false)\n",
      " |-- atom1: string (nullable = false)\n",
      " |-- element1: string (nullable = false)\n",
      " |-- index1: integer (nullable = false)\n",
      " |-- residue2: string (nullable = false)\n",
      " |-- atom2: string (nullable = false)\n",
      " |-- element2: string (nullable = false)\n",
      " |-- index2: integer (nullable = false)\n",
      " |-- distance: float (nullable = false)\n",
      "\n",
      "+-----------+--------+-----+--------+------+--------+-----+--------+------+---------+\n",
      "|structureId|residue1|atom1|element1|index1|residue2|atom2|element2|index2| distance|\n",
      "+-----------+--------+-----+--------+------+--------+-----+--------+------+---------+\n",
      "|       1LBU|      ZN|   ZN|      Zn|   213|     HIS|  NE2|       N|   153|2.1519165|\n",
      "|       1LBU|      ZN|   ZN|      Zn|   213|     ASP|   CG|       C|   160|2.8048582|\n",
      "|       1LBU|      ZN|   ZN|      Zn|   213|     ASP|  OD1|       O|   160|1.9849179|\n",
      "|       1LBU|      ZN|   ZN|      Zn|   213|     HIS|  ND1|       N|   196|2.1499424|\n",
      "|       1LBU|      ZN|   ZN|      Zn|   213|     HOH|    O|       O|   233|2.1208699|\n",
      "|       1LFW|      ZN|   ZN|      Zn|   468|     ASP|   CG|       C|   118|2.8677933|\n",
      "|       1LFW|      ZN|   ZN|      Zn|   468|     ASP|  OD1|       O|   118|1.8976947|\n",
      "|       1LFW|      ZN|   ZN|      Zn|   468|     GLU|   CD|       C|   153| 2.551116|\n",
      "|       1LFW|      ZN|   ZN|      Zn|   468|     GLU|  OE1|       O|   153|  2.56119|\n",
      "|       1LFW|      ZN|   ZN|      Zn|   468|     GLU|  OE2|       O|   153|1.9181768|\n",
      "|       1LFW|      ZN|   ZN|      Zn|   468|     HIS|  CD2|       C|   438|2.8991683|\n",
      "|       1LFW|      ZN|   ZN|      Zn|   468|     HIS|  CE1|       C|   438|2.9605424|\n",
      "|       1LFW|      ZN|   ZN|      Zn|   468|     HIS|  NE2|       N|   438|1.9364134|\n",
      "|       1LFW|      ZN|   ZN|      Zn|   468|     AEP|    P|       P|   470|2.8692105|\n",
      "|       1LFW|      ZN|   ZN|      Zn|   468|     AEP|  O1P|       O|   470| 2.844049|\n",
      "|       1LFW|      ZN|   ZN|      Zn|   468|     AEP|  O2P|       O|   470|1.9510267|\n",
      "|       1LFW|      ZN|   ZN|      Zn|   469|     HIS|  NE2|       N|    86|2.0616677|\n",
      "|       1LFW|      ZN|   ZN|      Zn|   469|     ASP|  OD2|       O|   118| 2.040238|\n",
      "|       1LFW|      ZN|   ZN|      Zn|   469|     ASP|   CG|       C|   176|2.5008488|\n",
      "|       1LFW|      ZN|   ZN|      Zn|   469|     ASP|  OD1|       O|   176|2.2951012|\n",
      "+-----------+--------+-----+--------+------+--------+-----+--------+------+---------+\n",
      "only showing top 20 rows\n",
      "\n",
      "Number of interactions: 8861\n"
     ]
    }
   ],
   "source": [
    "interactions.printSchema()\n",
    "\n",
    "interactions.show(20)\n",
    "\n",
    "n = interactions.count()\n",
    "\n",
    "print(f\"Number of interactions: {n}\")"
   ]
  },
  {
   "cell_type": "markdown",
   "metadata": {},
   "source": [
    "## Show the top 10 interacting group/atom types\n",
    "\n",
    "#### Exclude Carbon Interactions"
   ]
  },
  {
   "cell_type": "code",
   "execution_count": 7,
   "metadata": {},
   "outputs": [],
   "source": [
    "topGroupsAndAtoms = interactions.filter(\"element2 != 'C'\") \\\n",
    "                                .groupBy(\"residue2\",\"atom2\") \\\n",
    "                                .count()"
   ]
  },
  {
   "cell_type": "markdown",
   "metadata": {},
   "source": [
    "#### Add column with frequency of occurence\n",
    "#### Filter out occurrences <=1% \n",
    "#### Sort descending"
   ]
  },
  {
   "cell_type": "code",
   "execution_count": 8,
   "metadata": {},
   "outputs": [
    {
     "name": "stdout",
     "output_type": "stream",
     "text": [
      "+--------+-----+-----+-------------------+\n",
      "|residue2|atom2|count|          frequency|\n",
      "+--------+-----+-----+-------------------+\n",
      "|     CYS|   SG| 1645| 0.1856449610653425|\n",
      "|     HOH|    O| 1196|0.13497347929127637|\n",
      "|     HIS|  NE2| 1142|0.12887935898882744|\n",
      "|     ASP|  OD2|  459|0.05180002257081594|\n",
      "|     GLU|  OE2|  442|0.04988150321634127|\n",
      "|     HIS|  ND1|  433|0.04886581649926645|\n",
      "|     GLU|  OE1|  401|0.04525448594966708|\n",
      "|     ASP|  OD1|  371|0.04186886355941767|\n",
      "+--------+-----+-----+-------------------+\n",
      "\n"
     ]
    }
   ],
   "source": [
    "topGroupsAndAtoms.withColumn(\"frequency\", topGroupsAndAtoms[\"count\"] / n) \\\n",
    "                 .filter(\"frequency > 0.01\") \\\n",
    "                 .sort(\"frequency\", ascending = False) \\\n",
    "                 .show(20)"
   ]
  },
  {
   "cell_type": "markdown",
   "metadata": {},
   "source": [
    "## Print the top interacting elements\n",
    "\n",
    "#### Exclude carbon interactions and group by element 2"
   ]
  },
  {
   "cell_type": "code",
   "execution_count": 9,
   "metadata": {},
   "outputs": [],
   "source": [
    "topElements = interactions.filter(\"element2 != 'C'\") \\\n",
    "                          .groupBy(\"element2\") \\\n",
    "                          .count()"
   ]
  },
  {
   "cell_type": "markdown",
   "metadata": {},
   "source": [
    "#### Add column with frequencey of occurence\n",
    "#### Filter out occurence < 1%\n",
    "#### sort decending"
   ]
  },
  {
   "cell_type": "code",
   "execution_count": 10,
   "metadata": {},
   "outputs": [
    {
     "name": "stdout",
     "output_type": "stream",
     "text": [
      "+--------+-----+--------------------+\n",
      "|element2|count|           frequency|\n",
      "+--------+-----+--------------------+\n",
      "|       O| 3457| 0.39013655343640674|\n",
      "|       N| 1675| 0.18903058345559193|\n",
      "|       S| 1666|  0.1880148967385171|\n",
      "|       H|  104|0.011736824286197945|\n",
      "+--------+-----+--------------------+\n",
      "\n"
     ]
    }
   ],
   "source": [
    "topElements.withColumn(\"frequency\", topElements[\"count\"] / n) \\\n",
    "           .filter(\"frequency > 0.01\") \\\n",
    "           .sort(\"frequency\", ascending = False) \\\n",
    "           .show(10)"
   ]
  },
  {
   "cell_type": "code",
   "execution_count": 11,
   "metadata": {},
   "outputs": [
    {
     "name": "stdout",
     "output_type": "stream",
     "text": [
      "+--------+------------------+\n",
      "|element2|     avg(distance)|\n",
      "+--------+------------------+\n",
      "|      Mn|0.2096691057085991|\n",
      "|      Ni|0.5448365211486816|\n",
      "|       F| 1.940373182296753|\n",
      "|       N| 2.125986994060118|\n",
      "|      Na| 2.189347505569458|\n",
      "|      Zn|2.2065686800263147|\n",
      "|      Cl|2.2211811542510986|\n",
      "|       R| 2.222992499669393|\n",
      "|       O| 2.244950079421346|\n",
      "|       S|2.3377188774002415|\n",
      "+--------+------------------+\n",
      "only showing top 10 rows\n",
      "\n"
     ]
    }
   ],
   "source": [
    "interactions.groupBy(\"element2\") \\\n",
    "            .avg(\"distance\") \\\n",
    "            .sort(\"avg(distance)\") \\\n",
    "            .show(10)"
   ]
  },
  {
   "cell_type": "markdown",
   "metadata": {},
   "source": [
    "## Aggregate multiple statistics\n",
    "\n",
    "### NOTE: from pyspark.sql.functions import * required"
   ]
  },
  {
   "cell_type": "code",
   "execution_count": 12,
   "metadata": {},
   "outputs": [
    {
     "name": "stdout",
     "output_type": "stream",
     "text": [
      "+--------+---------------+------------------+-------------+-------------+--------------------+\n",
      "|element2|count(distance)|     avg(distance)|min(distance)|max(distance)|  kurtosis(distance)|\n",
      "+--------+---------------+------------------+-------------+-------------+--------------------+\n",
      "|       F|              2| 1.940373182296753|    1.7216878|    2.1590586| -1.9999999999999998|\n",
      "|      Ni|              2|0.5448365211486816|   0.53758067|    0.5520924| -1.9999999999999993|\n",
      "|      As|              3| 2.813481410344442|     2.688965|    2.8974242|                -1.5|\n",
      "|       O|           3457| 2.244950079421346|    1.1738015|    2.9994946|-0.07213122347964651|\n",
      "|       C|           1829|2.8415631190097157|    1.5134286|    2.9999394|   7.377358034263853|\n",
      "|      Mn|              2|0.2096691057085991|   0.19816408|   0.22117414| -1.9999999999999993|\n",
      "|       N|           1675| 2.125986994060118|    1.6628777|    2.9689415|    8.91490107405303|\n",
      "|      Cl|             56|2.2211811542510986|    1.5903399|    2.4498591|    7.93838921458072|\n",
      "|      Na|              1| 2.189347505569458|    2.1893475|    2.1893475|                 NaN|\n",
      "|       S|           1666|2.3377188774002415|    1.4183222|     2.995113|  16.340920741167846|\n",
      "+--------+---------------+------------------+-------------+-------------+--------------------+\n",
      "only showing top 10 rows\n",
      "\n"
     ]
    }
   ],
   "source": [
    "interactions.groupBy(\"element2\") \\\n",
    "            .agg(count(\"distance\"), avg(\"distance\"), min(\"distance\"), max(\"distance\"), kurtosis(\"distance\")) \\\n",
    "            .show(10)"
   ]
  },
  {
   "cell_type": "markdown",
   "metadata": {
    "collapsed": true
   },
   "source": [
    "## Terminate Spark"
   ]
  },
  {
   "cell_type": "code",
   "execution_count": 13,
   "metadata": {},
   "outputs": [],
   "source": [
    "spark.stop()"
   ]
  }
 ],
 "metadata": {
  "kernelspec": {
   "display_name": "Python 3",
   "language": "python",
   "name": "python3"
  },
  "language_info": {
   "codemirror_mode": {
    "name": "ipython",
    "version": 3
   },
   "file_extension": ".py",
   "mimetype": "text/x-python",
   "name": "python",
   "nbconvert_exporter": "python",
   "pygments_lexer": "ipython3",
   "version": "3.6.5"
  }
 },
 "nbformat": 4,
 "nbformat_minor": 2
}
