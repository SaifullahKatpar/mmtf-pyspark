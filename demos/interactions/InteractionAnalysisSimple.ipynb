{
 "cells": [
  {
   "cell_type": "markdown",
   "metadata": {},
   "source": [
    "# Simple Zinc Interaction Analysis Example\n",
    "\n",
    "<img src=\"./figures/zinc_interaction.png\" style=\"width: 300px;\"/>"
   ]
  },
  {
   "cell_type": "code",
   "execution_count": 1,
   "metadata": {},
   "outputs": [],
   "source": [
    "from pyspark.sql import SparkSession\n",
    "from mmtfPyspark.datasets import groupInteractionExtractor\n",
    "from mmtfPyspark.io import mmtfReader\n",
    "from mmtfPyspark.webfilters import Pisces"
   ]
  },
  {
   "cell_type": "markdown",
   "metadata": {},
   "source": [
    "#### Configure Spark "
   ]
  },
  {
   "cell_type": "code",
   "execution_count": 2,
   "metadata": {},
   "outputs": [],
   "source": [
    "spark = SparkSession.builder.master(\"local[4]\").appName(\"InteractionAnalysisSimple\").getOrCreate()"
   ]
  },
  {
   "cell_type": "markdown",
   "metadata": {},
   "source": [
    "## Read PDB in MMTF format"
   ]
  },
  {
   "cell_type": "code",
   "execution_count": 3,
   "metadata": {},
   "outputs": [],
   "source": [
    "path = \"../../resources/mmtf_full_sample/\"\n",
    "\n",
    "pdb = mmtfReader.read_sequence_file(path)"
   ]
  },
  {
   "cell_type": "markdown",
   "metadata": {},
   "source": [
    "## Create a non-redundant subset\n",
    "Create a Pisces (Protein Sequence Culling Server, http://dunbrack.fccc.edu/PISCES.php) non-redundant subset for this analysis. Select protein chains with less than 40% sequence identity among each other and a resolution of 2.0 A or better."
   ]
  },
  {
   "cell_type": "code",
   "execution_count": 4,
   "metadata": {},
   "outputs": [],
   "source": [
    "pdb = pdb.filter(Pisces(sequenceIdentity = 40, resolution = 2.0))"
   ]
  },
  {
   "cell_type": "markdown",
   "metadata": {},
   "source": [
    "## Extract proteins with Zn interactions"
   ]
  },
  {
   "cell_type": "code",
   "execution_count": 5,
   "metadata": {},
   "outputs": [],
   "source": [
    "finder = groupInteractionExtractor(\"ZN\",3)\n",
    "\n",
    "interactions = finder.get_dataset(pdb).cache()"
   ]
  },
  {
   "cell_type": "markdown",
   "metadata": {},
   "source": [
    "## List the top 10 residue types that interact with Zn"
   ]
  },
  {
   "cell_type": "code",
   "execution_count": 6,
   "metadata": {},
   "outputs": [
    {
     "name": "stdout",
     "output_type": "stream",
     "text": [
      "root\n",
      " |-- structureId: string (nullable = false)\n",
      " |-- residue1: string (nullable = false)\n",
      " |-- atom1: string (nullable = false)\n",
      " |-- element1: string (nullable = false)\n",
      " |-- index1: integer (nullable = false)\n",
      " |-- residue2: string (nullable = false)\n",
      " |-- atom2: string (nullable = false)\n",
      " |-- element2: string (nullable = false)\n",
      " |-- index2: integer (nullable = false)\n",
      " |-- distance: float (nullable = false)\n",
      "\n",
      "+-----------+--------+-----+--------+------+--------+-----+--------+------+---------+\n",
      "|structureId|residue1|atom1|element1|index1|residue2|atom2|element2|index2| distance|\n",
      "+-----------+--------+-----+--------+------+--------+-----+--------+------+---------+\n",
      "|       1LBU|      ZN|   ZN|      Zn|   213|     HIS|  NE2|       N|   153|2.1519165|\n",
      "|       1LBU|      ZN|   ZN|      Zn|   213|     ASP|   CG|       C|   160|2.8048582|\n",
      "|       1LBU|      ZN|   ZN|      Zn|   213|     ASP|  OD1|       O|   160|1.9849179|\n",
      "|       1LBU|      ZN|   ZN|      Zn|   213|     HIS|  ND1|       N|   196|2.1499424|\n",
      "|       1LBU|      ZN|   ZN|      Zn|   213|     HOH|    O|       O|   233|2.1208699|\n",
      "|       1LFW|      ZN|   ZN|      Zn|   468|     ASP|   CG|       C|   118|2.8677933|\n",
      "|       1LFW|      ZN|   ZN|      Zn|   468|     ASP|  OD1|       O|   118|1.8976947|\n",
      "|       1LFW|      ZN|   ZN|      Zn|   468|     GLU|   CD|       C|   153| 2.551116|\n",
      "|       1LFW|      ZN|   ZN|      Zn|   468|     GLU|  OE1|       O|   153|  2.56119|\n",
      "|       1LFW|      ZN|   ZN|      Zn|   468|     GLU|  OE2|       O|   153|1.9181768|\n",
      "|       1LFW|      ZN|   ZN|      Zn|   468|     HIS|  CD2|       C|   438|2.8991683|\n",
      "|       1LFW|      ZN|   ZN|      Zn|   468|     HIS|  CE1|       C|   438|2.9605424|\n",
      "|       1LFW|      ZN|   ZN|      Zn|   468|     HIS|  NE2|       N|   438|1.9364134|\n",
      "|       1LFW|      ZN|   ZN|      Zn|   468|     AEP|    P|       P|   470|2.8692105|\n",
      "|       1LFW|      ZN|   ZN|      Zn|   468|     AEP|  O1P|       O|   470| 2.844049|\n",
      "|       1LFW|      ZN|   ZN|      Zn|   468|     AEP|  O2P|       O|   470|1.9510267|\n",
      "|       1LFW|      ZN|   ZN|      Zn|   469|     HIS|  NE2|       N|    86|2.0616677|\n",
      "|       1LFW|      ZN|   ZN|      Zn|   469|     ASP|  OD2|       O|   118| 2.040238|\n",
      "|       1LFW|      ZN|   ZN|      Zn|   469|     ASP|   CG|       C|   176|2.5008488|\n",
      "|       1LFW|      ZN|   ZN|      Zn|   469|     ASP|  OD1|       O|   176|2.2951012|\n",
      "+-----------+--------+-----+--------+------+--------+-----+--------+------+---------+\n",
      "only showing top 20 rows\n",
      "\n",
      "Number of interactions: 8861\n"
     ]
    }
   ],
   "source": [
    "interactions.printSchema()\n",
    "\n",
    "interactions.show(20)\n",
    "\n",
    "print(f\"Number of interactions: {interactions.count()}\")"
   ]
  },
  {
   "cell_type": "markdown",
   "metadata": {},
   "source": [
    "## Show the top 10 interacting groups"
   ]
  },
  {
   "cell_type": "code",
   "execution_count": 7,
   "metadata": {},
   "outputs": [
    {
     "name": "stdout",
     "output_type": "stream",
     "text": [
      "+--------+-----+\n",
      "|residue2|count|\n",
      "+--------+-----+\n",
      "|     HIS| 2396|\n",
      "|     CYS| 1721|\n",
      "|     GLU| 1273|\n",
      "|     HOH| 1198|\n",
      "|     ASP| 1190|\n",
      "|     ACT|  139|\n",
      "|      CL|   56|\n",
      "|     CAC|   44|\n",
      "|      ZN|   44|\n",
      "|     SER|   41|\n",
      "+--------+-----+\n",
      "only showing top 10 rows\n",
      "\n"
     ]
    }
   ],
   "source": [
    "interactions.groupBy(\"residue2\") \\\n",
    "            .count() \\\n",
    "            .sort(\"count\", ascending = False) \\\n",
    "            .show(10)"
   ]
  },
  {
   "cell_type": "markdown",
   "metadata": {
    "collapsed": true
   },
   "source": [
    "## Terminate Spark"
   ]
  },
  {
   "cell_type": "code",
   "execution_count": 8,
   "metadata": {},
   "outputs": [],
   "source": [
    "spark.stop()"
   ]
  }
 ],
 "metadata": {
  "kernelspec": {
   "display_name": "Python 3",
   "language": "python",
   "name": "python3"
  },
  "language_info": {
   "codemirror_mode": {
    "name": "ipython",
    "version": 3
   },
   "file_extension": ".py",
   "mimetype": "text/x-python",
   "name": "python",
   "nbconvert_exporter": "python",
   "pygments_lexer": "ipython3",
   "version": "3.6.5"
  }
 },
 "nbformat": 4,
 "nbformat_minor": 2
}
