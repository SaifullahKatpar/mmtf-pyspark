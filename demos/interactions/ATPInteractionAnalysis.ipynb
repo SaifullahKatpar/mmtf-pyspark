{
 "cells": [
  {
   "cell_type": "markdown",
   "metadata": {},
   "source": [
    "# ATP Interaction Analysis\n",
    "\n",
    "This demo shows how to find interactions of ATP in the PDB."
   ]
  },
  {
   "cell_type": "code",
   "execution_count": 1,
   "metadata": {},
   "outputs": [],
   "source": [
    "from pyspark.sql import SparkSession\n",
    "from mmtfPyspark.datasets import groupInteractionExtractor\n",
    "from mmtfPyspark.io import mmtfReader\n",
    "from mmtfPyspark.webfilters import Pisces"
   ]
  },
  {
   "cell_type": "markdown",
   "metadata": {},
   "source": [
    "#### Configure Spark "
   ]
  },
  {
   "cell_type": "code",
   "execution_count": 2,
   "metadata": {},
   "outputs": [],
   "source": [
    "spark = SparkSession.builder.master(\"local[4]\").appName(\"ATPInteractionAnalysis\").getOrCreate()"
   ]
  },
  {
   "cell_type": "markdown",
   "metadata": {},
   "source": [
    "## Read PDB structures\n",
    "Read a provided sample (~10,000 structures) of the PDB in MMTF format (https://mmtf.rcsb.org)."
   ]
  },
  {
   "cell_type": "code",
   "execution_count": 3,
   "metadata": {},
   "outputs": [],
   "source": [
    "path = \"../../resources/mmtf_full_sample/\"\n",
    "pdb = mmtfReader.read_sequence_file(path)"
   ]
  },
  {
   "cell_type": "markdown",
   "metadata": {},
   "source": [
    "## Create a non-redundant subset\n",
    "Create a Pisces (Protein Sequence Culling Server, http://dunbrack.fccc.edu/PISCES.php) non-redundant subset for this analysis. Select protein chains with less than 40% sequence identity among each other and a resolution of 2.0 A or better."
   ]
  },
  {
   "cell_type": "code",
   "execution_count": 4,
   "metadata": {},
   "outputs": [],
   "source": [
    "pdb = pdb.filter(Pisces(sequenceIdentity = 40, resolution = 2.0))"
   ]
  },
  {
   "cell_type": "markdown",
   "metadata": {},
   "source": [
    "## Find ATP interactions within 3.3 Angstroms\n",
    "Find interactions within 3 A around each ATP.\n",
    "\n",
    "![ATPInteraction](./figures/atp-dist2.jpg)"
   ]
  },
  {
   "cell_type": "code",
   "execution_count": 5,
   "metadata": {},
   "outputs": [],
   "source": [
    "finder = groupInteractionExtractor(\"ATP\", 3.3)\n",
    "\n",
    "interactions = finder.get_dataset(pdb)"
   ]
  },
  {
   "cell_type": "markdown",
   "metadata": {},
   "source": [
    "## Find interactions with the terminal phosphate in ATP\n",
    "The three oxygen atom in the terminal phosphate have names O1G, O2G, O3G."
   ]
  },
  {
   "cell_type": "code",
   "execution_count": 6,
   "metadata": {},
   "outputs": [],
   "source": [
    "interactions = interactions.filter(\"atom1 LIKE('O%G')\").cache()"
   ]
  },
  {
   "cell_type": "markdown",
   "metadata": {},
   "source": [
    "## Show the data schema of the dataset and some data"
   ]
  },
  {
   "cell_type": "code",
   "execution_count": 7,
   "metadata": {},
   "outputs": [
    {
     "name": "stdout",
     "output_type": "stream",
     "text": [
      "root\n",
      " |-- structureId: string (nullable = false)\n",
      " |-- residue1: string (nullable = false)\n",
      " |-- atom1: string (nullable = false)\n",
      " |-- element1: string (nullable = false)\n",
      " |-- index1: integer (nullable = false)\n",
      " |-- residue2: string (nullable = false)\n",
      " |-- atom2: string (nullable = false)\n",
      " |-- element2: string (nullable = false)\n",
      " |-- index2: integer (nullable = false)\n",
      " |-- distance: float (nullable = false)\n",
      "\n",
      "+-----------+--------+-----+--------+------+--------+-----+--------+------+---------+\n",
      "|structureId|residue1|atom1|element1|index1|residue2|atom2|element2|index2| distance|\n",
      "+-----------+--------+-----+--------+------+--------+-----+--------+------+---------+\n",
      "|       3SJH|     ATP|  O3G|       O|   379|     SER|    N|       N|     8| 2.702945|\n",
      "|       3SJH|     ATP|  O3G|       O|   379|     SER|   CB|       C|     8|3.2578347|\n",
      "|       3SJH|     ATP|  O3G|       O|   379|     SER|   OG|       O|     8| 2.708776|\n",
      "|       3SJH|     ATP|  O1G|       O|   379|     ASP|    N|       N|   142|3.0229247|\n",
      "|       3SJH|     ATP|  O1G|       O|   379|     GLY|    N|       N|   143|2.7660923|\n",
      "|       3SJH|     ATP|  O1G|       O|   379|     VAL|    N|       N|   144| 2.976222|\n",
      "|       3SJH|     ATP|  O2G|       O|   379|      MG|   MG|      Mg|   380|2.0796828|\n",
      "|       3SJH|     ATP|  O2G|       O|   379|     HOH|    O|       O|   382|2.7689168|\n",
      "|       3SJH|     ATP|  O2G|       O|   379|     HOH|    O|       O|   385|3.0972311|\n",
      "|       3SJH|     ATP|  O3G|       O|   379|     HOH|    O|       O|   386|2.7611248|\n",
      "|       3SJH|     ATP|  O2G|       O|   379|     HOH|    O|       O|   388|2.6978323|\n",
      "|       3QXC|     ATP|  O3G|       O|   224|     THR|  OG1|       O|    12|2.8669226|\n",
      "|       3QXC|     ATP|  O3G|       O|   224|     ASN|    N|       N|    13| 3.175012|\n",
      "|       3QXC|     ATP|  O3G|       O|   224|     ASN|    N|       N|    13|3.1403465|\n",
      "|       3QXC|     ATP|  O3G|       O|   224|     LYS|   NZ|       N|    16|2.7852054|\n",
      "|       3QXC|     ATP|  O1G|       O|   224|     ASP|  OD2|       O|    53|3.0470016|\n",
      "|       3QXC|     ATP|  O1G|       O|   224|     GLU|  OE2|       O|   119|2.9948003|\n",
      "|       3QXC|     ATP|  O1G|       O|   224|      MG|   MG|      Mg|   225|2.0411394|\n",
      "|       3QXC|     ATP|  O3G|       O|   224|     HOH|    O|       O|   297|2.6767015|\n",
      "|       3QXC|     ATP|  O1G|       O|   224|     HOH|    O|       O|   365|3.0416102|\n",
      "+-----------+--------+-----+--------+------+--------+-----+--------+------+---------+\n",
      "only showing top 20 rows\n",
      "\n"
     ]
    }
   ],
   "source": [
    "interactions.printSchema()\n",
    "\n",
    "interactions.show(20)"
   ]
  },
  {
   "cell_type": "markdown",
   "metadata": {},
   "source": [
    "## Count number of interactions"
   ]
  },
  {
   "cell_type": "code",
   "execution_count": 8,
   "metadata": {},
   "outputs": [
    {
     "name": "stdout",
     "output_type": "stream",
     "text": [
      "Number of interactions: 638\n"
     ]
    }
   ],
   "source": [
    "n = interactions.count()\n",
    "\n",
    "print(f\"Number of interactions: {n}\")"
   ]
  },
  {
   "cell_type": "markdown",
   "metadata": {},
   "source": [
    "## Identify top interacting groups with terminal phosphate in ATP"
   ]
  },
  {
   "cell_type": "code",
   "execution_count": 9,
   "metadata": {},
   "outputs": [
    {
     "name": "stdout",
     "output_type": "stream",
     "text": [
      "+--------+-----+\n",
      "|residue2|count|\n",
      "+--------+-----+\n",
      "|     HOH|  224|\n",
      "|     SER|   61|\n",
      "|     GLY|   49|\n",
      "|     PO4|   45|\n",
      "|     LYS|   42|\n",
      "|     ARG|   42|\n",
      "|      MG|   36|\n",
      "|     GLU|   24|\n",
      "|     ASP|   17|\n",
      "|     ATP|   16|\n",
      "+--------+-----+\n",
      "only showing top 10 rows\n",
      "\n"
     ]
    }
   ],
   "source": [
    "topGroups = interactions.groupBy(\"residue2\").count()\n",
    "\n",
    "topGroups.sort(\"count\", ascending = False).show(10) # Sort descending by count"
   ]
  },
  {
   "cell_type": "markdown",
   "metadata": {},
   "source": [
    "## Top interacting groups/atom types"
   ]
  },
  {
   "cell_type": "code",
   "execution_count": 10,
   "metadata": {},
   "outputs": [
    {
     "name": "stdout",
     "output_type": "stream",
     "text": [
      "+--------+-----+-----+--------------------+\n",
      "|residue2|atom2|count|           frequency|\n",
      "+--------+-----+-----+--------------------+\n",
      "|     HOH|    O|  224|  0.3510971786833856|\n",
      "|      MG|   MG|   36| 0.05642633228840126|\n",
      "|     LYS|   NZ|   33| 0.05172413793103448|\n",
      "|     GLY|    N|   28|  0.0438871473354232|\n",
      "|     SER|   OG|   23| 0.03605015673981191|\n",
      "|     SER|    N|   15|0.023510971786833857|\n",
      "|     SER|   CB|   15|0.023510971786833857|\n",
      "|     GLY|   CA|   12|0.018808777429467086|\n",
      "|     ARG|  NH2|   12|0.018808777429467086|\n",
      "|     ASN|  ND2|   10| 0.01567398119122257|\n",
      "+--------+-----+-----+--------------------+\n",
      "only showing top 10 rows\n",
      "\n"
     ]
    }
   ],
   "source": [
    "topGroupsAndAtoms = interactions.groupBy(\"residue2\",\"atom2\").count()\n",
    "\n",
    "topGroupsAndAtoms.withColumn(\"frequency\", topGroupsAndAtoms[\"count\"] / n)\\\n",
    "                 .sort(\"frequency\", ascending = False) \\\n",
    "                 .show(10)"
   ]
  },
  {
   "cell_type": "markdown",
   "metadata": {
    "collapsed": true
   },
   "source": [
    "# Terminate Spark"
   ]
  },
  {
   "cell_type": "code",
   "execution_count": 11,
   "metadata": {},
   "outputs": [],
   "source": [
    "spark.stop()"
   ]
  }
 ],
 "metadata": {
  "kernelspec": {
   "display_name": "Python 3",
   "language": "python",
   "name": "python3"
  },
  "language_info": {
   "codemirror_mode": {
    "name": "ipython",
    "version": 3
   },
   "file_extension": ".py",
   "mimetype": "text/x-python",
   "name": "python",
   "nbconvert_exporter": "python",
   "pygments_lexer": "ipython3",
   "version": "3.6.5"
  }
 },
 "nbformat": 4,
 "nbformat_minor": 2
}
