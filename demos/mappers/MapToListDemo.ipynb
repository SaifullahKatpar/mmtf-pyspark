{
 "cells": [
  {
   "cell_type": "markdown",
   "metadata": {},
   "source": [
    "# Map To List Demo\n",
    "\n",
    "This example shows how to filter pdb proteins by X-Ray Diffraction, and store information (protein name, resolution, rFree, rWork) of the results in a list\n",
    "\n",
    "## Imports"
   ]
  },
  {
   "cell_type": "code",
   "execution_count": 1,
   "metadata": {},
   "outputs": [],
   "source": [
    "from pyspark.sql import SparkSession\n",
    "from mmtfPyspark.filters import ExperimentalMethods\n",
    "from mmtfPyspark.io import mmtfReader"
   ]
  },
  {
   "cell_type": "markdown",
   "metadata": {},
   "source": [
    "#### Configure Spark "
   ]
  },
  {
   "cell_type": "code",
   "execution_count": 2,
   "metadata": {},
   "outputs": [],
   "source": [
    "spark = SparkSession.builder.appName(\"MapToListDemo\").getOrCreate()"
   ]
  },
  {
   "cell_type": "markdown",
   "metadata": {},
   "source": [
    "## Read in MMTF Files and sample a small fraction"
   ]
  },
  {
   "cell_type": "code",
   "execution_count": 3,
   "metadata": {},
   "outputs": [],
   "source": [
    "path = \"../../resources/mmtf_full_sample/\"\n",
    "fraction = 0.001\n",
    "seed = 123\n",
    "\n",
    "pdb = mmtfReader.read_sequence_file(path, fraction = fraction, seed = seed)"
   ]
  },
  {
   "cell_type": "markdown",
   "metadata": {},
   "source": [
    "## Filter by X-Ray Diffraction experimental method"
   ]
  },
  {
   "cell_type": "code",
   "execution_count": 4,
   "metadata": {},
   "outputs": [],
   "source": [
    "pdb = pdb.filter(ExperimentalMethods(ExperimentalMethods.X_RAY_DIFFRACTION))"
   ]
  },
  {
   "cell_type": "markdown",
   "metadata": {},
   "source": [
    "## Map results to a list of information, and print each list"
   ]
  },
  {
   "cell_type": "code",
   "execution_count": 5,
   "metadata": {},
   "outputs": [
    {
     "data": {
      "text/plain": [
       "[['5GS7', 1.5, 0.23747000098228455, 0.2085999995470047],\n",
       " ['4G92', 1.7999999523162842, 0.19008000195026398, 0.1567399948835373],\n",
       " ['2YVE', 1.399999976158142, 0.22300000488758087, 0.2029999941587448],\n",
       " ['3BHD', 1.5, 0.20116999745368958, 0.1764799952507019],\n",
       " ['1Y6Z', 1.8799999952316284, 0.26750001311302185, 0.20604999363422394],\n",
       " ['4QKW', 1.7000000476837158, 0.24490000307559967, 0.21230000257492065],\n",
       " ['5ET3', 1.6710000038146973, 0.2443999946117401, 0.21809999644756317],\n",
       " ['4LLD', 1.190000057220459, 0.16991999745368958, 0.1447100043296814],\n",
       " ['3KK4', 1.9500000476837158, 0.1992100030183792, 0.14518000185489655],\n",
       " ['2HHC', 1.5399999618530273, 0.19699999690055847, 0.18199999630451202],\n",
       " ['1ETE', 2.200000047683716, 0.28700000047683716, 0.23899999260902405],\n",
       " ['1WDC', 2.0, 0.2809999883174896, 0.1940000057220459],\n",
       " ['1UCD', 1.2999999523162842, 0.2029999941587448, 0.20000000298023224]]"
      ]
     },
     "execution_count": 5,
     "metadata": {},
     "output_type": "execute_result"
    }
   ],
   "source": [
    "pdb.map(lambda t: [t[0], t[1].resolution, t[1].r_free, t[1].r_work]).collect()"
   ]
  },
  {
   "cell_type": "markdown",
   "metadata": {},
   "source": [
    "## Terminate Spark"
   ]
  },
  {
   "cell_type": "code",
   "execution_count": 6,
   "metadata": {},
   "outputs": [],
   "source": [
    "spark.stop()"
   ]
  }
 ],
 "metadata": {
  "kernelspec": {
   "display_name": "Python 3",
   "language": "python",
   "name": "python3"
  },
  "language_info": {
   "codemirror_mode": {
    "name": "ipython",
    "version": 3
   },
   "file_extension": ".py",
   "mimetype": "text/x-python",
   "name": "python",
   "nbconvert_exporter": "python",
   "pygments_lexer": "ipython3",
   "version": "3.7.3"
  }
 },
 "nbformat": 4,
 "nbformat_minor": 2
}
