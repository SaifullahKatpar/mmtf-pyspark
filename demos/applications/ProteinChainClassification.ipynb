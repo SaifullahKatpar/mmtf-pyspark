{
 "cells": [
  {
   "cell_type": "markdown",
   "metadata": {},
   "source": [
    "# Machine learning - Protein Chain Classification\n",
    "\n",
    "In this demo we try to classify a protein chain as either an all alpha or all beta protein based on protein sequence. We use n-grams and a Word2Vec representation of the protein sequence as a feature vector.\n",
    "\n",
    "[Word2Vec model](https://spark.apache.org/docs/latest/mllib-feature-extraction.html#word2vec)\n",
    "\n",
    "[Word2Vec example](https://spark.apache.org/docs/latest/ml-features.html#word2vec)\n",
    "\n",
    "## Imports"
   ]
  },
  {
   "cell_type": "code",
   "execution_count": 1,
   "metadata": {},
   "outputs": [],
   "source": [
    "from pyspark.sql import SparkSession\n",
    "from pyspark.sql.functions import *\n",
    "from pyspark.sql.types import *\n",
    "from mmtfPyspark.io import mmtfReader\n",
    "from mmtfPyspark.webfilters import Pisces\n",
    "from mmtfPyspark.filters import ContainsLProteinChain\n",
    "from mmtfPyspark.mappers import StructureToPolymerChains\n",
    "from mmtfPyspark.datasets import secondaryStructureExtractor\n",
    "from mmtfPyspark.ml import ProteinSequenceEncoder, SparkMultiClassClassifier, datasetBalancer   \n",
    "from pyspark.sql.functions import *\n",
    "from pyspark.ml.classification import DecisionTreeClassifier, LogisticRegression, MultilayerPerceptronClassifier, RandomForestClassifier"
   ]
  },
  {
   "cell_type": "markdown",
   "metadata": {},
   "source": [
    "#### Configure Spark "
   ]
  },
  {
   "cell_type": "code",
   "execution_count": 2,
   "metadata": {},
   "outputs": [],
   "source": [
    "spark = SparkSession.builder.appName(\"ProteinChainClassification\").getOrCreate()"
   ]
  },
  {
   "cell_type": "markdown",
   "metadata": {},
   "source": [
    "## Read MMTF File and create a non-redundant set (<=40% seq. identity) of L-protein clains"
   ]
  },
  {
   "cell_type": "code",
   "execution_count": 3,
   "metadata": {},
   "outputs": [],
   "source": [
    "pdb = mmtfReader.read_sequence_file('../../resources/mmtf_reduced_sample/') \\\n",
    "                .flatMap(StructureToPolymerChains()) \\\n",
    "                .filter(Pisces(sequenceIdentity=40,resolution=3.0))"
   ]
  },
  {
   "cell_type": "markdown",
   "metadata": {},
   "source": [
    "## Get secondary structure content"
   ]
  },
  {
   "cell_type": "code",
   "execution_count": 4,
   "metadata": {},
   "outputs": [],
   "source": [
    "data = secondaryStructureExtractor.get_dataset(pdb)"
   ]
  },
  {
   "cell_type": "markdown",
   "metadata": {},
   "source": [
    "## Define addProteinFoldType function"
   ]
  },
  {
   "cell_type": "code",
   "execution_count": 5,
   "metadata": {},
   "outputs": [],
   "source": [
    "def add_protein_fold_type(data, minThreshold, maxThreshold):\n",
    "    '''\n",
    "    Adds a column \"foldType\" with three major secondary structure class:\n",
    "    \"alpha\", \"beta\", \"alpha+beta\", and \"other\" based upon the fraction of alpha/beta content.\n",
    "\n",
    "    The simplified syntax used in this method relies on two imports:\n",
    "        from pyspark.sql.functions import when\n",
    "        from pyspark.sql.functions import col\n",
    "\n",
    "    Attributes:\n",
    "        data (Dataset<Row>): input dataset with alpha, beta composition\n",
    "        minThreshold (float): below this threshold, the secondary structure is ignored\n",
    "        maxThreshold (float): above this threshold, the secondary structure is ignored\n",
    "    '''\n",
    "\n",
    "    return data.withColumn(\"foldType\", \\\n",
    "                           when((col(\"alpha\") > maxThreshold) & (col(\"beta\") < minThreshold), \"alpha\"). \\\n",
    "                           when((col(\"beta\") > maxThreshold) & (col(\"alpha\") < minThreshold), \"beta\"). \\\n",
    "                           when((col(\"alpha\") > maxThreshold) & (col(\"beta\") > maxThreshold), \"alpha+beta\"). \\\n",
    "                           otherwise(\"other\")\\\n",
    "                           )"
   ]
  },
  {
   "cell_type": "markdown",
   "metadata": {},
   "source": [
    "## Classify chains by secondary structure type"
   ]
  },
  {
   "cell_type": "code",
   "execution_count": 6,
   "metadata": {},
   "outputs": [],
   "source": [
    "data = add_protein_fold_type(data, minThreshold=0.05, maxThreshold=0.15)"
   ]
  },
  {
   "cell_type": "markdown",
   "metadata": {},
   "source": [
    "## Create a Word2Vec representation of the protein sequences\n",
    "\n",
    "**n = 2**     # create 2-grams \n",
    "\n",
    "**windowSize = 25**    # 25-amino residue window size for Word2Vector\n",
    "\n",
    "**vectorSize = 50**    # dimension of feature vector"
   ]
  },
  {
   "cell_type": "code",
   "execution_count": 7,
   "metadata": {},
   "outputs": [
    {
     "data": {
      "text/html": [
       "<div>\n",
       "<style scoped>\n",
       "    .dataframe tbody tr th:only-of-type {\n",
       "        vertical-align: middle;\n",
       "    }\n",
       "\n",
       "    .dataframe tbody tr th {\n",
       "        vertical-align: top;\n",
       "    }\n",
       "\n",
       "    .dataframe thead th {\n",
       "        text-align: right;\n",
       "    }\n",
       "</style>\n",
       "<table border=\"1\" class=\"dataframe\">\n",
       "  <thead>\n",
       "    <tr style=\"text-align: right;\">\n",
       "      <th></th>\n",
       "      <th>structureChainId</th>\n",
       "      <th>sequence</th>\n",
       "      <th>alpha</th>\n",
       "      <th>beta</th>\n",
       "      <th>coil</th>\n",
       "      <th>dsspQ8Code</th>\n",
       "      <th>dsspQ3Code</th>\n",
       "      <th>foldType</th>\n",
       "      <th>ngram</th>\n",
       "      <th>features</th>\n",
       "    </tr>\n",
       "  </thead>\n",
       "  <tbody>\n",
       "    <tr>\n",
       "      <th>0</th>\n",
       "      <td>4WMY.B</td>\n",
       "      <td>TDWSHPQFEKSTDEANTYFKEWTCSSSPSLPRSCKEIKDECPSAFD...</td>\n",
       "      <td>0.170819</td>\n",
       "      <td>0.263345</td>\n",
       "      <td>0.565836</td>\n",
       "      <td>XXXXXXXXXXXXXXXXXXXXXCCCXXXXCCCSSHHHHHHHCTTCCS...</td>\n",
       "      <td>XXXXXXXXXXXXXXXXXXXXXCCCXXXXCCCCCHHHHHHHCCCCCC...</td>\n",
       "      <td>alpha+beta</td>\n",
       "      <td>[TD, DW, WS, SH, HP, PQ, QF, FE, EK, KS, ST, T...</td>\n",
       "      <td>[-0.2564170308716473, -0.1645781719721243, -0....</td>\n",
       "    </tr>\n",
       "    <tr>\n",
       "      <th>1</th>\n",
       "      <td>4WN5.A</td>\n",
       "      <td>GSHMGRGAFLSRHSLDMKFTYCDDRIAEVAGYSPDDLIGCSAYEYI...</td>\n",
       "      <td>0.296296</td>\n",
       "      <td>0.379630</td>\n",
       "      <td>0.324074</td>\n",
       "      <td>XXCCCCCCEEEEECTTCBEEEECGGHHHHHSCCHHHHBTSBGGGGB...</td>\n",
       "      <td>XXCCCCCCEEEEECCCCEEEEECHHHHHHHCCCHHHHECCEHHHHE...</td>\n",
       "      <td>alpha+beta</td>\n",
       "      <td>[GS, SH, HM, MG, GR, RG, GA, AF, FL, LS, SR, R...</td>\n",
       "      <td>[-0.06936275625699445, -0.047815551295092226, ...</td>\n",
       "    </tr>\n",
       "    <tr>\n",
       "      <th>2</th>\n",
       "      <td>4WND.B</td>\n",
       "      <td>GPLGSDLPPKVVPSKQLLHSDHMEMEPETMETKSVTDYFSKLHMGS...</td>\n",
       "      <td>0.115385</td>\n",
       "      <td>0.000000</td>\n",
       "      <td>0.884615</td>\n",
       "      <td>XXXXXXXXXXXXXXXCCCCCCCCCCCCCCCCCCCGGGTTCCXXXXX...</td>\n",
       "      <td>XXXXXXXXXXXXXXXCCCCCCCCCCCCCCCCCCCHHHCCCCXXXXX...</td>\n",
       "      <td>other</td>\n",
       "      <td>[GP, PL, LG, GS, SD, DL, LP, PP, PK, KV, VV, V...</td>\n",
       "      <td>[-0.20551030337810516, -0.009358869435695503, ...</td>\n",
       "    </tr>\n",
       "    <tr>\n",
       "      <th>3</th>\n",
       "      <td>4WP6.A</td>\n",
       "      <td>GSHHHHHHSQDPMQAAQETKQKLTSCLARRYNAEQKLLDLSALGTD...</td>\n",
       "      <td>0.456954</td>\n",
       "      <td>0.119205</td>\n",
       "      <td>0.423841</td>\n",
       "      <td>XXXXXXXXXXXXXXXXXXCHHHHHHHHHHHEETTTTEEECTTGGGC...</td>\n",
       "      <td>XXXXXXXXXXXXXXXXXXCHHHHHHHHHHHEECCCCEEECCCHHHC...</td>\n",
       "      <td>other</td>\n",
       "      <td>[GS, SH, HH, HH, HH, HH, HH, HS, SQ, QD, DP, P...</td>\n",
       "      <td>[-0.09747267771348522, -0.11870341383657614, -...</td>\n",
       "    </tr>\n",
       "    <tr>\n",
       "      <th>4</th>\n",
       "      <td>4WP9.A</td>\n",
       "      <td>FQGAMGSRVVILFTDIEESTALNERIGDRAWVKLISSHDKLVSDLV...</td>\n",
       "      <td>0.393939</td>\n",
       "      <td>0.315152</td>\n",
       "      <td>0.290909</td>\n",
       "      <td>XXCCSSEEEEEEEEEETTHHHHHHHHCHHHHHHHHHHHHHHHHHHH...</td>\n",
       "      <td>XXCCCCEEEEEEEEEECCHHHHHHHHCHHHHHHHHHHHHHHHHHHH...</td>\n",
       "      <td>alpha+beta</td>\n",
       "      <td>[FQ, QG, GA, AM, MG, GS, SR, RV, VV, VI, IL, L...</td>\n",
       "      <td>[0.0453769032293084, -0.09423059372189031, -0....</td>\n",
       "    </tr>\n",
       "  </tbody>\n",
       "</table>\n",
       "</div>"
      ],
      "text/plain": [
       "  structureChainId                                           sequence  \\\n",
       "0           4WMY.B  TDWSHPQFEKSTDEANTYFKEWTCSSSPSLPRSCKEIKDECPSAFD...   \n",
       "1           4WN5.A  GSHMGRGAFLSRHSLDMKFTYCDDRIAEVAGYSPDDLIGCSAYEYI...   \n",
       "2           4WND.B  GPLGSDLPPKVVPSKQLLHSDHMEMEPETMETKSVTDYFSKLHMGS...   \n",
       "3           4WP6.A  GSHHHHHHSQDPMQAAQETKQKLTSCLARRYNAEQKLLDLSALGTD...   \n",
       "4           4WP9.A  FQGAMGSRVVILFTDIEESTALNERIGDRAWVKLISSHDKLVSDLV...   \n",
       "\n",
       "      alpha      beta      coil  \\\n",
       "0  0.170819  0.263345  0.565836   \n",
       "1  0.296296  0.379630  0.324074   \n",
       "2  0.115385  0.000000  0.884615   \n",
       "3  0.456954  0.119205  0.423841   \n",
       "4  0.393939  0.315152  0.290909   \n",
       "\n",
       "                                          dsspQ8Code  \\\n",
       "0  XXXXXXXXXXXXXXXXXXXXXCCCXXXXCCCSSHHHHHHHCTTCCS...   \n",
       "1  XXCCCCCCEEEEECTTCBEEEECGGHHHHHSCCHHHHBTSBGGGGB...   \n",
       "2  XXXXXXXXXXXXXXXCCCCCCCCCCCCCCCCCCCGGGTTCCXXXXX...   \n",
       "3  XXXXXXXXXXXXXXXXXXCHHHHHHHHHHHEETTTTEEECTTGGGC...   \n",
       "4  XXCCSSEEEEEEEEEETTHHHHHHHHCHHHHHHHHHHHHHHHHHHH...   \n",
       "\n",
       "                                          dsspQ3Code    foldType  \\\n",
       "0  XXXXXXXXXXXXXXXXXXXXXCCCXXXXCCCCCHHHHHHHCCCCCC...  alpha+beta   \n",
       "1  XXCCCCCCEEEEECCCCEEEEECHHHHHHHCCCHHHHECCEHHHHE...  alpha+beta   \n",
       "2  XXXXXXXXXXXXXXXCCCCCCCCCCCCCCCCCCCHHHCCCCXXXXX...       other   \n",
       "3  XXXXXXXXXXXXXXXXXXCHHHHHHHHHHHEECCCCEEECCCHHHC...       other   \n",
       "4  XXCCCCEEEEEEEEEECCHHHHHHHHCHHHHHHHHHHHHHHHHHHH...  alpha+beta   \n",
       "\n",
       "                                               ngram  \\\n",
       "0  [TD, DW, WS, SH, HP, PQ, QF, FE, EK, KS, ST, T...   \n",
       "1  [GS, SH, HM, MG, GR, RG, GA, AF, FL, LS, SR, R...   \n",
       "2  [GP, PL, LG, GS, SD, DL, LP, PP, PK, KV, VV, V...   \n",
       "3  [GS, SH, HH, HH, HH, HH, HH, HS, SQ, QD, DP, P...   \n",
       "4  [FQ, QG, GA, AM, MG, GS, SR, RV, VV, VI, IL, L...   \n",
       "\n",
       "                                            features  \n",
       "0  [-0.2564170308716473, -0.1645781719721243, -0....  \n",
       "1  [-0.06936275625699445, -0.047815551295092226, ...  \n",
       "2  [-0.20551030337810516, -0.009358869435695503, ...  \n",
       "3  [-0.09747267771348522, -0.11870341383657614, -...  \n",
       "4  [0.0453769032293084, -0.09423059372189031, -0....  "
      ]
     },
     "execution_count": 7,
     "metadata": {},
     "output_type": "execute_result"
    }
   ],
   "source": [
    "encoder = ProteinSequenceEncoder(data)\n",
    "data = encoder.overlapping_ngram_word2vec_encode(n=2, windowSize=25, vectorSize=50).cache()\n",
    "\n",
    "data.toPandas().head(5)"
   ]
  },
  {
   "cell_type": "markdown",
   "metadata": {},
   "source": [
    "## Keep only a subset of relevant fields for further processing"
   ]
  },
  {
   "cell_type": "code",
   "execution_count": 8,
   "metadata": {},
   "outputs": [],
   "source": [
    "data = data.select(['structureChainId','alpha','beta','coil','foldType','features'])"
   ]
  },
  {
   "cell_type": "markdown",
   "metadata": {},
   "source": [
    "## Select only alpha and beta foldType to parquet file"
   ]
  },
  {
   "cell_type": "code",
   "execution_count": 9,
   "metadata": {},
   "outputs": [
    {
     "name": "stdout",
     "output_type": "stream",
     "text": [
      "Total number of data: 2341\n"
     ]
    },
    {
     "data": {
      "text/html": [
       "<div>\n",
       "<style scoped>\n",
       "    .dataframe tbody tr th:only-of-type {\n",
       "        vertical-align: middle;\n",
       "    }\n",
       "\n",
       "    .dataframe tbody tr th {\n",
       "        vertical-align: top;\n",
       "    }\n",
       "\n",
       "    .dataframe thead th {\n",
       "        text-align: right;\n",
       "    }\n",
       "</style>\n",
       "<table border=\"1\" class=\"dataframe\">\n",
       "  <thead>\n",
       "    <tr style=\"text-align: right;\">\n",
       "      <th></th>\n",
       "      <th>structureChainId</th>\n",
       "      <th>alpha</th>\n",
       "      <th>beta</th>\n",
       "      <th>coil</th>\n",
       "      <th>foldType</th>\n",
       "      <th>features</th>\n",
       "    </tr>\n",
       "  </thead>\n",
       "  <tbody>\n",
       "    <tr>\n",
       "      <th>0</th>\n",
       "      <td>1GWM.A</td>\n",
       "      <td>0.039216</td>\n",
       "      <td>0.503268</td>\n",
       "      <td>0.457516</td>\n",
       "      <td>beta</td>\n",
       "      <td>[-0.0784562407429085, -0.23499373910262394, -0...</td>\n",
       "    </tr>\n",
       "    <tr>\n",
       "      <th>1</th>\n",
       "      <td>1GXR.A</td>\n",
       "      <td>0.000000</td>\n",
       "      <td>0.543284</td>\n",
       "      <td>0.456716</td>\n",
       "      <td>beta</td>\n",
       "      <td>[-0.19994124448082098, -0.12346233704149545, -...</td>\n",
       "    </tr>\n",
       "    <tr>\n",
       "      <th>2</th>\n",
       "      <td>1H2K.S</td>\n",
       "      <td>0.333333</td>\n",
       "      <td>0.000000</td>\n",
       "      <td>0.666667</td>\n",
       "      <td>alpha</td>\n",
       "      <td>[-0.09425241947174073, -0.1447215843014419, -0...</td>\n",
       "    </tr>\n",
       "    <tr>\n",
       "      <th>3</th>\n",
       "      <td>1H32.B</td>\n",
       "      <td>0.318519</td>\n",
       "      <td>0.037037</td>\n",
       "      <td>0.644444</td>\n",
       "      <td>alpha</td>\n",
       "      <td>[-0.3225205926510104, -0.07207524626223492, -0...</td>\n",
       "    </tr>\n",
       "    <tr>\n",
       "      <th>4</th>\n",
       "      <td>1H6G.A</td>\n",
       "      <td>0.827451</td>\n",
       "      <td>0.000000</td>\n",
       "      <td>0.172549</td>\n",
       "      <td>alpha</td>\n",
       "      <td>[-0.10379326214977339, -0.13861494888277615, -...</td>\n",
       "    </tr>\n",
       "  </tbody>\n",
       "</table>\n",
       "</div>"
      ],
      "text/plain": [
       "  structureChainId     alpha      beta      coil foldType  \\\n",
       "0           1GWM.A  0.039216  0.503268  0.457516     beta   \n",
       "1           1GXR.A  0.000000  0.543284  0.456716     beta   \n",
       "2           1H2K.S  0.333333  0.000000  0.666667    alpha   \n",
       "3           1H32.B  0.318519  0.037037  0.644444    alpha   \n",
       "4           1H6G.A  0.827451  0.000000  0.172549    alpha   \n",
       "\n",
       "                                            features  \n",
       "0  [-0.0784562407429085, -0.23499373910262394, -0...  \n",
       "1  [-0.19994124448082098, -0.12346233704149545, -...  \n",
       "2  [-0.09425241947174073, -0.1447215843014419, -0...  \n",
       "3  [-0.3225205926510104, -0.07207524626223492, -0...  \n",
       "4  [-0.10379326214977339, -0.13861494888277615, -...  "
      ]
     },
     "execution_count": 9,
     "metadata": {},
     "output_type": "execute_result"
    }
   ],
   "source": [
    "data = data.where((data.foldType == 'alpha') | (data.foldType == 'beta')) #| (data.foldType == 'other'))\n",
    "\n",
    "print(f\"Total number of data: {data.count()}\")\n",
    "data.toPandas().head()"
   ]
  },
  {
   "cell_type": "markdown",
   "metadata": {},
   "source": [
    "## Basic dataset information and setting"
   ]
  },
  {
   "cell_type": "code",
   "execution_count": 10,
   "metadata": {},
   "outputs": [
    {
     "name": "stdout",
     "output_type": "stream",
     "text": [
      "Feature count    : 50\n",
      "Class count    : 2\n",
      "Dataset size (unbalanced)    : 2341\n",
      "+--------+-----+\n",
      "|foldType|count|\n",
      "+--------+-----+\n",
      "|    beta|  613|\n",
      "|   alpha| 1728|\n",
      "+--------+-----+\n",
      "\n",
      "Dataset size (balanced)  : 1230\n",
      "+--------+-----+\n",
      "|foldType|count|\n",
      "+--------+-----+\n",
      "|    beta|  613|\n",
      "|   alpha|  617|\n",
      "+--------+-----+\n",
      "\n"
     ]
    }
   ],
   "source": [
    "label = 'foldType'\n",
    "testFraction = 0.1\n",
    "seed = 123\n",
    "\n",
    "vector = data.first()[\"features\"]\n",
    "featureCount = len(vector)\n",
    "print(f\"Feature count    : {featureCount}\")\n",
    "    \n",
    "classCount = int(data.select(label).distinct().count())\n",
    "print(f\"Class count    : {classCount}\")\n",
    "\n",
    "print(f\"Dataset size (unbalanced)    : {data.count()}\")\n",
    "    \n",
    "data.groupby(label).count().show(classCount)\n",
    "data = datasetBalancer.downsample(data, label, 1)\n",
    "print(f\"Dataset size (balanced)  : {data.count()}\")\n",
    "    \n",
    "data.groupby(label).count().show(classCount)"
   ]
  },
  {
   "cell_type": "markdown",
   "metadata": {},
   "source": [
    "## Decision Tree Classifier"
   ]
  },
  {
   "cell_type": "code",
   "execution_count": 11,
   "metadata": {},
   "outputs": [
    {
     "name": "stdout",
     "output_type": "stream",
     "text": [
      "\n",
      " Class\tTrain\tTest\n",
      "alpha\t555\t62\n",
      "beta\t551\t62\n",
      "\n",
      "Sample predictions: DecisionTreeClassifier\n",
      "+----------------+-----------+----------+----------+--------+--------------------+------------+-------------+--------------------+----------+--------------+\n",
      "|structureChainId|      alpha|      beta|      coil|foldType|            features|indexedLabel|rawPrediction|         probability|prediction|predictedLabel|\n",
      "+----------------+-----------+----------+----------+--------+--------------------+------------+-------------+--------------------+----------+--------------+\n",
      "|          2CO3.A| 0.02962963|0.54814816|0.42222223|    beta|[-0.3705799010691...|         1.0| [11.0,288.0]|[0.03678929765886...|       1.0|          beta|\n",
      "|          4CE8.C|        0.0| 0.7105263|0.28947368|    beta|[-0.3512168330824...|         1.0| [11.0,288.0]|[0.03678929765886...|       1.0|          beta|\n",
      "|          4KU0.D|        0.0|0.39583334| 0.6041667|    beta|[-0.3439378420381...|         1.0| [11.0,288.0]|[0.03678929765886...|       1.0|          beta|\n",
      "|          2YMO.A|0.018099548|0.44343892|0.53846157|    beta|[-0.1744073539998...|         1.0|  [23.0,97.0]|[0.19166666666666...|       1.0|          beta|\n",
      "|          3PDG.A|        0.0| 0.5934066| 0.4065934|    beta|[-0.1198260005294...|         1.0|   [3.0,21.0]|       [0.125,0.875]|       1.0|          beta|\n",
      "+----------------+-----------+----------+----------+--------+--------------------+------------+-------------+--------------------+----------+--------------+\n",
      "only showing top 5 rows\n",
      "\n",
      "Total time taken: 7.797654867172241\n",
      "\n",
      "Method\tDecisionTreeClassifier\n",
      "AUC\t0.8225806451612904\n",
      "F\t0.8225344782721832\n",
      "Accuracy\t0.8225806451612904\n",
      "Precision\t0.8229166666666667\n",
      "Recall\t0.8225806451612903\n",
      "False Positive Rate\t0.1774193548387097\n",
      "True Positive Rate\t0.8225806451612903\n",
      "\t\n",
      "Confusion Matrix\n",
      "['alpha', 'beta']\n",
      "DenseMatrix([[52., 10.],\n",
      "             [12., 50.]])\n"
     ]
    }
   ],
   "source": [
    "dtc = DecisionTreeClassifier()\n",
    "mcc = SparkMultiClassClassifier(dtc, label, testFraction, seed)\n",
    "matrics = mcc.fit(data)\n",
    "for k,v in matrics.items(): print(f\"{k}\\t{v}\")"
   ]
  },
  {
   "cell_type": "markdown",
   "metadata": {},
   "source": [
    "## Random Forest Classifier"
   ]
  },
  {
   "cell_type": "code",
   "execution_count": 12,
   "metadata": {},
   "outputs": [
    {
     "name": "stdout",
     "output_type": "stream",
     "text": [
      "\n",
      " Class\tTrain\tTest\n",
      "alpha\t555\t62\n",
      "beta\t551\t62\n",
      "\n",
      "Sample predictions: RandomForestClassifier\n",
      "+----------------+-----------+----------+----------+--------+--------------------+------------+--------------------+--------------------+----------+--------------+\n",
      "|structureChainId|      alpha|      beta|      coil|foldType|            features|indexedLabel|       rawPrediction|         probability|prediction|predictedLabel|\n",
      "+----------------+-----------+----------+----------+--------+--------------------+------------+--------------------+--------------------+----------+--------------+\n",
      "|          2CO3.A| 0.02962963|0.54814816|0.42222223|    beta|[-0.3705799010691...|         1.0|[0.89778332956146...|[0.04488916647807...|       1.0|          beta|\n",
      "|          4CE8.C|        0.0| 0.7105263|0.28947368|    beta|[-0.3512168330824...|         1.0|[1.01261707581008...|[0.05063085379050...|       1.0|          beta|\n",
      "|          4KU0.D|        0.0|0.39583334| 0.6041667|    beta|[-0.3439378420381...|         1.0|[2.98154979031410...|[0.14907748951570...|       1.0|          beta|\n",
      "|          2YMO.A|0.018099548|0.44343892|0.53846157|    beta|[-0.1744073539998...|         1.0|[5.50112759642578...|[0.27505637982128...|       1.0|          beta|\n",
      "|          3PDG.A|        0.0| 0.5934066| 0.4065934|    beta|[-0.1198260005294...|         1.0|[3.21313940204914...|[0.16065697010245...|       1.0|          beta|\n",
      "+----------------+-----------+----------+----------+--------+--------------------+------------+--------------------+--------------------+----------+--------------+\n",
      "only showing top 5 rows\n",
      "\n",
      "Total time taken: 10.168872117996216\n",
      "\n",
      "Method\tRandomForestClassifier\n",
      "AUC\t0.8306451612903226\n",
      "F\t0.830545975141537\n",
      "Accuracy\t0.8306451612903226\n",
      "Precision\t0.8314211212516297\n",
      "Recall\t0.8306451612903225\n",
      "False Positive Rate\t0.16935483870967744\n",
      "True Positive Rate\t0.8306451612903225\n",
      "\t\n",
      "Confusion Matrix\n",
      "['alpha', 'beta']\n",
      "DenseMatrix([[50., 12.],\n",
      "             [ 9., 53.]])\n"
     ]
    }
   ],
   "source": [
    "rfc = RandomForestClassifier()\n",
    "mcc = SparkMultiClassClassifier(rfc, label, testFraction, seed)\n",
    "matrics = mcc.fit(data)\n",
    "for k,v in matrics.items(): print(f\"{k}\\t{v}\")"
   ]
  },
  {
   "cell_type": "markdown",
   "metadata": {},
   "source": [
    "## Logistic Regression Classifier"
   ]
  },
  {
   "cell_type": "code",
   "execution_count": 13,
   "metadata": {},
   "outputs": [
    {
     "name": "stdout",
     "output_type": "stream",
     "text": [
      "\n",
      " Class\tTrain\tTest\n",
      "alpha\t555\t62\n",
      "beta\t551\t62\n",
      "\n",
      "Sample predictions: LogisticRegression\n",
      "+----------------+-----------+----------+----------+--------+--------------------+------------+--------------------+--------------------+----------+--------------+\n",
      "|structureChainId|      alpha|      beta|      coil|foldType|            features|indexedLabel|       rawPrediction|         probability|prediction|predictedLabel|\n",
      "+----------------+-----------+----------+----------+--------+--------------------+------------+--------------------+--------------------+----------+--------------+\n",
      "|          2CO3.A| 0.02962963|0.54814816|0.42222223|    beta|[-0.3705799010691...|         1.0|[-6.3102939898716...|[0.00181420152525...|       1.0|          beta|\n",
      "|          4CE8.C|        0.0| 0.7105263|0.28947368|    beta|[-0.3512168330824...|         1.0|[-6.9051730622340...|[0.00100158138251...|       1.0|          beta|\n",
      "|          4KU0.D|        0.0|0.39583334| 0.6041667|    beta|[-0.3439378420381...|         1.0|[-4.3179153293078...|[0.01315234859424...|       1.0|          beta|\n",
      "|          2YMO.A|0.018099548|0.44343892|0.53846157|    beta|[-0.1744073539998...|         1.0|[-1.5354029111074...|[0.17720455025018...|       1.0|          beta|\n",
      "|          3PDG.A|        0.0| 0.5934066| 0.4065934|    beta|[-0.1198260005294...|         1.0|[-5.6745503585630...|[0.00342047210902...|       1.0|          beta|\n",
      "+----------------+-----------+----------+----------+--------+--------------------+------------+--------------------+--------------------+----------+--------------+\n",
      "only showing top 5 rows\n",
      "\n",
      "Total time taken: 17.844291925430298\n",
      "\n",
      "Method\tLogisticRegression\n",
      "AUC\t0.8790322580645161\n",
      "F\t0.8788352550322455\n",
      "Accuracy\t0.8790322580645161\n",
      "Precision\t0.8815134852055512\n",
      "Recall\t0.8790322580645161\n",
      "False Positive Rate\t0.12096774193548387\n",
      "True Positive Rate\t0.8790322580645161\n",
      "\t\n",
      "Confusion Matrix\n",
      "['alpha', 'beta']\n",
      "DenseMatrix([[57.,  5.],\n",
      "             [10., 52.]])\n"
     ]
    }
   ],
   "source": [
    "lr = LogisticRegression()\n",
    "mcc = SparkMultiClassClassifier(lr, label, testFraction, seed)\n",
    "matrics = mcc.fit(data)\n",
    "for k,v in matrics.items(): print(f\"{k}\\t{v}\")"
   ]
  },
  {
   "cell_type": "markdown",
   "metadata": {},
   "source": [
    "## Simple Multilayer Perception Classifier"
   ]
  },
  {
   "cell_type": "code",
   "execution_count": 14,
   "metadata": {},
   "outputs": [
    {
     "name": "stdout",
     "output_type": "stream",
     "text": [
      "\n",
      " Class\tTrain\tTest\n",
      "alpha\t555\t62\n",
      "beta\t551\t62\n",
      "\n",
      "Sample predictions: MultilayerPerceptronClassifier\n",
      "+----------------+-----------+----------+----------+--------+--------------------+------------+--------------------+--------------------+----------+--------------+\n",
      "|structureChainId|      alpha|      beta|      coil|foldType|            features|indexedLabel|       rawPrediction|         probability|prediction|predictedLabel|\n",
      "+----------------+-----------+----------+----------+--------+--------------------+------------+--------------------+--------------------+----------+--------------+\n",
      "|          2CO3.A| 0.02962963|0.54814816|0.42222223|    beta|[-0.3705799010691...|         1.0|[-2.6646716073380...|[0.00946286442072...|       1.0|          beta|\n",
      "|          4CE8.C|        0.0| 0.7105263|0.28947368|    beta|[-0.3512168330824...|         1.0|[-2.7568692500591...|[0.00783295954254...|       1.0|          beta|\n",
      "|          4KU0.D|        0.0|0.39583334| 0.6041667|    beta|[-0.3439378420381...|         1.0|[-2.3035452224762...|[0.01809042048898...|       1.0|          beta|\n",
      "|          2YMO.A|0.018099548|0.44343892|0.53846157|    beta|[-0.1744073539998...|         1.0|[-2.1489681121933...|[0.03019559329294...|       1.0|          beta|\n",
      "|          3PDG.A|        0.0| 0.5934066| 0.4065934|    beta|[-0.1198260005294...|         1.0|[-2.1740726202183...|[0.02232750318326...|       1.0|          beta|\n",
      "+----------------+-----------+----------+----------+--------+--------------------+------------+--------------------+--------------------+----------+--------------+\n",
      "only showing top 5 rows\n",
      "\n",
      "Total time taken: 41.07979488372803\n",
      "\n",
      "Method\tMultilayerPerceptronClassifier\n",
      "AUC\t0.8548387096774194\n",
      "F\t0.8546875\n",
      "Accuracy\t0.8548387096774194\n",
      "Precision\t0.8563218390804598\n",
      "Recall\t0.8548387096774194\n",
      "False Positive Rate\t0.14516129032258066\n",
      "True Positive Rate\t0.8548387096774194\n",
      "\t\n",
      "Confusion Matrix\n",
      "['alpha', 'beta']\n",
      "DenseMatrix([[51., 11.],\n",
      "             [ 7., 55.]])\n"
     ]
    }
   ],
   "source": [
    "layers = [featureCount, 64, 64, classCount]\n",
    "mpc = MultilayerPerceptronClassifier().setLayers(layers) \\\n",
    "                                          .setBlockSize(128) \\\n",
    "                                          .setSeed(1234) \\\n",
    "                                          .setMaxIter(100)\n",
    "mcc = SparkMultiClassClassifier(mpc, label, testFraction, seed)\n",
    "matrics = mcc.fit(data)\n",
    "for k,v in matrics.items(): print(f\"{k}\\t{v}\")"
   ]
  },
  {
   "cell_type": "markdown",
   "metadata": {},
   "source": [
    "## Terminate Spark"
   ]
  },
  {
   "cell_type": "code",
   "execution_count": 15,
   "metadata": {},
   "outputs": [],
   "source": [
    "spark.stop()"
   ]
  }
 ],
 "metadata": {
  "kernelspec": {
   "display_name": "Python 3",
   "language": "python",
   "name": "python3"
  },
  "language_info": {
   "codemirror_mode": {
    "name": "ipython",
    "version": 3
   },
   "file_extension": ".py",
   "mimetype": "text/x-python",
   "name": "python",
   "nbconvert_exporter": "python",
   "pygments_lexer": "ipython3",
   "version": "3.7.3"
  }
 },
 "nbformat": 4,
 "nbformat_minor": 2
}
