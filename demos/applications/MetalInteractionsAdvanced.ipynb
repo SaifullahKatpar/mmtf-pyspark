{
 "cells": [
  {
   "cell_type": "markdown",
   "metadata": {},
   "source": [
    "# Example Of Using PySpark To Find Metal Interactions \n",
    "\n",
    "<br>\n",
    "<img src=\"./figures/metal_interaction.png\" width=600, align=\"left\">\n",
    "<br>"
   ]
  },
  {
   "cell_type": "markdown",
   "metadata": {},
   "source": [
    "## Imports and variables"
   ]
  },
  {
   "cell_type": "code",
   "execution_count": 1,
   "metadata": {
    "scrolled": true
   },
   "outputs": [],
   "source": [
    "from pyspark.sql import SparkSession\n",
    "from mmtfPyspark.io import mmtfReader\n",
    "from mmtfPyspark.interactions import InteractionFilter, GroupInteractionExtractor\n",
    "from mmtfPyspark.filters import ContainsLProteinChain, Resolution\n",
    "from mmtfPyspark.webfilters import Pisces\n",
    "from mmtfPyspark.structureViewer import group_interaction_viewer, metal_distance_widget\n",
    "import matplotlib.pyplot as plt\n",
    "import numpy as np\n",
    "import seaborn as sns\n",
    "import pandas as pd\n",
    "import py3Dmol    "
   ]
  },
  {
   "cell_type": "markdown",
   "metadata": {},
   "source": [
    "#### Configure Spark "
   ]
  },
  {
   "cell_type": "code",
   "execution_count": 2,
   "metadata": {},
   "outputs": [],
   "source": [
    "spark = SparkSession.builder.appName(\"MetalInteractionsAdvanced\").getOrCreate()\n",
    "# Enable Arrow-based columnar data transfers to Pandas\n",
    "spark.conf.set(\"spark.sql.execution.arrow.enabled\", \"true\")"
   ]
  },
  {
   "cell_type": "markdown",
   "metadata": {},
   "source": [
    "## Read PDB and create PISCES non-redundant set"
   ]
  },
  {
   "cell_type": "code",
   "execution_count": 3,
   "metadata": {},
   "outputs": [],
   "source": [
    "path = \"../../resources/mmtf_full_sample/\"\n",
    "pdb = mmtfReader.read_sequence_file(path)\n",
    "pdb = pdb.filter(Pisces(sequenceIdentity = 30, resolution = 2.5))         "
   ]
  },
  {
   "cell_type": "markdown",
   "metadata": {},
   "source": [
    "## Setup criteria for metal interactions"
   ]
  },
  {
   "cell_type": "code",
   "execution_count": 4,
   "metadata": {},
   "outputs": [],
   "source": [
    "# Chemical component codes of metals in different oxidation states\n",
    "metals = {\"V\",\"CR\",\"MN\",\"MN3\",\"FE\",\"FE2\",\"CO\",\"3CO\",\"NI\",\"3NI\", \"CU\",\"CU1\",\"CU3\",\"ZN\",\"MO\",\"4MO\",\"6MO\"}\n",
    "interactions_filter = InteractionFilter(distanceCutoff = 3.0, minInteractions=4, maxInteractions=6)\n",
    "interactions_filter.set_query_groups(True, metals)\n",
    "\n",
    "# Exclude non-polar interactions\n",
    "interactions_filter.set_target_elements(False, ['H','C','P'])"
   ]
  },
  {
   "cell_type": "markdown",
   "metadata": {},
   "source": [
    "## Tabulate interactions in a Dataframe"
   ]
  },
  {
   "cell_type": "code",
   "execution_count": 5,
   "metadata": {},
   "outputs": [
    {
     "name": "stdout",
     "output_type": "stream",
     "text": [
      "Metal interactions: 1518\n"
     ]
    }
   ],
   "source": [
    "interactions = GroupInteractionExtractor().get_interactions(pdb,interactions_filter).cache()\n",
    "print(f\"Metal interactions: {interactions.count()}\")"
   ]
  },
  {
   "cell_type": "markdown",
   "metadata": {},
   "source": [
    "## Select interacting atoms and orientational order parameters (q4-q6)"
   ]
  },
  {
   "cell_type": "code",
   "execution_count": 6,
   "metadata": {},
   "outputs": [
    {
     "data": {
      "text/html": [
       "<div>\n",
       "<style scoped>\n",
       "    .dataframe tbody tr th:only-of-type {\n",
       "        vertical-align: middle;\n",
       "    }\n",
       "\n",
       "    .dataframe tbody tr th {\n",
       "        vertical-align: top;\n",
       "    }\n",
       "\n",
       "    .dataframe thead th {\n",
       "        text-align: right;\n",
       "    }\n",
       "</style>\n",
       "<table border=\"1\" class=\"dataframe\">\n",
       "  <thead>\n",
       "    <tr style=\"text-align: right;\">\n",
       "      <th></th>\n",
       "      <th>pdbId</th>\n",
       "      <th>q4</th>\n",
       "      <th>q5</th>\n",
       "      <th>q6</th>\n",
       "      <th>element0</th>\n",
       "      <th>groupNum0</th>\n",
       "      <th>chain0</th>\n",
       "      <th>element1</th>\n",
       "      <th>groupNum1</th>\n",
       "      <th>chain1</th>\n",
       "      <th>...</th>\n",
       "      <th>chain4</th>\n",
       "      <th>distance4</th>\n",
       "      <th>element5</th>\n",
       "      <th>groupNum5</th>\n",
       "      <th>chain5</th>\n",
       "      <th>distance5</th>\n",
       "      <th>element6</th>\n",
       "      <th>groupNum6</th>\n",
       "      <th>chain6</th>\n",
       "      <th>distance6</th>\n",
       "    </tr>\n",
       "  </thead>\n",
       "  <tbody>\n",
       "    <tr>\n",
       "      <th>0</th>\n",
       "      <td>1M4L</td>\n",
       "      <td>0.810257</td>\n",
       "      <td>0.425694</td>\n",
       "      <td>NaN</td>\n",
       "      <td>Zn</td>\n",
       "      <td>1308</td>\n",
       "      <td>A</td>\n",
       "      <td>N</td>\n",
       "      <td>196</td>\n",
       "      <td>A</td>\n",
       "      <td>...</td>\n",
       "      <td>A</td>\n",
       "      <td>2.245983</td>\n",
       "      <td>N</td>\n",
       "      <td>69</td>\n",
       "      <td>A</td>\n",
       "      <td>2.034816</td>\n",
       "      <td>None</td>\n",
       "      <td>None</td>\n",
       "      <td>None</td>\n",
       "      <td>0.0</td>\n",
       "    </tr>\n",
       "    <tr>\n",
       "      <th>1</th>\n",
       "      <td>1YIX</td>\n",
       "      <td>0.683122</td>\n",
       "      <td>NaN</td>\n",
       "      <td>NaN</td>\n",
       "      <td>Zn</td>\n",
       "      <td>601</td>\n",
       "      <td>A</td>\n",
       "      <td>O</td>\n",
       "      <td>205</td>\n",
       "      <td>A</td>\n",
       "      <td>...</td>\n",
       "      <td>A</td>\n",
       "      <td>2.179357</td>\n",
       "      <td>None</td>\n",
       "      <td>None</td>\n",
       "      <td>None</td>\n",
       "      <td>0.000000</td>\n",
       "      <td>None</td>\n",
       "      <td>None</td>\n",
       "      <td>None</td>\n",
       "      <td>0.0</td>\n",
       "    </tr>\n",
       "    <tr>\n",
       "      <th>2</th>\n",
       "      <td>2ETV</td>\n",
       "      <td>0.622655</td>\n",
       "      <td>NaN</td>\n",
       "      <td>NaN</td>\n",
       "      <td>Ni</td>\n",
       "      <td>1</td>\n",
       "      <td>A</td>\n",
       "      <td>O</td>\n",
       "      <td>495</td>\n",
       "      <td>A</td>\n",
       "      <td>...</td>\n",
       "      <td>A</td>\n",
       "      <td>2.234011</td>\n",
       "      <td>None</td>\n",
       "      <td>None</td>\n",
       "      <td>None</td>\n",
       "      <td>0.000000</td>\n",
       "      <td>None</td>\n",
       "      <td>None</td>\n",
       "      <td>None</td>\n",
       "      <td>0.0</td>\n",
       "    </tr>\n",
       "    <tr>\n",
       "      <th>3</th>\n",
       "      <td>3VK6</td>\n",
       "      <td>0.995257</td>\n",
       "      <td>NaN</td>\n",
       "      <td>NaN</td>\n",
       "      <td>Zn</td>\n",
       "      <td>103</td>\n",
       "      <td>A</td>\n",
       "      <td>S</td>\n",
       "      <td>4</td>\n",
       "      <td>A</td>\n",
       "      <td>...</td>\n",
       "      <td>A</td>\n",
       "      <td>2.352951</td>\n",
       "      <td>None</td>\n",
       "      <td>None</td>\n",
       "      <td>None</td>\n",
       "      <td>0.000000</td>\n",
       "      <td>None</td>\n",
       "      <td>None</td>\n",
       "      <td>None</td>\n",
       "      <td>0.0</td>\n",
       "    </tr>\n",
       "    <tr>\n",
       "      <th>4</th>\n",
       "      <td>1ZKP</td>\n",
       "      <td>0.922593</td>\n",
       "      <td>0.455911</td>\n",
       "      <td>NaN</td>\n",
       "      <td>Zn</td>\n",
       "      <td>245</td>\n",
       "      <td>A</td>\n",
       "      <td>N</td>\n",
       "      <td>59</td>\n",
       "      <td>A</td>\n",
       "      <td>...</td>\n",
       "      <td>A</td>\n",
       "      <td>1.983931</td>\n",
       "      <td>O</td>\n",
       "      <td>155</td>\n",
       "      <td>A</td>\n",
       "      <td>2.543865</td>\n",
       "      <td>None</td>\n",
       "      <td>None</td>\n",
       "      <td>None</td>\n",
       "      <td>0.0</td>\n",
       "    </tr>\n",
       "  </tbody>\n",
       "</table>\n",
       "<p>5 rows × 31 columns</p>\n",
       "</div>"
      ],
      "text/plain": [
       "  pdbId        q4        q5  q6 element0 groupNum0 chain0 element1 groupNum1  \\\n",
       "0  1M4L  0.810257  0.425694 NaN       Zn      1308      A        N       196   \n",
       "1  1YIX  0.683122       NaN NaN       Zn       601      A        O       205   \n",
       "2  2ETV  0.622655       NaN NaN       Ni         1      A        O       495   \n",
       "3  3VK6  0.995257       NaN NaN       Zn       103      A        S         4   \n",
       "4  1ZKP  0.922593  0.455911 NaN       Zn       245      A        N        59   \n",
       "\n",
       "  chain1    ...     chain4 distance4 element5 groupNum5  chain5 distance5  \\\n",
       "0      A    ...          A  2.245983        N        69       A  2.034816   \n",
       "1      A    ...          A  2.179357     None      None    None  0.000000   \n",
       "2      A    ...          A  2.234011     None      None    None  0.000000   \n",
       "3      A    ...          A  2.352951     None      None    None  0.000000   \n",
       "4      A    ...          A  1.983931        O       155       A  2.543865   \n",
       "\n",
       "  element6 groupNum6  chain6 distance6  \n",
       "0     None      None    None       0.0  \n",
       "1     None      None    None       0.0  \n",
       "2     None      None    None       0.0  \n",
       "3     None      None    None       0.0  \n",
       "4     None      None    None       0.0  \n",
       "\n",
       "[5 rows x 31 columns]"
      ]
     },
     "execution_count": 6,
     "metadata": {},
     "output_type": "execute_result"
    }
   ],
   "source": [
    "interactions = interactions.select(\"pdbId\", \\\n",
    "                \"q4\",\"q5\",\"q6\", \\\n",
    "                \"element0\",\"groupNum0\",\"chain0\", \\\n",
    "                \"element1\",\"groupNum1\",\"chain1\",\"distance1\", \\\n",
    "                \"element2\",\"groupNum2\",\"chain2\",\"distance2\", \\\n",
    "                \"element3\",\"groupNum3\",\"chain3\",\"distance3\", \\\n",
    "                \"element4\",\"groupNum4\",\"chain4\",\"distance4\", \\\n",
    "                \"element5\",\"groupNum5\",\"chain5\",\"distance5\", \\\n",
    "                \"element6\",\"groupNum6\",\"chain6\",\"distance6\").cache();\n",
    "\n",
    "# show some example interactions\n",
    "ds = interactions.dropDuplicates([\"pdbId\"])\n",
    "df = ds.toPandas() # convert to pandas dataframe to fit table in jupyter notebook cell\n",
    "df.head()"
   ]
  },
  {
   "cell_type": "markdown",
   "metadata": {},
   "source": [
    "## Count Unique interactions by metal"
   ]
  },
  {
   "cell_type": "code",
   "execution_count": 7,
   "metadata": {},
   "outputs": [
    {
     "name": "stdout",
     "output_type": "stream",
     "text": [
      "Unique interactions by metal: \n",
      "+--------+-----+\n",
      "|element0|count|\n",
      "+--------+-----+\n",
      "|      Cu|   30|\n",
      "|      Co|   42|\n",
      "|      Ni|  118|\n",
      "|      Fe|  142|\n",
      "|      Mn|  199|\n",
      "|      Zn|  987|\n",
      "+--------+-----+\n",
      "\n"
     ]
    }
   ],
   "source": [
    "print(\"Unique interactions by metal: \")\n",
    "unique_ds = interactions.groupBy(['element0']).count().sort(\"count\")\n",
    "unique_ds.show()"
   ]
  },
  {
   "cell_type": "markdown",
   "metadata": {},
   "source": [
    "## Violin plot using Seaborn"
   ]
  },
  {
   "cell_type": "code",
   "execution_count": 8,
   "metadata": {
    "code_folding": []
   },
   "outputs": [
    {
     "name": "stderr",
     "output_type": "stream",
     "text": [
      "/anaconda3/envs/mmtf-pyspark/lib/python3.7/site-packages/scipy/stats/stats.py:1713: FutureWarning: Using a non-tuple sequence for multidimensional indexing is deprecated; use `arr[tuple(seq)]` instead of `arr[seq]`. In the future this will be interpreted as an array index, `arr[np.array(seq)]`, which will result either in an error or a different result.\n",
      "  return np.add.reduce(sorted[indexer] * weights, axis=axis) / sumval\n"
     ]
    },
    {
     "data": {
      "image/png": "[encoded data removed]",
      "text/plain": [
       "<Figure size 2160x360 with 3 Axes>"
      ]
     },
     "metadata": {},
     "output_type": "display_data"
    }
   ],
   "source": [
    "# tranform Dataset to pandas DataFrame\n",
    "df = interactions.toPandas()\n",
    "\n",
    "# Set fonts\n",
    "sns.set(font_scale=2)\n",
    "\n",
    "# Make subplots\n",
    "fig, ax = plt.subplots(1,3, sharey = True, figsize = (30,5))\n",
    "\n",
    "# Loop through subplots\n",
    "for i in range(3):\n",
    "    subplot = sns.violinplot(x=\"element0\", y=f\"q{i+4}\", palette=\"muted\", data=df, ax = ax[i])\n",
    "    subplot.set(xlabel=\"Metals\", ylabel=\"\", title=f\"q{i+4}\")"
   ]
  },
  {
   "cell_type": "markdown",
   "metadata": {},
   "source": [
    "## Make Violin plots for Metal-Elements distances"
   ]
  },
  {
   "cell_type": "code",
   "execution_count": 9,
   "metadata": {
    "code_folding": [
     0
    ]
   },
   "outputs": [
    {
     "data": {
      "application/vnd.jupyter.widget-view+json": {
       "model_id": "7c3cc216e7e74414a4f463977e304f2b",
       "version_major": 2,
       "version_minor": 0
      },
      "text/plain": [
       "interactive(children=(Dropdown(description='Metals', options=('Zn', 'Mn', 'Fe', 'Ni', 'Co', 'Cu'), value='Zn')…"
      ]
     },
     "metadata": {},
     "output_type": "display_data"
    }
   ],
   "source": [
    "# Create dataframe subsets for elements 1-6\n",
    "df_sub = [df[['element0', f'element{i}', f'distance{i}']]\\\n",
    "          .rename(columns={'element0':'Metal', f'element{i}':'Element', f'distance{i}':'Distance'}) \\\n",
    "          for i in range(1,7)]\n",
    "\n",
    "# Vertically concating the dataframe subsets\n",
    "df_concat = pd.concat(df_sub)\n",
    "\n",
    "# Drop rows with NaN values\n",
    "df_concat.dropna(inplace = True)\n",
    "                  \n",
    "metal_distance_widget(df_concat);"
   ]
  },
  {
   "cell_type": "markdown",
   "metadata": {},
   "source": [
    "## Create subset based on Metal and q values"
   ]
  },
  {
   "cell_type": "code",
   "execution_count": 10,
   "metadata": {},
   "outputs": [
    {
     "data": {
      "text/html": [
       "<div>\n",
       "<style scoped>\n",
       "    .dataframe tbody tr th:only-of-type {\n",
       "        vertical-align: middle;\n",
       "    }\n",
       "\n",
       "    .dataframe tbody tr th {\n",
       "        vertical-align: top;\n",
       "    }\n",
       "\n",
       "    .dataframe thead th {\n",
       "        text-align: right;\n",
       "    }\n",
       "</style>\n",
       "<table border=\"1\" class=\"dataframe\">\n",
       "  <thead>\n",
       "    <tr style=\"text-align: right;\">\n",
       "      <th></th>\n",
       "      <th>pdbId</th>\n",
       "      <th>q4</th>\n",
       "      <th>q5</th>\n",
       "      <th>q6</th>\n",
       "      <th>element0</th>\n",
       "      <th>groupNum0</th>\n",
       "      <th>chain0</th>\n",
       "      <th>element1</th>\n",
       "      <th>groupNum1</th>\n",
       "      <th>chain1</th>\n",
       "      <th>...</th>\n",
       "      <th>chain4</th>\n",
       "      <th>distance4</th>\n",
       "      <th>element5</th>\n",
       "      <th>groupNum5</th>\n",
       "      <th>chain5</th>\n",
       "      <th>distance5</th>\n",
       "      <th>element6</th>\n",
       "      <th>groupNum6</th>\n",
       "      <th>chain6</th>\n",
       "      <th>distance6</th>\n",
       "    </tr>\n",
       "  </thead>\n",
       "  <tbody>\n",
       "    <tr>\n",
       "      <th>1116</th>\n",
       "      <td>5GRQ</td>\n",
       "      <td>0.999569</td>\n",
       "      <td>NaN</td>\n",
       "      <td>NaN</td>\n",
       "      <td>Zn</td>\n",
       "      <td>212</td>\n",
       "      <td>A</td>\n",
       "      <td>N</td>\n",
       "      <td>96</td>\n",
       "      <td>B</td>\n",
       "      <td>...</td>\n",
       "      <td>A</td>\n",
       "      <td>2.064547</td>\n",
       "      <td>None</td>\n",
       "      <td>None</td>\n",
       "      <td>None</td>\n",
       "      <td>0.0</td>\n",
       "      <td>None</td>\n",
       "      <td>None</td>\n",
       "      <td>None</td>\n",
       "      <td>0.0</td>\n",
       "    </tr>\n",
       "    <tr>\n",
       "      <th>1255</th>\n",
       "      <td>1ZY7</td>\n",
       "      <td>0.998688</td>\n",
       "      <td>NaN</td>\n",
       "      <td>NaN</td>\n",
       "      <td>Zn</td>\n",
       "      <td>802</td>\n",
       "      <td>B</td>\n",
       "      <td>S</td>\n",
       "      <td>451</td>\n",
       "      <td>B</td>\n",
       "      <td>...</td>\n",
       "      <td>B</td>\n",
       "      <td>2.058085</td>\n",
       "      <td>None</td>\n",
       "      <td>None</td>\n",
       "      <td>None</td>\n",
       "      <td>0.0</td>\n",
       "      <td>None</td>\n",
       "      <td>None</td>\n",
       "      <td>None</td>\n",
       "      <td>0.0</td>\n",
       "    </tr>\n",
       "    <tr>\n",
       "      <th>490</th>\n",
       "      <td>1OQJ</td>\n",
       "      <td>0.998562</td>\n",
       "      <td>NaN</td>\n",
       "      <td>NaN</td>\n",
       "      <td>Zn</td>\n",
       "      <td>183</td>\n",
       "      <td>A</td>\n",
       "      <td>S</td>\n",
       "      <td>113</td>\n",
       "      <td>A</td>\n",
       "      <td>...</td>\n",
       "      <td>A</td>\n",
       "      <td>2.371518</td>\n",
       "      <td>None</td>\n",
       "      <td>None</td>\n",
       "      <td>None</td>\n",
       "      <td>0.0</td>\n",
       "      <td>None</td>\n",
       "      <td>None</td>\n",
       "      <td>None</td>\n",
       "      <td>0.0</td>\n",
       "    </tr>\n",
       "    <tr>\n",
       "      <th>58</th>\n",
       "      <td>3ZVS</td>\n",
       "      <td>0.998459</td>\n",
       "      <td>NaN</td>\n",
       "      <td>NaN</td>\n",
       "      <td>Zn</td>\n",
       "      <td>1162</td>\n",
       "      <td>B</td>\n",
       "      <td>S</td>\n",
       "      <td>132</td>\n",
       "      <td>B</td>\n",
       "      <td>...</td>\n",
       "      <td>B</td>\n",
       "      <td>2.310095</td>\n",
       "      <td>None</td>\n",
       "      <td>None</td>\n",
       "      <td>None</td>\n",
       "      <td>0.0</td>\n",
       "      <td>None</td>\n",
       "      <td>None</td>\n",
       "      <td>None</td>\n",
       "      <td>0.0</td>\n",
       "    </tr>\n",
       "    <tr>\n",
       "      <th>1416</th>\n",
       "      <td>3UFF</td>\n",
       "      <td>0.998175</td>\n",
       "      <td>NaN</td>\n",
       "      <td>NaN</td>\n",
       "      <td>Zn</td>\n",
       "      <td>3</td>\n",
       "      <td>B</td>\n",
       "      <td>N</td>\n",
       "      <td>231</td>\n",
       "      <td>B</td>\n",
       "      <td>...</td>\n",
       "      <td>B</td>\n",
       "      <td>2.315903</td>\n",
       "      <td>None</td>\n",
       "      <td>None</td>\n",
       "      <td>None</td>\n",
       "      <td>0.0</td>\n",
       "      <td>None</td>\n",
       "      <td>None</td>\n",
       "      <td>None</td>\n",
       "      <td>0.0</td>\n",
       "    </tr>\n",
       "    <tr>\n",
       "      <th>1463</th>\n",
       "      <td>1Q08</td>\n",
       "      <td>0.998095</td>\n",
       "      <td>NaN</td>\n",
       "      <td>NaN</td>\n",
       "      <td>Zn</td>\n",
       "      <td>401</td>\n",
       "      <td>A</td>\n",
       "      <td>O</td>\n",
       "      <td>301</td>\n",
       "      <td>A</td>\n",
       "      <td>...</td>\n",
       "      <td>A</td>\n",
       "      <td>2.426980</td>\n",
       "      <td>None</td>\n",
       "      <td>None</td>\n",
       "      <td>None</td>\n",
       "      <td>0.0</td>\n",
       "      <td>None</td>\n",
       "      <td>None</td>\n",
       "      <td>None</td>\n",
       "      <td>0.0</td>\n",
       "    </tr>\n",
       "    <tr>\n",
       "      <th>1356</th>\n",
       "      <td>3H0N</td>\n",
       "      <td>0.997777</td>\n",
       "      <td>NaN</td>\n",
       "      <td>NaN</td>\n",
       "      <td>Zn</td>\n",
       "      <td>201</td>\n",
       "      <td>A</td>\n",
       "      <td>S</td>\n",
       "      <td>168</td>\n",
       "      <td>A</td>\n",
       "      <td>...</td>\n",
       "      <td>A</td>\n",
       "      <td>2.297602</td>\n",
       "      <td>None</td>\n",
       "      <td>None</td>\n",
       "      <td>None</td>\n",
       "      <td>0.0</td>\n",
       "      <td>None</td>\n",
       "      <td>None</td>\n",
       "      <td>None</td>\n",
       "      <td>0.0</td>\n",
       "    </tr>\n",
       "    <tr>\n",
       "      <th>1465</th>\n",
       "      <td>1Q08</td>\n",
       "      <td>0.997669</td>\n",
       "      <td>NaN</td>\n",
       "      <td>NaN</td>\n",
       "      <td>Zn</td>\n",
       "      <td>403</td>\n",
       "      <td>B</td>\n",
       "      <td>S</td>\n",
       "      <td>79</td>\n",
       "      <td>A</td>\n",
       "      <td>...</td>\n",
       "      <td>B</td>\n",
       "      <td>2.472048</td>\n",
       "      <td>None</td>\n",
       "      <td>None</td>\n",
       "      <td>None</td>\n",
       "      <td>0.0</td>\n",
       "      <td>None</td>\n",
       "      <td>None</td>\n",
       "      <td>None</td>\n",
       "      <td>0.0</td>\n",
       "    </tr>\n",
       "    <tr>\n",
       "      <th>1475</th>\n",
       "      <td>1U5K</td>\n",
       "      <td>0.997564</td>\n",
       "      <td>NaN</td>\n",
       "      <td>NaN</td>\n",
       "      <td>Zn</td>\n",
       "      <td>300</td>\n",
       "      <td>B</td>\n",
       "      <td>S</td>\n",
       "      <td>153</td>\n",
       "      <td>B</td>\n",
       "      <td>...</td>\n",
       "      <td>B</td>\n",
       "      <td>2.387050</td>\n",
       "      <td>None</td>\n",
       "      <td>None</td>\n",
       "      <td>None</td>\n",
       "      <td>0.0</td>\n",
       "      <td>None</td>\n",
       "      <td>None</td>\n",
       "      <td>None</td>\n",
       "      <td>0.0</td>\n",
       "    </tr>\n",
       "    <tr>\n",
       "      <th>56</th>\n",
       "      <td>3ZVS</td>\n",
       "      <td>0.997549</td>\n",
       "      <td>NaN</td>\n",
       "      <td>NaN</td>\n",
       "      <td>Zn</td>\n",
       "      <td>1160</td>\n",
       "      <td>A</td>\n",
       "      <td>S</td>\n",
       "      <td>151</td>\n",
       "      <td>A</td>\n",
       "      <td>...</td>\n",
       "      <td>A</td>\n",
       "      <td>2.346070</td>\n",
       "      <td>None</td>\n",
       "      <td>None</td>\n",
       "      <td>None</td>\n",
       "      <td>0.0</td>\n",
       "      <td>None</td>\n",
       "      <td>None</td>\n",
       "      <td>None</td>\n",
       "      <td>0.0</td>\n",
       "    </tr>\n",
       "  </tbody>\n",
       "</table>\n",
       "<p>10 rows × 31 columns</p>\n",
       "</div>"
      ],
      "text/plain": [
       "     pdbId        q4  q5  q6 element0 groupNum0 chain0 element1 groupNum1  \\\n",
       "1116  5GRQ  0.999569 NaN NaN       Zn       212      A        N        96   \n",
       "1255  1ZY7  0.998688 NaN NaN       Zn       802      B        S       451   \n",
       "490   1OQJ  0.998562 NaN NaN       Zn       183      A        S       113   \n",
       "58    3ZVS  0.998459 NaN NaN       Zn      1162      B        S       132   \n",
       "1416  3UFF  0.998175 NaN NaN       Zn         3      B        N       231   \n",
       "1463  1Q08  0.998095 NaN NaN       Zn       401      A        O       301   \n",
       "1356  3H0N  0.997777 NaN NaN       Zn       201      A        S       168   \n",
       "1465  1Q08  0.997669 NaN NaN       Zn       403      B        S        79   \n",
       "1475  1U5K  0.997564 NaN NaN       Zn       300      B        S       153   \n",
       "56    3ZVS  0.997549 NaN NaN       Zn      1160      A        S       151   \n",
       "\n",
       "     chain1    ...     chain4 distance4 element5 groupNum5  chain5 distance5  \\\n",
       "1116      B    ...          A  2.064547     None      None    None       0.0   \n",
       "1255      B    ...          B  2.058085     None      None    None       0.0   \n",
       "490       A    ...          A  2.371518     None      None    None       0.0   \n",
       "58        B    ...          B  2.310095     None      None    None       0.0   \n",
       "1416      B    ...          B  2.315903     None      None    None       0.0   \n",
       "1463      A    ...          A  2.426980     None      None    None       0.0   \n",
       "1356      A    ...          A  2.297602     None      None    None       0.0   \n",
       "1465      A    ...          B  2.472048     None      None    None       0.0   \n",
       "1475      B    ...          B  2.387050     None      None    None       0.0   \n",
       "56        A    ...          A  2.346070     None      None    None       0.0   \n",
       "\n",
       "     element6 groupNum6  chain6 distance6  \n",
       "1116     None      None    None       0.0  \n",
       "1255     None      None    None       0.0  \n",
       "490      None      None    None       0.0  \n",
       "58       None      None    None       0.0  \n",
       "1416     None      None    None       0.0  \n",
       "1463     None      None    None       0.0  \n",
       "1356     None      None    None       0.0  \n",
       "1465     None      None    None       0.0  \n",
       "1475     None      None    None       0.0  \n",
       "56       None      None    None       0.0  \n",
       "\n",
       "[10 rows x 31 columns]"
      ]
     },
     "execution_count": 10,
     "metadata": {},
     "output_type": "execute_result"
    }
   ],
   "source": [
    "df_sub = df[df[\"element0\"] == 'Zn']    # Filter only Zinc interactinos \n",
    "df_sub = df_sub.sort_values([\"q4\"], ascending = False).dropna(subset=['q4'])    #Sort by q4 values and drop NaN\n",
    "df_sub = df_sub[df_sub['q5'] != np.nan]    # Remove interactions where q5 has values\n",
    "\n",
    "df_sub.head(10)"
   ]
  },
  {
   "cell_type": "markdown",
   "metadata": {},
   "source": [
    "## Visualize Data"
   ]
  },
  {
   "cell_type": "code",
   "execution_count": 11,
   "metadata": {
    "scrolled": false
   },
   "outputs": [
    {
     "data": {
      "application/vnd.jupyter.widget-view+json": {
       "model_id": "40a7af382dd24d01baa2f722e9a2974a",
       "version_major": 2,
       "version_minor": 0
      },
      "text/plain": [
       "interactive(children=(IntSlider(value=0, continuous_update=False, description='Structure', max=986), Output())…"
      ]
     },
     "metadata": {},
     "output_type": "display_data"
    }
   ],
   "source": [
    "group_interaction_viewer(df_sub, 'q4');"
   ]
  },
  {
   "cell_type": "markdown",
   "metadata": {},
   "source": [
    "## Terminate Spark"
   ]
  },
  {
   "cell_type": "code",
   "execution_count": 12,
   "metadata": {},
   "outputs": [],
   "source": [
    "spark.stop()"
   ]
  }
 ],
 "metadata": {
  "kernelspec": {
   "display_name": "Python 3",
   "language": "python",
   "name": "python3"
  },
  "language_info": {
   "codemirror_mode": {
    "name": "ipython",
    "version": 3
   },
   "file_extension": ".py",
   "mimetype": "text/x-python",
   "name": "python",
   "nbconvert_exporter": "python",
   "pygments_lexer": "ipython3",
   "version": "3.7.3"
  }
 },
 "nbformat": 4,
 "nbformat_minor": 2
}
