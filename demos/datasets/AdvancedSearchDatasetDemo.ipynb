{
 "cells": [
  {
   "cell_type": "markdown",
   "metadata": {},
   "source": [
    "# AdvancedSearchDataset Demo\n",
    "\n",
    "This demo shows how to run an [RCSB PDB Advanced Search](https://www.rcsb.org/pdb/staticHelp.do?p=help/advancedSearch.html) and return a dataset of matching identifiers. Dependent on the type of query, the returned dataset contains one of the following fields:\n",
    "* structureId for structure-based queries (e.g., 4HHB)\n",
    "* structureChainId for entity-based queries (e.g., 4HHB.A)\n",
    "* ligandId for ligand-based queries (e.g., HEM)\n",
    "\n",
    "[Index of available queries](https://www.rcsb.org/pdb/staticHelp.do?p=help/advancedsearch/index.html)\n",
    "\n",
    "RCSB PDB advanced queries are described in XML. To create the query XML go to the www.rcsb.org website and follow these steps:\n",
    "\n",
    "1. Run an advanced query on the RCSB PDB website\n",
    "2. On the results page, use your browser to find the text: Query Details\n",
    "3. Click on the blue Query Details button and copy the query in XML format"
   ]
  },
  {
   "cell_type": "code",
   "execution_count": null,
   "metadata": {},
   "outputs": [],
   "source": [
    "from pyspark.sql import SparkSession\n",
    "from mmtfPyspark.datasets import advancedSearchDataset"
   ]
  },
  {
   "cell_type": "markdown",
   "metadata": {},
   "source": [
    "#### Configure Spark "
   ]
  },
  {
   "cell_type": "code",
   "execution_count": null,
   "metadata": {},
   "outputs": [],
   "source": [
    "spark = SparkSession.builder.master(\"local[4]\").appName(\"AdvancedSearchDatasetDemo\").getOrCreate()"
   ]
  },
  {
   "cell_type": "markdown",
   "metadata": {},
   "source": [
    "## Structure-based query\n",
    "Here we search for PDB entries that form a biological assembly with A3B3C3 stoichiometry (trimer of trimers)"
   ]
  },
  {
   "cell_type": "code",
   "execution_count": null,
   "metadata": {},
   "outputs": [],
   "source": [
    "structure_query = (\"<orgPdbQuery>\"\n",
    "                   \"<queryType>org.pdb.query.simple.StoichiometryQuery</queryType>\"\n",
    "                   \"<stoichiometry>A3B3C3</stoichiometry>\"\n",
    "                   \"</orgPdbQuery>\"\n",
    "                   )"
   ]
  },
  {
   "cell_type": "code",
   "execution_count": null,
   "metadata": {},
   "outputs": [],
   "source": [
    "ds = advancedSearchDataset.get_dataset(structure_query)\n",
    "ds.show()"
   ]
  },
  {
   "cell_type": "markdown",
   "metadata": {},
   "source": [
    "## Entity-based query\n",
    "Here we search for protein chains by a BLAST search."
   ]
  },
  {
   "cell_type": "code",
   "execution_count": null,
   "metadata": {},
   "outputs": [],
   "source": [
    "entity_query = (\"<orgPdbQuery>\"\n",
    "                 \"<queryType>org.pdb.query.simple.SequenceQuery</queryType>\"\n",
    "                 \"<sequence>DPSKDSKAQVSAAEAGITGTWYNQLGSTFIVTAGADGALTGTYESAVGNAESRYVLTGRYDSAPATDGSGTALGWTVAWKNNYRNAHSATTWSGQYVGGAEARINTQWLLTSGTTEANAWKSTLVGHDTFTKVKPSAASIDAAKKAGVNNGNPLDAVQQ</sequence>\"\n",
    "                 \"<searchTool>blast</searchTool>\"\n",
    "                 \"<maskLowComplexity>yes</maskLowComplexity>\"\n",
    "                 \"<eValueCutoff>0.001</eValueCutoff>\"\n",
    "                 \"<sequenceIdentityCutoff>40</sequenceIdentityCutoff>\"\n",
    "                 \"</orgPdbQuery>\"\n",
    "                )"
   ]
  },
  {
   "cell_type": "code",
   "execution_count": null,
   "metadata": {},
   "outputs": [],
   "source": [
    "ds = advancedSearchDataset.get_dataset(entity_query)\n",
    "ds.show()"
   ]
  },
  {
   "cell_type": "markdown",
   "metadata": {},
   "source": [
    "## Ligand-based query\n",
    "Here we search for ligands based on a substructure search."
   ]
  },
  {
   "cell_type": "code",
   "execution_count": null,
   "metadata": {},
   "outputs": [],
   "source": [
    "ligand_query = (\"<orgPdbQuery>\"\n",
    "                \"<queryType>org.pdb.query.simple.ChemSmilesQuery</queryType>\"\n",
    "                \"<smiles>CC(C)C1=C(Br)C(=O)C(C)=C(Br)C1=O</smiles>\"\n",
    "                \"<target>Ligand</target>\"\n",
    "                \"<searchType>Substructure</searchType>\"\n",
    "                \"<polymericType>Any</polymericType>\"\n",
    "                \"</orgPdbQuery>\"\n",
    "               )"
   ]
  },
  {
   "cell_type": "code",
   "execution_count": null,
   "metadata": {},
   "outputs": [],
   "source": [
    "ds = advancedSearchDataset.get_dataset(ligand_query)\n",
    "ds.show()"
   ]
  },
  {
   "cell_type": "code",
   "execution_count": null,
   "metadata": {},
   "outputs": [],
   "source": [
    "spark.stop()"
   ]
  }
 ],
 "metadata": {
  "kernelspec": {
   "display_name": "Python 3",
   "language": "python",
   "name": "python3"
  },
  "language_info": {
   "codemirror_mode": {
    "name": "ipython",
    "version": 3
   },
   "file_extension": ".py",
   "mimetype": "text/x-python",
   "name": "python",
   "nbconvert_exporter": "python",
   "pygments_lexer": "ipython3",
   "version": "3.6.3"
  }
 },
 "nbformat": 4,
 "nbformat_minor": 2
}
