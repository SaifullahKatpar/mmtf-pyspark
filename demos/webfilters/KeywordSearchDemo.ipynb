{
 "cells": [
  {
   "cell_type": "markdown",
   "metadata": {},
   "source": [
    "# Keywork Search Demo\n",
    "\n",
    "![pdbj](https://pdbj.org/content/default.svg)\n",
    "\n",
    "PDBj Mine 2 RDB keyword search query and MMTF filtering using pdbid.\n",
    "This filter searches the 'keyword' column in the brief_summary table for a keyword and returns a couple of columns for the matching entries.\n",
    "\n",
    "[PDBj Mine Search Website](https://pdbj.org/mine)\n",
    "\n",
    "## Imports"
   ]
  },
  {
   "cell_type": "code",
   "execution_count": 1,
   "metadata": {},
   "outputs": [],
   "source": [
    "from pyspark.sql import SparkSession\n",
    "from mmtfPyspark.webfilters import PdbjMineSearch\n",
    "from mmtfPyspark.datasets import pdbjMineDataset\n",
    "from mmtfPyspark.io import mmtfReader"
   ]
  },
  {
   "cell_type": "markdown",
   "metadata": {},
   "source": [
    "#### Configure Spark "
   ]
  },
  {
   "cell_type": "code",
   "execution_count": 2,
   "metadata": {},
   "outputs": [],
   "source": [
    "spark = SparkSession.builder.appName(\"KeywordSearchDemo\").getOrCreate()"
   ]
  },
  {
   "cell_type": "markdown",
   "metadata": {},
   "source": [
    "## Read in MMTF files from local directory"
   ]
  },
  {
   "cell_type": "code",
   "execution_count": 3,
   "metadata": {},
   "outputs": [],
   "source": [
    "path = \"../../resources/mmtf_reduced_sample/\"\n",
    "\n",
    "pdb = mmtfReader.read_sequence_file(path)"
   ]
  },
  {
   "cell_type": "markdown",
   "metadata": {
    "collapsed": true
   },
   "source": [
    "## Apply a SQL search on PDBj using a filter"
   ]
  },
  {
   "cell_type": "code",
   "execution_count": 4,
   "metadata": {},
   "outputs": [
    {
     "name": "stdout",
     "output_type": "stream",
     "text": [
      "['2POR', '4FQE', '4B0M', '3VY8', '2VQG', '3PGU', '2GUF', '2FGQ', '4RJW', '4RLC', '1ZE3', '4QLP', '1QJP', '5LDV', '3BWU', '2X9K', '4KR8', '2MLT', '2WJR', '3DWO', '2XET', '4FUV', '4MKO', '3SZV', '2PV2']\n",
      "\n",
      "\n",
      "Number of entries matching query: 25\n"
     ]
    }
   ],
   "source": [
    "sql = \"select pdbid from keyword_search('porin')\"\n",
    "\n",
    "pdb = pdb.filter(PdbjMineSearch(sql))\n",
    "print(pdb.keys().collect())\n",
    "print(\"\\n\")\n",
    "print(f\"Number of entries matching query: {pdb.count()}\")"
   ]
  },
  {
   "cell_type": "markdown",
   "metadata": {},
   "source": [
    "## Apply a SQL search on PDBj and get a dataset"
   ]
  },
  {
   "cell_type": "code",
   "execution_count": 5,
   "metadata": {},
   "outputs": [
    {
     "name": "stdout",
     "output_type": "stream",
     "text": [
      "+-----------+----------+--------------------+--------------------+-----------+---------+\n",
      "|structureId|resolution|        biol_species|          db_uniprot|    db_pfam|hit_score|\n",
      "+-----------+----------+--------------------+--------------------+-----------+---------+\n",
      "|       3POR|       2.5|Rhodobacter capsu...|['P31243', 'PORI_...|['PF13609']| 0.095809|\n",
      "|       2OMF|       2.4|Escherichia coli K12|['P02931', 'OMPF_...|['PF00267']|0.0954989|\n",
      "|       2POR|       1.8|Rhodobacter capsu...|['P31243', 'PORI_...|['PF13609']|0.0951392|\n",
      "|       1BT9|       3.0|    Escherichia coli|['P02931', 'OMPF_...|['PF00267']| 0.094717|\n",
      "|       1GFO|       3.3|    Escherichia coli|['P02931', 'OMPF_...|['PF00267']| 0.094717|\n",
      "|       1GFP|       2.7|    Escherichia coli|['P02931', 'OMPF_...|['PF00267']| 0.094717|\n",
      "|       1GFQ|       2.8|    Escherichia coli|['P02931', 'OMPF_...|['PF00267']| 0.094717|\n",
      "|       1H6S|       3.0|RHODOPSEUDOMONAS ...|['P39767', 'PORI_...|['PF13609']| 0.094717|\n",
      "|       1GFM|       3.5|    Escherichia coli|['P02931', 'OMPF_...|['PF00267']| 0.094717|\n",
      "|       1GFN|       3.1|    Escherichia coli|['P02931', 'OMPF_...|['PF00267']| 0.094717|\n",
      "+-----------+----------+--------------------+--------------------+-----------+---------+\n",
      "only showing top 10 rows\n",
      "\n"
     ]
    }
   ],
   "source": [
    "sql = \"select pdbid, resolution, biol_species, db_uniprot, db_pfam, hit_score from keyword_search('porin') order by hit_score desc\"\n",
    "\n",
    "dataset = pdbjMineDataset.get_dataset(sql)\n",
    "dataset.show(10)"
   ]
  },
  {
   "cell_type": "markdown",
   "metadata": {},
   "source": [
    "## Terminate Spark Context"
   ]
  },
  {
   "cell_type": "code",
   "execution_count": 6,
   "metadata": {},
   "outputs": [],
   "source": [
    "spark.stop()"
   ]
  }
 ],
 "metadata": {
  "kernelspec": {
   "display_name": "Python 3",
   "language": "python",
   "name": "python3"
  },
  "language_info": {
   "codemirror_mode": {
    "name": "ipython",
    "version": 3
   },
   "file_extension": ".py",
   "mimetype": "text/x-python",
   "name": "python",
   "nbconvert_exporter": "python",
   "pygments_lexer": "ipython3",
   "version": "3.7.3"
  }
 },
 "nbformat": 4,
 "nbformat_minor": 2
}
