{
 "cells": [
  {
   "cell_type": "markdown",
   "metadata": {},
   "source": [
    "# Protein Fold Dataset Creator Dmeo\n",
    "\n",
    "This Demo is a simple example of using Dataset operations to create a datset\n",
    "\n",
    "## Imports"
   ]
  },
  {
   "cell_type": "code",
   "execution_count": 1,
   "metadata": {},
   "outputs": [],
   "source": [
    "from pyspark import SQLContext\n",
    "from pyspark.sql import SparkSession\n",
    "from pyspark.sql.functions import col, when\n",
    "from mmtfPyspark.ml import ProteinSequenceEncoder\n",
    "from mmtfPyspark.mappers import StructureToPolymerChains\n",
    "from mmtfPyspark.filters import ContainsLProteinChain\n",
    "from mmtfPyspark.datasets import secondaryStructureExtractor\n",
    "from mmtfPyspark.webfilters import Pisces\n",
    "from mmtfPyspark.io import mmtfReader"
   ]
  },
  {
   "cell_type": "markdown",
   "metadata": {},
   "source": [
    "## Define addProteinFoldType function"
   ]
  },
  {
   "cell_type": "code",
   "execution_count": 2,
   "metadata": {},
   "outputs": [],
   "source": [
    "def add_protein_fold_type(data, minThreshold, maxThreshold):\n",
    "    '''\n",
    "    Adds a column \"foldType\" with three major secondary structure class:\n",
    "    \"alpha\", \"beta\", \"alpha+beta\", and \"other\" based upon the fraction of alpha/beta content.\n",
    "\n",
    "    The simplified syntax used in this method relies on two imports:\n",
    "        from pyspark.sql.functions import when\n",
    "        from pyspark.sql.functions import col\n",
    "\n",
    "    Attributes:\n",
    "        data (Dataset<Row>): input dataset with alpha, beta composition\n",
    "        minThreshold (float): below this threshold, the secondary structure is ignored\n",
    "        maxThreshold (float): above this threshold, the secondary structure is ignored\n",
    "    '''\n",
    "\n",
    "    return data.withColumn(\"foldType\", \\\n",
    "                           when((col(\"alpha\") > maxThreshold) & (col(\"beta\") < minThreshold), \"alpha\"). \\\n",
    "                           when((col(\"beta\") > maxThreshold) & (col(\"alpha\") < minThreshold), \"beta\"). \\\n",
    "                           when((col(\"alpha\") > maxThreshold) & (col(\"beta\") > minThreshold), \"alpha+beta\"). \\\n",
    "                           otherwise(\"other\")\\\n",
    "                           )"
   ]
  },
  {
   "cell_type": "markdown",
   "metadata": {},
   "source": [
    "#### Configure Spark "
   ]
  },
  {
   "cell_type": "code",
   "execution_count": 3,
   "metadata": {},
   "outputs": [],
   "source": [
    "spark = SparkSession.builder.appName(\"ProteinFoldDatasetCreatorDemo\").getOrCreate()"
   ]
  },
  {
   "cell_type": "markdown",
   "metadata": {},
   "source": [
    "## Read MMTF Hadoop sequence file\n",
    "\n",
    "Create non-redundant set (<=40% seq. identity) if L-protein chains"
   ]
  },
  {
   "cell_type": "code",
   "execution_count": 4,
   "metadata": {},
   "outputs": [],
   "source": [
    "path = \"../../resources/mmtf_reduced_sample/\"\n",
    "sequenceIdentity = 40\n",
    "resolution = 2.0\n",
    "\n",
    "pdb = mmtfReader \\\n",
    "        .read_sequence_file(path) \\\n",
    "        .filter(Pisces(sequenceIdentity, resolution)) \\\n",
    "        .flatMap(StructureToPolymerChains()) \\\n",
    "        .filter(Pisces(sequenceIdentity, resolution)) \\\n",
    "        .filter(ContainsLProteinChain())"
   ]
  },
  {
   "cell_type": "markdown",
   "metadata": {},
   "source": [
    "## Get secondary structure content"
   ]
  },
  {
   "cell_type": "code",
   "execution_count": 5,
   "metadata": {},
   "outputs": [],
   "source": [
    "data = secondaryStructureExtractor.get_dataset(pdb)"
   ]
  },
  {
   "cell_type": "markdown",
   "metadata": {},
   "source": [
    "## Classify chains by secondary structure type"
   ]
  },
  {
   "cell_type": "code",
   "execution_count": 6,
   "metadata": {},
   "outputs": [],
   "source": [
    "minThreshold = 0.05\n",
    "maxThreshold = 0.15\n",
    "data = add_protein_fold_type(data, minThreshold, maxThreshold)"
   ]
  },
  {
   "cell_type": "markdown",
   "metadata": {},
   "source": [
    "## Add Word2Vec encoded feature vector"
   ]
  },
  {
   "cell_type": "code",
   "execution_count": 7,
   "metadata": {},
   "outputs": [
    {
     "name": "stdout",
     "output_type": "stream",
     "text": [
      "root\n",
      " |-- structureChainId: string (nullable = false)\n",
      " |-- sequence: string (nullable = false)\n",
      " |-- alpha: float (nullable = false)\n",
      " |-- beta: float (nullable = false)\n",
      " |-- coil: float (nullable = false)\n",
      " |-- dsspQ8Code: string (nullable = false)\n",
      " |-- dsspQ3Code: string (nullable = false)\n",
      " |-- foldType: string (nullable = false)\n",
      " |-- ngram: array (nullable = true)\n",
      " |    |-- element: string (containsNull = true)\n",
      " |-- features: vector (nullable = true)\n",
      "\n",
      "+----------------+--------------------+-----------+-----------+----------+--------------------+--------------------+----------+--------------------+--------------------+\n",
      "|structureChainId|            sequence|      alpha|       beta|      coil|          dsspQ8Code|          dsspQ3Code|  foldType|               ngram|            features|\n",
      "+----------------+--------------------+-----------+-----------+----------+--------------------+--------------------+----------+--------------------+--------------------+\n",
      "|          4WMY.B|TDWSHPQFEKSTDEANT...| 0.17081851| 0.26334518| 0.5658363|XXXXXXXXXXXXXXXXX...|XXXXXXXXXXXXXXXXX...|alpha+beta|[TD, DW, WS, SH, ...|[0.16776788024934...|\n",
      "|          4WN5.A|GSHMGRGAFLSRHSLDM...|  0.2962963| 0.37962964|0.32407406|XXCCCCCCEEEEECTTC...|XXCCCCCCEEEEECCCC...|alpha+beta|[GS, SH, HM, MG, ...|[0.21019394612429...|\n",
      "|          4WND.B|GPLGSDLPPKVVPSKQL...|0.115384616|        0.0|0.88461536|XXXXXXXXXXXXXXXCC...|XXXXXXXXXXXXXXXCC...|     other|[GP, PL, LG, GS, ...|[0.09861392040665...|\n",
      "|          4WP6.A|GSHHHHHHSQDPMQAAQ...| 0.45695364|0.119205296|0.42384106|XXXXXXXXXXXXXXXXX...|XXXXXXXXXXXXXXXXX...|alpha+beta|[GS, SH, HH, HH, ...|[0.04305993950833...|\n",
      "|          4WP9.A|FQGAMGSRVVILFTDIE...|  0.3939394|  0.3151515|0.29090908|XXCCSSEEEEEEEEEET...|XXCCCCEEEEEEEEEEC...|alpha+beta|[FQ, QG, GA, AM, ...|[-0.0690641615814...|\n",
      "|          4WPG.A|GPLLEMILITGSNGQLG...| 0.39372823| 0.17073171|0.43554008|XCCSCCEEEESTTSHHH...|XCCCCCEEEECCCCHHH...|alpha+beta|[GP, PL, LL, LE, ...|[0.00626527878921...|\n",
      "|          4WPK.A|MHHHHHHGMASMTARPL...|  0.4122807|0.114035085|0.47368422|XXXXXXXXXXCTTTSCH...|XXXXXXXXXXCCCCCCH...|alpha+beta|[MH, HH, HH, HH, ...|[-0.2018287289683...|\n",
      "|          4WQD.A|MEPPTVALTVPAAALLP...|  0.3991228|0.057017542|0.54385966|XXXXCBCCCCCCGGGCC...|XXXXCECCCCCCHHHCC...|alpha+beta|[ME, EP, PP, PT, ...|[-0.1654694509651...|\n",
      "|          4WRI.A|GILANLKEPSAHWCRKM...| 0.62032086|0.053475935| 0.3262032|XXXXXCCCCCHHHHHHH...|XXXXXCCCCCHHHHHHH...|alpha+beta|[GI, IL, LA, AN, ...|[-0.0880531944646...|\n",
      "|          4WSF.A|TTDTRRRVKLYALNAER...| 0.16216215|  0.4774775|0.36036035|XXCCTTEEEEEEECTTS...|XXCCCCEEEEEEECCCC...|alpha+beta|[TT, TD, DT, TR, ...|[0.08064892691029...|\n",
      "+----------------+--------------------+-----------+-----------+----------+--------------------+--------------------+----------+--------------------+--------------------+\n",
      "only showing top 10 rows\n",
      "\n"
     ]
    }
   ],
   "source": [
    "encoder = ProteinSequenceEncoder(data)\n",
    "n = 2 # Create 2-grams\n",
    "windowSize = 25 # 25-amino residue window size for Word2Vec\n",
    "vectorSize = 50 # dimension of feature vector\n",
    "# overlapping_ngram_word2vec_encode uses keyword attributes\n",
    "data = encoder.overlapping_ngram_word2vec_encode(n = n, windowSize = windowSize, vectorSize=vectorSize).cache()\n",
    "\n",
    "data.printSchema()\n",
    "data.show(10)"
   ]
  },
  {
   "cell_type": "markdown",
   "metadata": {},
   "source": [
    "## Keep only a subset of relevant fields for futher processing"
   ]
  },
  {
   "cell_type": "code",
   "execution_count": 8,
   "metadata": {},
   "outputs": [
    {
     "name": "stdout",
     "output_type": "stream",
     "text": [
      "+----------------+-----------+-----------+----------+----------+--------------------+\n",
      "|structureChainId|      alpha|       beta|      coil|  foldType|            features|\n",
      "+----------------+-----------+-----------+----------+----------+--------------------+\n",
      "|          4WMY.B| 0.17081851| 0.26334518| 0.5658363|alpha+beta|[0.16776788024934...|\n",
      "|          4WN5.A|  0.2962963| 0.37962964|0.32407406|alpha+beta|[0.21019394612429...|\n",
      "|          4WND.B|0.115384616|        0.0|0.88461536|     other|[0.09861392040665...|\n",
      "|          4WP6.A| 0.45695364|0.119205296|0.42384106|alpha+beta|[0.04305993950833...|\n",
      "|          4WP9.A|  0.3939394|  0.3151515|0.29090908|alpha+beta|[-0.0690641615814...|\n",
      "|          4WPG.A| 0.39372823| 0.17073171|0.43554008|alpha+beta|[0.00626527878921...|\n",
      "|          4WPK.A|  0.4122807|0.114035085|0.47368422|alpha+beta|[-0.2018287289683...|\n",
      "|          4WQD.A|  0.3991228|0.057017542|0.54385966|alpha+beta|[-0.1654694509651...|\n",
      "|          4WRI.A| 0.62032086|0.053475935| 0.3262032|alpha+beta|[-0.0880531944646...|\n",
      "|          4WSF.A| 0.16216215|  0.4774775|0.36036035|alpha+beta|[0.08064892691029...|\n",
      "+----------------+-----------+-----------+----------+----------+--------------------+\n",
      "only showing top 10 rows\n",
      "\n"
     ]
    }
   ],
   "source": [
    "data = data.select(\"structureChainId\", \"alpha\", \"beta\", \"coil\", \"foldType\", \"features\")\n",
    "\n",
    "data.show(10)"
   ]
  },
  {
   "cell_type": "markdown",
   "metadata": {},
   "source": [
    "## Terminate Spark Context"
   ]
  },
  {
   "cell_type": "code",
   "execution_count": 9,
   "metadata": {},
   "outputs": [],
   "source": [
    "spark.stop()"
   ]
  }
 ],
 "metadata": {
  "kernelspec": {
   "display_name": "Python 3",
   "language": "python",
   "name": "python3"
  },
  "language_info": {
   "codemirror_mode": {
    "name": "ipython",
    "version": 3
   },
   "file_extension": ".py",
   "mimetype": "text/x-python",
   "name": "python",
   "nbconvert_exporter": "python",
   "pygments_lexer": "ipython3",
   "version": "3.7.3"
  }
 },
 "nbformat": 4,
 "nbformat_minor": 2
}
