{
 "cells": [
  {
   "cell_type": "markdown",
   "metadata": {},
   "source": [
    "# Filter By Polymer Chain Type Demo\n",
    "\n",
    "This example shows how to build a custom filter for polymer chain types. It also demonstrates how to combine filters with **or**, **and**, and **not**.\n",
    "\n",
    "#### Supported polymer chain type includes  (Both string and class variable can be used a input parameter)\n",
    "\n",
    "* ContainsPolymerChainType.D_PEPTIDE_COOH_CARBOXY_TERMINUS = \"D-PEPTIDE COOH CARBOXY TERMINUS\"\n",
    "* ContainsPolymerChainType.D_PEPTIDE_NH3_AMINO_TERMINUS = \"D-PEPTIDE NH3 AMINO TERMINUS\"\n",
    "* ContainsPolymerChainType.D_PEPTIDE_LINKING = \"D-PEPTIDE LINKING\"\n",
    "* ContainsPolymerChainType.D_SACCHARIDE = \"D-SACCHARIDE\"\n",
    "* ContainsPolymerChainType.D_SACCHARIDE_14_and_14_LINKING = \"D-SACCHARIDE 1,4 AND 1,4 LINKING\"\n",
    "* ContainsPolymerChainType.D_SACCHARIDE_14_and_16_LINKING = \"D-SACCHARIDE 1,4 AND 1,6 LINKING\"\n",
    "* ContainsPolymerChainType.DNA_OH_3_PRIME_TERMINUS = \"DNA OH 3 PRIME TERMINUS\"\n",
    "* ContainsPolymerChainType.DNA_OH_5_PRIME_TERMINUS = \"DNA OH 5 PRIME TERMINUS\"\n",
    "* ContainsPolymerChainType.DNA_LINKING = \"DNA LINKING\"\n",
    "* ContainsPolymerChainType.L_PEPTIDE_COOH_CARBOXY_TERMINUS = \"L-PEPTIDE COOH CARBOXY TERMINUS\"\n",
    "* ContainsPolymerChainType.L_PEPTIDE_NH3_AMINO_TERMINUS = \"L-PEPTIDE NH3 AMINO TERMINUS\"\n",
    "* ContainsPolymerChainType.L_PEPTIDE_LINKING = \"L-PEPTIDE LINKING\"\n",
    "* ContainsPolymerChainType.L_SACCHARIDE = \"L-SACCHARIDE\"\n",
    "* ContainsPolymerChainType.L_SACCHARIDE_14_AND_14_LINKING = \"L-SACCHARDIE 1,4 AND 1,4 LINKING\"\n",
    "* ContainsPolymerChainType.L_SACCHARIDE_14_AND_16_LINKING = \"L-SACCHARIDE 1,4 AND 1,6 LINKING\"\n",
    "* ContainsPolymerChainType.PEPTIDE_LINKING = \"PEPTIDE LINKING\"\n",
    "* ContainsPolymerChainType.RNA_OH_3_PRIME_TERMINUS = \"RNA OH 3 PRIME TERMINUS\"\n",
    "* ContainsPolymerChainType.RNA_OH_5_PRIME_TERMINUS = \"RNA OH 5 PRIME TERMINUS\"\n",
    "* ContainsPolymerChainType.RNA_LINKING = \"RNA LINKING\"\n",
    "* ContainsPolymerChainType.OTHER = \"OTHER\"\n",
    "* ContainsPolymerChainType.SACCHARIDE = \"SACCHARIDE\""
   ]
  },
  {
   "cell_type": "code",
   "execution_count": 1,
   "metadata": {},
   "outputs": [],
   "source": [
    "from pyspark.sql import SparkSession\n",
    "from mmtfPyspark.io import mmtfReader\n",
    "from mmtfPyspark.filters import *\n",
    "from mmtfPyspark.structureViewer import view_structure"
   ]
  },
  {
   "cell_type": "markdown",
   "metadata": {},
   "source": [
    "#### Configure Spark "
   ]
  },
  {
   "cell_type": "code",
   "execution_count": 2,
   "metadata": {},
   "outputs": [],
   "source": [
    "spark = SparkSession.builder.master(\"local[4]\") \\\n",
    "                                 .appName(\"FilterByPolymerChainTypeDemo\") \\\n",
    "                                 .getOrCreate()"
   ]
  },
  {
   "cell_type": "markdown",
   "metadata": {},
   "source": [
    "## Read in MMTF Files, filter and count\n",
    "\n",
    "The `ContainsPolymerChainType` filter can be used to create a custom filter.  We also show how to negate a filter by wrapping it in a `NotFilter`. Here we create a filter that returns structure that:\n",
    "1. Contain polymer chains with L-amino acids, **or** D-amino acids, **or** Glycine (PEPTIDE_LINKING)\n",
    "2. **And** that do **not** contain DNA **or** RNA polymer chains."
   ]
  },
  {
   "cell_type": "code",
   "execution_count": 3,
   "metadata": {},
   "outputs": [
    {
     "name": "stdout",
     "output_type": "stream",
     "text": [
      "Number of proteins: 9707\n"
     ]
    }
   ],
   "source": [
    "path = \"../../resources/mmtf_reduced_sample/\"\n",
    "\n",
    "structures = mmtfReader.read_sequence_file(path) \\\n",
    "                .filter(ContainsPolymerChainType([ContainsPolymerChainType.L_PEPTIDE_LINKING,  # use predefined types\n",
    "                                                  ContainsPolymerChainType.D_PEPTIDE_LINKING,  # multiple types are or-ed\n",
    "                                                  ContainsPolymerChainType.PEPTIDE_LINKING])) \\\n",
    "                .filter(NotFilter(ContainsPolymerChainType([\"DNA_LINKING\",  ## or specify types as strings\n",
    "                                                            \"RNA_LINKING\"])))\n",
    "                                                            \n",
    "print(f\"Number of proteins: {structures.count()}\")"
   ]
  },
  {
   "cell_type": "markdown",
   "metadata": {},
   "source": [
    "## View Structures"
   ]
  },
  {
   "cell_type": "code",
   "execution_count": 4,
   "metadata": {},
   "outputs": [
    {
     "data": {
      "application/vnd.jupyter.widget-view+json": {
       "model_id": "9c1156650028432994f45eb95b1c1662",
       "version_major": 2,
       "version_minor": 0
      },
      "text/plain": [
       "interactive(children=(IntSlider(value=0, continuous_update=False, description='Structure', max=9706), Output()…"
      ]
     },
     "metadata": {},
     "output_type": "display_data"
    }
   ],
   "source": [
    "structure_names = structures.keys().collect()\n",
    "view_structure(structure_names, style='sphere');"
   ]
  },
  {
   "cell_type": "markdown",
   "metadata": {},
   "source": [
    "## Terminate Spark "
   ]
  },
  {
   "cell_type": "code",
   "execution_count": 5,
   "metadata": {},
   "outputs": [],
   "source": [
    "spark.stop()"
   ]
  }
 ],
 "metadata": {
  "kernelspec": {
   "display_name": "Python 3",
   "language": "python",
   "name": "python3"
  },
  "language_info": {
   "codemirror_mode": {
    "name": "ipython",
    "version": 3
   },
   "file_extension": ".py",
   "mimetype": "text/x-python",
   "name": "python",
   "nbconvert_exporter": "python",
   "pygments_lexer": "ipython3",
   "version": "3.7.3"
  }
 },
 "nbformat": 4,
 "nbformat_minor": 2
}
