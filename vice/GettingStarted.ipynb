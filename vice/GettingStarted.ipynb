{
 "cells": [
  {
   "cell_type": "markdown",
   "metadata": {},
   "source": [
    "# Getting Started with mmf-pyspark on CyVerse/Vice"
   ]
  },
  {
   "cell_type": "markdown",
   "metadata": {},
   "source": [
    "mmtf-pyspark is a prototype framework for the interactive mining of 3D structures in the Protein Data Bank (PDB)."
   ]
  },
  {
   "cell_type": "code",
   "execution_count": 1,
   "metadata": {},
   "outputs": [],
   "source": [
    "from pyspark.sql import SparkSession   \n",
    "from mmtfPyspark import structureViewer\n",
    "from mmtfPyspark.io import mmtfReader\n",
    "from mmtfPyspark.filters import ContainsLProteinChain, ExperimentalMethods, Resolution"
   ]
  },
  {
   "cell_type": "markdown",
   "metadata": {},
   "source": [
    "# A simple Example\n",
    "This example shows how to setup mmtf-pyspark in a Jupyter Notebook, read the PDB archive, and apply filters to create a subset of structures."
   ]
  },
  {
   "cell_type": "markdown",
   "metadata": {},
   "source": [
    "### Configure Spark\n",
    "mmtf-pyspark uses [Apache Spark](https://spark.apache.org/), an analytics engine for large-scale data processing. As a first step, start a Spark session."
   ]
  },
  {
   "cell_type": "code",
   "execution_count": 2,
   "metadata": {},
   "outputs": [],
   "source": [
    "spark = SparkSession.builder.appName(\"GettingStarted\").getOrCreate()"
   ]
  },
  {
   "cell_type": "markdown",
   "metadata": {},
   "source": [
    "### Read PDB Archive\n",
    "mmtf-pyspark reads the PDB in [MMTF format](https://mmtf.rcsb.org). This notebook uses a local copy of this file stored in the CyVerse Data Store."
   ]
  },
  {
   "cell_type": "code",
   "execution_count": 3,
   "metadata": {},
   "outputs": [
    {
     "name": "stdout",
     "output_type": "stream",
     "text": [
      "Hadoop Sequence file path: MMTF_FULL=/Users/peter/MMTF_Files/full\n"
     ]
    }
   ],
   "source": [
    "pdb = mmtfReader.read_full_sequence_file()"
   ]
  },
  {
   "cell_type": "markdown",
   "metadata": {},
   "source": [
    "### Apply filters\n",
    "Create a subset of high-resolution protein structures.\n",
    "1. Resolution <= 2 A\n",
    "2. X-ray structures\n",
    "3. Structures containing exclusively protein chains (no DNA or RNA)"
   ]
  },
  {
   "cell_type": "code",
   "execution_count": 4,
   "metadata": {},
   "outputs": [],
   "source": [
    "pdb = pdb.filter(Resolution(0.0, 2.0)) \\\n",
    "         .filter(ExperimentalMethods(ExperimentalMethods.X_RAY_DIFFRACTION)) \\\n",
    "         .filter(ContainsLProteinChain(exclusive=True))"
   ]
  },
  {
   "cell_type": "markdown",
   "metadata": {},
   "source": [
    "### Create a list of the matching PDB IDs"
   ]
  },
  {
   "cell_type": "code",
   "execution_count": 5,
   "metadata": {},
   "outputs": [],
   "source": [
    "pdb_ids = pdb.keys().collect()"
   ]
  },
  {
   "cell_type": "code",
   "execution_count": 6,
   "metadata": {},
   "outputs": [
    {
     "name": "stdout",
     "output_type": "stream",
     "text": [
      "Number of high-resolution protein structures: 55910\n"
     ]
    }
   ],
   "source": [
    "print(\"Number of high-resolution protein structures:\", len(pdb_ids))"
   ]
  },
  {
   "cell_type": "markdown",
   "metadata": {},
   "source": [
    "### View structures\n",
    "Use the slider to browse through the structures."
   ]
  },
  {
   "cell_type": "code",
   "execution_count": 7,
   "metadata": {
    "scrolled": false
   },
   "outputs": [
    {
     "data": {
      "application/vnd.jupyter.widget-view+json": {
       "model_id": "8a476b44004141cc910bf2a725c88c83",
       "version_major": 2,
       "version_minor": 0
      },
      "text/plain": [
       "interactive(children=(IntSlider(value=0, continuous_update=False, description='Structure', max=55909), Output(…"
      ]
     },
     "metadata": {},
     "output_type": "display_data"
    }
   ],
   "source": [
    "structureViewer.view_structure(pdb_ids, bioAssembly = False, style='cartoon', color='spectrum');"
   ]
  },
  {
   "cell_type": "markdown",
   "metadata": {},
   "source": [
    "### Stop spark\n",
    "Always run the notebooks to the end to stop Spark! Having multiple Spark sessions running at the same time will cause problems."
   ]
  },
  {
   "cell_type": "code",
   "execution_count": 8,
   "metadata": {},
   "outputs": [],
   "source": [
    "spark.stop()"
   ]
  },
  {
   "cell_type": "markdown",
   "metadata": {},
   "source": [
    "# How to Get Started with mmtf-pyspark"
   ]
  },
  {
   "cell_type": "markdown",
   "metadata": {},
   "source": [
    "## Try out the Demos\n",
    "Navigate to the **mmtf-pyspark/demos** directory and sub-directories in the left-hand panel to try out the various features of mmtf-pyspark. "
   ]
  },
  {
   "cell_type": "markdown",
   "metadata": {},
   "source": [
    "## Work through the Online Tutorial\n",
    "For a comprehensive introduction to mmtf-pyspark, work through the presentions, notebooks, and problems in our online workshop (https://github.com/sbl-sdsc/mmtf-workshop-2018)."
   ]
  },
  {
   "cell_type": "markdown",
   "metadata": {},
   "source": [
    "## Read the mmtf-pyspark Documentation\n",
    "mmtf-pyspark [API documentation](https://mmtf-pyspark.readthedocs.io/en/latest/)"
   ]
  },
  {
   "cell_type": "markdown",
   "metadata": {},
   "source": [
    "## Try out other applications built on mmtf-pyspark\n",
    "* [mmtf-genomics](https://github.com/sbl-sdsc/mmtf-genomics) Methods for mapping genomic data onto 3D protein structure.\n",
    "\n",
    "* [mmtf-proteomics](https://github.com/sbl-sdsc/mmtf-proteomics) Methods for mapping proteomics data on 3D protein structure."
   ]
  },
  {
   "cell_type": "markdown",
   "metadata": {},
   "source": [
    "## Get Help\n",
    "Please post your questions or feature requests [here](https://github.com/sbl-sdsc/mmtf-pyspark/issues/new)."
   ]
  }
 ],
 "metadata": {
  "kernelspec": {
   "display_name": "Python 3",
   "language": "python",
   "name": "python3"
  },
  "language_info": {
   "codemirror_mode": {
    "name": "ipython",
    "version": 3
   },
   "file_extension": ".py",
   "mimetype": "text/x-python",
   "name": "python",
   "nbconvert_exporter": "python",
   "pygments_lexer": "ipython3",
   "version": "3.7.3"
  }
 },
 "nbformat": 4,
 "nbformat_minor": 2
}
