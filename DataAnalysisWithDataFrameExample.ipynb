{
 "cells": [
  {
   "cell_type": "markdown",
   "metadata": {},
   "source": [
    "# Datamining the Protein Data Bank with mmtf-pyspark"
   ]
  },
  {
   "cell_type": "markdown",
   "metadata": {},
   "source": [
    "Mmtf-pyspark is a framework for the interactive mining of the Protein Data Bank (PDB). As an example, this demo analyzes the environment around zinc ions in proteins.\n",
    "\n",
    "This example demonstrates how to:\n",
    "    \n",
    "* Configure pyspark\n",
    "* Read PDB structures in MMTF file format\n",
    "* Find zinc interactions with mmtf-pyspark\n",
    "* Show results in spark dataframes and pandas\n",
    "* Visualize structures in 3D\n",
    "* Plot results\n",
    "\n",
    "For more example notebooks see the [demos folder](./demos)."
   ]
  },
  {
   "cell_type": "code",
   "execution_count": 1,
   "metadata": {
    "scrolled": true
   },
   "outputs": [],
   "source": [
    "from pyspark.sql import SparkSession                   \n",
    "from mmtfPyspark.io import mmtfReader                                \n",
    "from mmtfPyspark.webfilters import Pisces                        \n",
    "from mmtfPyspark.datasets import groupInteractionExtractor\n",
    "from mmtfPyspark.structureViewer import view_group_interaction\n",
    "import pandas as pd"
   ]
  },
  {
   "cell_type": "markdown",
   "metadata": {},
   "source": [
    "## Configure Spark\n",
    "Setup pyspark to run locally on 4 cores."
   ]
  },
  {
   "cell_type": "code",
   "execution_count": 2,
   "metadata": {},
   "outputs": [],
   "source": [
    "spark = SparkSession.builder.master(\"local[4]\").appName(\"Demo\").getOrCreate()"
   ]
  },
  {
   "cell_type": "markdown",
   "metadata": {},
   "source": [
    "## Read PDB structures\n",
    "Read a provided sample (~10,000 structures) of the PDB in MMTF format (https://mmtf.rcsb.org)."
   ]
  },
  {
   "cell_type": "code",
   "execution_count": 3,
   "metadata": {},
   "outputs": [],
   "source": [
    "path = \"./resources/mmtf_full_sample/\"\n",
    "pdb = mmtfReader.read_sequence_file(path)"
   ]
  },
  {
   "cell_type": "markdown",
   "metadata": {},
   "source": [
    "## Create a non-redundant subset\n",
    "Create a Pisces (Protein Sequence Culling Server, http://dunbrack.fccc.edu/PISCES.php) non-redundant subset for this analysis. Select protein chains with less than 20% sequence identity among each other and a resolution of 2.0 A or better."
   ]
  },
  {
   "cell_type": "code",
   "execution_count": 4,
   "metadata": {},
   "outputs": [],
   "source": [
    "pdb = pdb.filter(Pisces(sequenceIdentity = 20, resolution = 2.0))  "
   ]
  },
  {
   "cell_type": "markdown",
   "metadata": {},
   "source": [
    "## Extract Zinc interactions\n",
    "Find interactions within 3 A around each zinc and show 10 interactions in a dataframe."
   ]
  },
  {
   "cell_type": "code",
   "execution_count": 5,
   "metadata": {},
   "outputs": [
    {
     "name": "stdout",
     "output_type": "stream",
     "text": [
      "+-----------+--------+-----+--------+------+--------+-----+--------+------+---------+\n",
      "|structureId|residue1|atom1|element1|index1|residue2|atom2|element2|index2| distance|\n",
      "+-----------+--------+-----+--------+------+--------+-----+--------+------+---------+\n",
      "|       1HFE|      ZN|   ZN|      Zn|   978|     HIS|  CE1|       C|    46|2.1662953|\n",
      "|       1HFE|      ZN|   ZN|      Zn|   978|     ASP|   CG|       C|    50|2.8161302|\n",
      "|       1HFE|      ZN|   ZN|      Zn|   978|     ASP|  OD2|       O|    50|1.9296358|\n",
      "|       1HFE|      ZN|   ZN|      Zn|   978|     HIS|  CD2|       C|   531|2.9568312|\n",
      "|       1HFE|      ZN|   ZN|      Zn|   978|     HIS|  NE2|       N|   531|2.1217477|\n",
      "|       1HFE|      ZN|   ZN|      Zn|   978|     ASP|   CG|       C|   535|2.8353317|\n",
      "|       1HFE|      ZN|   ZN|      Zn|   978|     ASP|  OD2|       O|   535|1.9745901|\n",
      "|       4N4F|      ZN|   ZN|      Zn|   197|     CYS|   SG|       S|   118|2.3287177|\n",
      "|       4N4F|      ZN|   ZN|      Zn|   197|     CYS|   SG|       S|   119|2.4147918|\n",
      "|       4N4F|      ZN|   ZN|      Zn|   197|     HIS|  ND1|       N|   169|2.1114113|\n",
      "+-----------+--------+-----+--------+------+--------+-----+--------+------+---------+\n",
      "only showing top 10 rows\n",
      "\n"
     ]
    }
   ],
   "source": [
    "finder = groupInteractionExtractor('ZN', distance = 3.0)       \n",
    "interactions = finder.get_dataset(pdb)\n",
    "\n",
    "interactions.show(10)"
   ]
  },
  {
   "cell_type": "markdown",
   "metadata": {},
   "source": [
    "## Get list of unique PDB Ids"
   ]
  },
  {
   "cell_type": "code",
   "execution_count": 6,
   "metadata": {},
   "outputs": [],
   "source": [
    "# Extract list of PDB Ids from dataframe\n",
    "pdbIds = [row.structureId for row in interactions.collect()]\n",
    "\n",
    "# Get unique PDB Ids and convert back to list\n",
    "unique_pdbIds = list(set(pdbIds))"
   ]
  },
  {
   "cell_type": "markdown",
   "metadata": {},
   "source": [
    "## Visualize hits\n",
    "Browse through the list by moving the slider. Note, run the notebook all the way to the end, before moving the slider."
   ]
  },
  {
   "cell_type": "code",
   "execution_count": 7,
   "metadata": {},
   "outputs": [
    {
     "data": {
      "application/vnd.jupyter.widget-view+json": {
       "model_id": "e09f7e97d7ca422b96cf7045b458e8f6",
       "version_major": 2,
       "version_minor": 0
      },
      "text/plain": [
       "interactive(children=(IntSlider(value=0, continuous_update=False, description='Structure', max=399), Output())…"
      ]
     },
     "metadata": {},
     "output_type": "display_data"
    }
   ],
   "source": [
    "view_group_interaction(unique_pdbIds, 'ZN', style = 'stick');"
   ]
  },
  {
   "cell_type": "markdown",
   "metadata": {},
   "source": [
    "## Show top 10 interacting groups  \n",
    "Determine the most common groups that interact with zinc in proteins. Interactions with carbon are ignored. To show the data, we convert the dataframe to Pandas to create a well-formated table.\n"
   ]
  },
  {
   "cell_type": "code",
   "execution_count": 8,
   "metadata": {},
   "outputs": [
    {
     "data": {
      "text/html": [
       "<div>\n",
       "<style scoped>\n",
       "    .dataframe tbody tr th:only-of-type {\n",
       "        vertical-align: middle;\n",
       "    }\n",
       "\n",
       "    .dataframe tbody tr th {\n",
       "        vertical-align: top;\n",
       "    }\n",
       "\n",
       "    .dataframe thead th {\n",
       "        text-align: right;\n",
       "    }\n",
       "</style>\n",
       "<table border=\"1\" class=\"dataframe\">\n",
       "  <thead>\n",
       "    <tr style=\"text-align: right;\">\n",
       "      <th></th>\n",
       "      <th>residue2</th>\n",
       "      <th>count</th>\n",
       "    </tr>\n",
       "  </thead>\n",
       "  <tbody>\n",
       "    <tr>\n",
       "      <th>0</th>\n",
       "      <td>CYS</td>\n",
       "      <td>1115</td>\n",
       "    </tr>\n",
       "    <tr>\n",
       "      <th>1</th>\n",
       "      <td>HIS</td>\n",
       "      <td>998</td>\n",
       "    </tr>\n",
       "    <tr>\n",
       "      <th>2</th>\n",
       "      <td>HOH</td>\n",
       "      <td>816</td>\n",
       "    </tr>\n",
       "    <tr>\n",
       "      <th>3</th>\n",
       "      <td>GLU</td>\n",
       "      <td>630</td>\n",
       "    </tr>\n",
       "    <tr>\n",
       "      <th>4</th>\n",
       "      <td>ASP</td>\n",
       "      <td>565</td>\n",
       "    </tr>\n",
       "    <tr>\n",
       "      <th>5</th>\n",
       "      <td>ACT</td>\n",
       "      <td>66</td>\n",
       "    </tr>\n",
       "    <tr>\n",
       "      <th>6</th>\n",
       "      <td>CAC</td>\n",
       "      <td>43</td>\n",
       "    </tr>\n",
       "    <tr>\n",
       "      <th>7</th>\n",
       "      <td>ZN</td>\n",
       "      <td>36</td>\n",
       "    </tr>\n",
       "    <tr>\n",
       "      <th>8</th>\n",
       "      <td>CL</td>\n",
       "      <td>36</td>\n",
       "    </tr>\n",
       "    <tr>\n",
       "      <th>9</th>\n",
       "      <td>PO4</td>\n",
       "      <td>26</td>\n",
       "    </tr>\n",
       "  </tbody>\n",
       "</table>\n",
       "</div>"
      ],
      "text/plain": [
       "  residue2  count\n",
       "0      CYS   1115\n",
       "1      HIS    998\n",
       "2      HOH    816\n",
       "3      GLU    630\n",
       "4      ASP    565\n",
       "5      ACT     66\n",
       "6      CAC     43\n",
       "7       ZN     36\n",
       "8       CL     36\n",
       "9      PO4     26"
      ]
     },
     "execution_count": 8,
     "metadata": {},
     "output_type": "execute_result"
    }
   ],
   "source": [
    "df = interactions.filter(\"element2 != 'C'\")\\\n",
    "                 .groupBy(\"residue2\")\\\n",
    "                 .count()\\\n",
    "                 .sort(\"count\", ascending=False)\\\n",
    "                 .toPandas()\n",
    "df.head(10)"
   ]
  },
  {
   "cell_type": "markdown",
   "metadata": {},
   "source": [
    "## Plot histogram for top 10 interacting groups"
   ]
  },
  {
   "cell_type": "code",
   "execution_count": 9,
   "metadata": {},
   "outputs": [
    {
     "data": {
      "image/png": "[encoded data removed]",
      "text/plain": [
       "<Figure size 432x288 with 1 Axes>"
      ]
     },
     "metadata": {},
     "output_type": "display_data"
    }
   ],
   "source": [
    "df.head(10).plot(x='residue2', y='count', kind='bar');"
   ]
  },
  {
   "cell_type": "markdown",
   "metadata": {},
   "source": [
    "## Stop spark\n",
    "Always run the notebook to the end to stop spark!"
   ]
  },
  {
   "cell_type": "code",
   "execution_count": 10,
   "metadata": {},
   "outputs": [],
   "source": [
    "spark.stop()"
   ]
  }
 ],
 "metadata": {
  "kernelspec": {
   "display_name": "Python 3",
   "language": "python",
   "name": "python3"
  },
  "language_info": {
   "codemirror_mode": {
    "name": "ipython",
    "version": 3
   },
   "file_extension": ".py",
   "mimetype": "text/x-python",
   "name": "python",
   "nbconvert_exporter": "python",
   "pygments_lexer": "ipython3",
   "version": "3.6.4"
  }
 },
 "nbformat": 4,
 "nbformat_minor": 2
}
